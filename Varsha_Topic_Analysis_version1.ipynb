{
 "cells": [
  {
   "cell_type": "markdown",
   "metadata": {},
   "source": [
    "# Commands to install the following\n",
    "\n",
    "# conda install -c spacy spacy \n",
    "# conda install -c conda-forge pyldavis \n",
    "# python -m spacy download en"
   ]
  },
  {
   "cell_type": "markdown",
   "metadata": {},
   "source": [
    "In LDA, each document may be viewed as a mixture of various topics where each document is considered to have a set of topics that are assigned to it via LDA. This is identical to probabilistic latent semantic analysis (pLSA), except that in LDA the topic distribution is assumed to have a sparse Dirichlet prior. The sparse Dirichlet priors encode the intuition that documents cover only a small set of topics and that topics use only a small set of words frequently. In practice, this results in a better disambiguation of words and a more precise assignment of documents to topics. LDA is a generalization of the pLSA model, which is equivalent to LDA under a uniform Dirichlet prior distribution.["
   ]
  },
  {
   "cell_type": "markdown",
   "metadata": {},
   "source": [
    "We use the following function to clean our texts and return a list of tokens"
   ]
  },
  {
   "cell_type": "code",
   "execution_count": 1,
   "metadata": {},
   "outputs": [],
   "source": [
    "\n",
    "import spacy\n",
    "spacy.load('en')\n",
    "from spacy.lang.en import English\n",
    "parser = English()\n",
    "def tokenize(text):\n",
    "    lda_tokens = []\n",
    "    tokens = parser(text)\n",
    "    for token in tokens:\n",
    "        if token.orth_.isspace():\n",
    "            continue\n",
    "        elif token.like_url:\n",
    "            lda_tokens.append('URL')\n",
    "        elif token.orth_.startswith('@'):\n",
    "            lda_tokens.append('SCREEN_NAME')\n",
    "        else:\n",
    "            lda_tokens.append(token.lower_)\n",
    "    return lda_tokens"
   ]
  },
  {
   "cell_type": "markdown",
   "metadata": {},
   "source": [
    "We use NLTK’s Wordnet to find the meanings of words, synonyms, antonyms, and more. In addition, we use WordNetLemmatizer to get the root word.\n",
    "\n"
   ]
  },
  {
   "cell_type": "code",
   "execution_count": 2,
   "metadata": {},
   "outputs": [
    {
     "name": "stdout",
     "output_type": "stream",
     "text": [
      "[nltk_data] Downloading package wordnet to /Users/varsha/nltk_data...\n",
      "[nltk_data]   Package wordnet is already up-to-date!\n"
     ]
    }
   ],
   "source": [
    "import nltk\n",
    "nltk.download('wordnet')\n",
    "from nltk.corpus import wordnet as wn\n",
    "def get_lemma(word):\n",
    "    lemma = wn.morphy(word)\n",
    "    if lemma is None:\n",
    "        return word\n",
    "    else:\n",
    "        return lemma"
   ]
  },
  {
   "cell_type": "code",
   "execution_count": 3,
   "metadata": {},
   "outputs": [],
   "source": [
    "from nltk.stem.wordnet import WordNetLemmatizer\n",
    "def get_lemma2(word):\n",
    "    return WordNetLemmatizer().lemmatize(word)"
   ]
  },
  {
   "cell_type": "markdown",
   "metadata": {},
   "source": [
    "Filtering out stop words:"
   ]
  },
  {
   "cell_type": "code",
   "execution_count": 4,
   "metadata": {},
   "outputs": [
    {
     "name": "stdout",
     "output_type": "stream",
     "text": [
      "[nltk_data] Downloading package stopwords to\n",
      "[nltk_data]     /Users/varsha/nltk_data...\n",
      "[nltk_data]   Package stopwords is already up-to-date!\n"
     ]
    }
   ],
   "source": [
    "nltk.download('stopwords')\n",
    "en_stop = set(nltk.corpus.stopwords.words('english'))\n"
   ]
  },
  {
   "cell_type": "markdown",
   "metadata": {},
   "source": [
    " \n",
    "Now we can define a function to prepare the text for topic modelling:"
   ]
  },
  {
   "cell_type": "code",
   "execution_count": 5,
   "metadata": {},
   "outputs": [],
   "source": [
    "def prepare_text_for_lda(text):\n",
    "    tokens = tokenize(text)\n",
    "    tokens = [token for token in tokens if len(token) > 4]\n",
    "    tokens = [token for token in tokens if token not in en_stop]\n",
    "    tokens = [get_lemma(token) for token in tokens]\n",
    "    return tokens"
   ]
  },
  {
   "cell_type": "markdown",
   "metadata": {},
   "source": [
    "Open up the data, read line by line, for each line, prepare text for LDA, then add to a list.\n",
    "\n",
    "Data converted to csv"
   ]
  },
  {
   "cell_type": "code",
   "execution_count": 6,
   "metadata": {},
   "outputs": [
    {
     "name": "stdout",
     "output_type": "stream",
     "text": [
      "['chris', 'twitter', 'quot;@nelsonforsenate', 'partial', 'birth', 'killing', 'scotus', 'uphold', 'allow', 'revoke', 'SCREEN_NAME', 'SCREEN_NAME', 'SCREEN_NAME', 'SCREEN_NAME', 'redwave2018', '15:31:03,chris,.0,nelson,1054817497860370000.0']\n",
      "['invest', 'elect', 'illinois', 'twitter', 'quot;yep', 'health', 'medicare', 'SCREEN_NAME', 'SCREEN_NAME', 'SCREEN_NAME', 'SCREEN_NAME', 'SCREEN_NAME', 'SCREEN_NAME', 'SCREEN_NAME', 'SCREEN_NAME', 'SCREEN_NAME', 'SCREEN_NAME', '14:27:53,#ilvote', '11/6,1.0,nelson,1054076825079550000.0']\n",
      "['light', 'twitter', 'quot;your', 'right', 'don&#39;t', 'think', 'election', 'could', 'problem', '11:43:28,bud', 'light', ',.0,nelson,1054035446458710000.0']\n",
      "['misogyny', 'twitter', 'quot;did', 'fraud', 'quot;,2018', '15:53:02,joni', 'skibo', 'lacriox,2.0,scott,1054823029056910000.0']\n",
      "['twitter', 'quot;there', 'poll', 'backup', 'claim', 'eather', 'kavaugh', 'fading', 'pollster', 'likely', 'voter', 'model', 'overestimate', '15:19:59,rip', '2019,1.0,rosen,1054452326138660000.0']\n",
      "['carol', 'forden', 'twitter', 'quot;here&#39;s', 'SCREEN_NAME', 'cheering', 'right', 'vote', 'strip', 'preexist', 'conditions', 'coverage', 'health', 'insurance', 'million', 'american', '13:38:37,carol', 'forden,.0,rosen,1054426815232720000.0']\n",
      "['hawaiian', 'comedian', 'twitter', 'quot;godbless', 'jacki', 'rosen', 'veteran', 'suppojackie', 'veteran', 'transfer', 'welfare', 'heller', 'plan', 'destroy', 'veteran', 'pension', 'retirement', 'social', 'security', 'payment', '712.00', 'month', 'destroy', 'veteran', 'military', 'retirement', 'trump', 'nightmare', '11:37:41,hawaiian', 'comedian,1.0,rosen,1054396382541270000.0']\n",
      "['appeal', 'heaven', 'μολὼν', 'twitter', 'quot;pelosi', 'keeping', 'harry', 'reid&#39;s', 'machine', 'running', 'guise', 'puppet', 'SCREEN_NAME', '10;&#10;its', 'surprise', 'democrat', 'accomplish', 'cheat', '11:24:57,\"feelin', 'froggy', 'μολὼν', 'λαβέ\",.0,rosen,1054393176029450000.0']\n",
      "['mobileinfantry', 'twitter', 'quot;if', 'didn&#39;t', 'actively', 'discriminate', 'white', 'christian', 'intersectional', 'theory', 'human', 'worth', 'would', 'think', '10:44:59,mobileinfantry,.0,rosen,1054383119829270000.0']\n",
      "['martin', 'twitter', 'quot;join', 'themovement', '10;i&#39;ll', 'caravaninvasion', '10;bobby', 'leatherman', 'jamal', 'khashoggi', 'abortion&#10;#ondeck', 'SCREEN_NAME', '10;@julie_kelly2', 'political', 'sides&#10;china', 'tariff', 'mccaskill', 'SCREEN_NAME', 'et&#10;1380am', '105.3', 'SCREEN_NAME', 'smf2pcskze', '12:00:58,ed', 'martin,3.0,hawley,1054402239639490000.0']\n",
      "['larry', 'harper', 'twitter', 'quot;i', 'remember', 'limbaugh', 'calling', 'SCREEN_NAME', 'party', 'individual', 'responsibility', 'kavanaugh', 'responsible', 'action', 'regardless', 'whitewash', '10:45:19,larry', 'harper,1.0,hawley,1054383200464710000.0']\n",
      "['rachel', 'minus', 'twitter', 'quot;spare', 'outrage', 'you&#39;re', 'dumpster', 'candidate', 'campaign', 'spinning', 'control', 'hypocritehawley', '09:39:08,rac', 'minus,.0,hawley,1054366545999250000.0']\n",
      "['royal', 'smile', 'twitter', 'quot;.@clairecmc', 'SCREEN_NAME', 'outrage', 'SCREEN_NAME', 'video', 'expose', 'deception', 'outright', 'willing', 'constituent', 'elect', 'sorry', 'absolutely', 'infuriate', 'catch', '19:51:34,royal', 'smiles,4.0,mccaskill,1053071118750440000.0']\n",
      "['kathy', 'scheve', 'twitter', 'quot;claire', 'mccaskill', '10;you', 'could', 'loose', 'vote', 'bootheel', 'louis', 'county', 'turn', 'course', 'louis', 'daily', 'newspaper', 'like', 'representation', '10;#bootheelmatters&#10;#mosen', '16:39:37,kathy', 'scheve', '.0,mccaskill,1053022814989690000.0']\n",
      "['maddie', 'barry', 'twitter', 'quot;gop', 'hearts', 'everyone', 'out??????and', 'democracy', 'shining', '10:40:32,maddie', 'barry,1.0,mccaskill,1052932445128020000.0']\n",
      "['grandpa', 'steve', 'twitter', 'quot;i&#39;m', 'upset', 'dreamer', 'constitutional', 'they&#39;re', 'citizen', 'expelling', 'wrong', '15:53:45,grandpa', 'steve,.0,mccaskill,1052648882763690000.0']\n",
      "['price', 'twitter', 'quot;disarm', 'right', 'nutjob', 'nicholas', 'boston', 'globe', 'shooter', 'bundy', 'militia', 'won&#39;t', '11:03:50,greg', 'price,.0,mccaskill,1052575921352470000.0']\n",
      "['price', 'twitter', 'quot;&quot', 'o’keefe', 'video', 'edit', 'make', 'difficult', 'check', 'often', 'information', 'debunked,&quot', '10:44:11,greg', 'price,.0,mccaskill,1052570975626240000.0']\n",
      "['early', 'twitter', 'quot;#missourians', 'democratic', 'party', 'stand', 'diversity', 'inclusion', 'accept', 'progressive', 'democrat', 'alike', 'accept', 'especially', 'within', 'party', 'elect', 'SCREEN_NAME', 'democrat', 'missouri', 'voteblue', 'midtermelections&quot;\",2018', '08:38:10,vote', 'early', '6,.0,mccaskill,1052539265056460000.0']\n",
      "['SCREEN_NAME', 'today', 'SCREEN_NAME', 'join', 'local', 'organization', 'represent', 'nevada', 'diverse', 'community', 'SCREEN_NAME', 'SCREEN_NAME', '\",2018', '15:25:50,for', 'future', 'nv,6.0,heller,1054816184275690000.0']\n",
      "['redwave2018']\n",
      "['SCREEN_NAME', 'SCREEN_NAME', 'SCREEN_NAME', 'SCREEN_NAME', 'SCREEN_NAME', '19:57:50,team', 'laxalt,3.0,heller,1054159858113470000.0']\n",
      "['SCREEN_NAME']\n",
      "[]\n",
      "['SCREEN_NAME', '\",2018', '17:27:55,stephen', 'loranc,3908.0,nelson,1054122131758420000.0']\n",
      "['txsen', 'SCREEN_NAME', '\",2018', '17:06:17,bigmike??????,37.0,nelson,1054116689430960000.0']\n",
      "[]\n",
      "['SCREEN_NAME', 'today', '\",2018', '16:53:33,sharon', 'ramos,618.0,nelson,1054113483715940000.0']\n",
      "['SCREEN_NAME', 'democratic', 'senator', 'upcoming', 'midterm', 'please', 'follow']\n",
      "['SCREEN_NAME']\n",
      "['\",2018', '16:13:20,leiashadowqueen', '️????️\\u200d', 'voteblue2018,80.0,nelson,1054103360947810000.0']\n",
      "['SCREEN_NAME', '\",2018', '16:04:25,adegboyega', 'adebayo,30.0,nelson,1054101116890300000.0']\n",
      "['SCREEN_NAME', 'democratic', 'senator', 'upcoming', 'midterm', 'please', 'follow']\n",
      "['everything', 'flipthehouse', 'flipthesenate']\n",
      "['SCREEN_NAME', 'getting', 'closer', 'election']\n",
      "['ending', 'mitch', 'mcconnell', 'reign', 'terror']\n",
      "[]\n",
      "['SCREEN_NAME', 'great', 'tampa', 'florida', 'SCREEN_NAME', 'volunteer', 'candidate', 'SCREEN_NAME', 'SCREEN_NAME', 'SCREEN_NAME', '\",2018', '15:16:16,nancyl,70.0,nelson,1054088999587990000.0']\n",
      "['SCREEN_NAME', 'democratic', 'senator', 'upcoming', 'midterm', 'please', 'follow']\n",
      "[]\n",
      "[]\n",
      "['SCREEN_NAME', 'focus', 'taking', 'senate']\n",
      "[]\n",
      "['SCREEN_NAME']\n",
      "['votebluetosaveamerica']\n",
      "['SCREEN_NAME', 'beautiful', 'morning', 'canvass', 'SCREEN_NAME', 'SCREEN_NAME', 'SCREEN_NAME', 'future', 'voter', ',2018', '14:28:25,bruce', 'macdonald,33.0,nelson,1054076960614300000.0']\n",
      "['SCREEN_NAME']\n",
      "['SCREEN_NAME', 'SCREEN_NAME', 'SCREEN_NAME', 'SCREEN_NAME', 'SCREEN_NAME', 'SCREEN_NAME', 'SCREEN_NAME', 'SCREEN_NAME', 'SCREEN_NAME', 'slip', 'soap.,2018', '14:16:54,dirk', 'spezbeau,1.0,nelson,1054074062471940000.0']\n",
      "['SCREEN_NAME', 'beautiful', 'morning', 'canvass', 'SCREEN_NAME', 'SCREEN_NAME', 'SCREEN_NAME', 'future', 'voter', ',2018', '14:14:06,ramesh', 'pendakur,33.0,nelson,1054073356033630000.0']\n",
      "['flori', '\",2018', '14:05:51,jbean,62.0,nelson,1054071279408550000.0']\n",
      "['SCREEN_NAME', 'democratic', 'senator', 'upcoming', 'midterm', 'please', 'follow']\n",
      "['SCREEN_NAME']\n",
      "['SCREEN_NAME', 'great', 'tampa', 'florida', 'SCREEN_NAME', 'volunteer', 'candidate', 'SCREEN_NAME', 'SCREEN_NAME', 'SCREEN_NAME', '\",2018', '13:34:27,jeff', 'nelson,70.0,nelson,1054063376932830000.0']\n",
      "['SCREEN_NAME', 'floridian', '13:27:27,chris', 'carnahan,147.0,nelson,1054061614805240000.0']\n",
      "['SCREEN_NAME', 'today', '\",2018', '13:15:24,senecatrust,618.0,nelson,1054058581962580000.0']\n",
      "['SCREEN_NAME', 'tomorrow']\n",
      "['SCREEN_NAME']\n",
      "['SCREEN_NAME', 'focus', 'taking', 'senate']\n",
      "['SCREEN_NAME']\n",
      "['SCREEN_NAME', 'today', '\",2018', '12:56:30,janis', 'collins', 'hutton,618.0,nelson,1054053828843070000.0']\n",
      "['ending', 'mitch', 'mcconnell', 'reign', 'terror']\n",
      "['SCREEN_NAME', 'focus', 'taking', 'senate']\n",
      "[]\n",
      "['SCREEN_NAME']\n",
      "['SCREEN_NAME']\n",
      "['SCREEN_NAME']\n",
      "['SCREEN_NAME', 'local', 'resident', 'business', 'leaders', 'myers', 'today', 'hurting', 'local', 'busin', ',2018', '12:26:47,lasha,259.0,nelson,1054046350340320000.0']\n",
      "['SCREEN_NAME', 'focus', 'taking', 'senate']\n",
      "['SCREEN_NAME', 'today', '\",2018', '12:20:42,((mrwvotenov.6)),618.0,nelson,1054044818324620000.0']\n",
      "['ending', 'mitch', 'mcconnell', 'reign', 'terror']\n",
      "['SCREEN_NAME', 'today', '\",2018', '12:18:48,~', '~,618.0,nelson,1054044339092030000.0']\n",
      "['SCREEN_NAME', 'today', '\",2018', '12:18:38,jerry', 'schram,618.0,nelson,1054044296503090000.0']\n"
     ]
    },
    {
     "name": "stdout",
     "output_type": "stream",
     "text": [
      "['SCREEN_NAME', '\",2018', '12:05:01,hmarmas,3908.0,nelson,1054040870930940000.0']\n",
      "['SCREEN_NAME', 'SCREEN_NAME', 'enthusiastic', 'votes.\",2018', '11:54:35,conspiracy', 'collusion,58.0,nelson,1054038246370340000.0']\n",
      "[]\n",
      "['\",2018', '11:34:54,#carol', 'trump', 'follow', 'back,1.0,nelson,1054033294256430000.0']\n",
      "[]\n",
      "['SCREEN_NAME']\n",
      "['SCREEN_NAME', 'gorgeous', 'tampa', 'knock', 'door', 'florida', 'SCREEN_NAME', 'volunteer', 'sense', 'candidate', 'SCREEN_NAME', 'SCREEN_NAME', '\",2018', '11:24:15,gwen', 'ruda,76.0,nelson,1054030612259060000.0']\n",
      "['SCREEN_NAME', '\",2018', '11:13:39,jrohrich,3908.0,nelson,1054027945558240000.0']\n",
      "['SCREEN_NAME']\n",
      "['SCREEN_NAME']\n",
      "['support']\n",
      "['SCREEN_NAME']\n",
      "['SCREEN_NAME']\n",
      "['SCREEN_NAME', 'democratic', 'senator', 'upcoming', 'midterm', 'please', 'follow']\n",
      "[]\n",
      "['SCREEN_NAME', '\",2018', '10:24:41,randy', 'ferrell', 'vetsvote/@votevets,3908.0,nelson,1054015621028030000.0']\n",
      "['SCREEN_NAME']\n",
      "['SCREEN_NAME', '\",2018', '10:17:48,gayle', 'cartwright,3908.0,nelson,1054013887249410000.0']\n",
      "[]\n",
      "[]\n",
      "['SCREEN_NAME', 'SCREEN_NAME', 'SCREEN_NAME', 'SCREEN_NAME', 'SCREEN_NAME', 'SCREEN_NAME', 'SCREEN_NAME', 'SCREEN_NAME', 'SCREEN_NAME', 'SCREEN_NAME', ',2018', '10:14:38,littleredblog,1.0,nelson,1054013090986110000.0']\n",
      "['support']\n",
      "['SCREEN_NAME', 'democratic', 'senator', 'upcoming', 'midterm', 'please', 'follow']\n",
      "[]\n",
      "[]\n",
      "['SCREEN_NAME']\n",
      "['SCREEN_NAME']\n",
      "['SCREEN_NAME']\n",
      "[]\n",
      "['SCREEN_NAME', 'democratic', 'senator', 'upcoming', 'midterm', 'please', 'follow']\n",
      "[]\n",
      "[]\n",
      "['SCREEN_NAME', '\",2018', '09:16:07,linda,3908.0,nelson,1053998367137640000.0']\n",
      "[]\n",
      "['SCREEN_NAME', '\",2018', '09:05:57,tanha,3908.0,nelson,1053995808058700000.0']\n",
      "['SCREEN_NAME', '\",2018', '08:58:38,maria', 'dibi,3908.0,nelson,1053993966939620000.0']\n",
      "['SCREEN_NAME', '\",2018', '08:55:21,toby', 'salter,3908.0,nelson,1053993139906670000.0']\n",
      "['SCREEN_NAME', '\",2018', '08:50:26,nabster', 'resistor,3908.0,nelson,1053991903149090000.0']\n",
      "[]\n",
      "[]\n",
      "[]\n",
      "['SCREEN_NAME', '\",2018', '08:40:22,tanya,3908.0,nelson,1053989371223900000.0']\n",
      "['SCREEN_NAME', 'democratic', 'senator', 'upcoming', 'midterm', 'please', 'follow']\n",
      "[]\n",
      "['support']\n",
      "['SCREEN_NAME']\n",
      "['SCREEN_NAME', '\",2018', '08:31:03,bethmartin,3908.0,nelson,1053987024292770000.0']\n",
      "['SCREEN_NAME', 'medium', 'bloomberg', 'hint', 'scott', 'SCREEN_NAME', 'growth']\n",
      "['SCREEN_NAME', '\",2018', '08:06:21,deb,3908.0,nelson,1053980810104120000.0']\n",
      "['SCREEN_NAME', 'democratic', 'senator', 'upcoming', 'midterm', 'please', 'follow']\n",
      "['SCREEN_NAME']\n",
      "['SCREEN_NAME']\n",
      "['SCREEN_NAME', 'democratic', 'senator', 'upcoming', 'midterm', 'please', 'follow']\n",
      "['SCREEN_NAME']\n",
      "['SCREEN_NAME']\n",
      "['corrupt', 'businessmen', 'try', 'profit', '\",2018', '07:49:47,oldestdaughterof5,807.0,nelson,1053976640886400000.0']\n",
      "['SCREEN_NAME', '\",2018', '07:38:43,julie', 'flynn,3908.0,nelson,1053973854786330000.0']\n",
      "['SCREEN_NAME', '\",2018', '07:12:41,sandra', 'dickson,91.0,nelson,1053967303711360000.0']\n",
      "['SCREEN_NAME']\n",
      "['SCREEN_NAME', 'democratic', 'senator', 'upcoming', 'midterm', 'please', 'follow']\n",
      "['SCREEN_NAME', '\",2018', '07:01:33,jim', 'tellep,3908.0,nelson,1053964503224930000.0']\n",
      "['SCREEN_NAME', '\",2018', '07:01:18,pat', 'enrage', 'fuller', 'unite4victory,3908.0,nelson,1053964437365840000.0']\n",
      "[]\n",
      "['SCREEN_NAME', 'democratic', 'senator', 'upcoming', 'midterm', 'please', 'follow']\n",
      "['SCREEN_NAME']\n",
      "['SCREEN_NAME']\n",
      "[]\n",
      "['SCREEN_NAME']\n",
      "[]\n",
      "['SCREEN_NAME']\n",
      "['SCREEN_NAME']\n",
      "['SCREEN_NAME']\n",
      "['SCREEN_NAME', 'democratic', 'senator', 'upcoming', 'midterm', 'please', 'follow']\n",
      "['SCREEN_NAME']\n",
      "[]\n",
      "['SCREEN_NAME']\n",
      "['SCREEN_NAME', '\",2018', '05:05:03,ivotedbluenotorange,3908.0,nelson,1053935183856990000.0']\n",
      "[]\n",
      "['SCREEN_NAME']\n",
      "['hardly', 'definition', 'great', 'governor']\n",
      "['SCREEN_NAME', '\",2018', '04:49:51,dolores', 'vestrich,3908.0,nelson,1053931356655380000.0']\n",
      "['SCREEN_NAME']\n",
      "[]\n",
      "['SCREEN_NAME']\n",
      "['SCREEN_NAME']\n",
      "[]\n",
      "['SCREEN_NAME', '\",2018', '03:55:47,joyce', '️????,3908.0,nelson,1053917752052740000.0']\n",
      "['SCREEN_NAME', 'democratic', 'senator', 'upcoming', 'midterm', 'please', 'follow']\n",
      "['SCREEN_NAME', '\",2018', '03:24:13,rosie', 'sebastian,3908.0,nelson,1053909809496490000.0']\n",
      "['SCREEN_NAME', '\",2018', '03:17:27,onanotherplanet,3908.0,nelson,1053908104151210000.0']\n",
      "[]\n",
      "['SCREEN_NAME', 'bravo‼️', 'voter', 'coming', 'bethechange', 'flipthesenate', 'elect', 'elect', 'SCREEN_NAME', ',2018', '03:05:26,live', 'laugh,87.0,nelson,1053905079479270000.0']\n",
      "[]\n",
      "['SCREEN_NAME', '\",2018', '02:54:27,??victoria', '3908.0,nelson,1053902314753460000.0']\n",
      "[]\n",
      "['SCREEN_NAME']\n",
      "['SCREEN_NAME']\n",
      "['SCREEN_NAME']\n",
      "[]\n",
      "['SCREEN_NAME']\n",
      "['SCREEN_NAME']\n",
      "['SCREEN_NAME', '\",2018', '02:10:50,angselee', 'serrano,3908.0,nelson,1053891339878830000.0']\n",
      "['SCREEN_NAME', '\",2018', '01:58:45,cindy', 'b,3908.0,nelson,1053888297964060000.0']\n",
      "['SCREEN_NAME']\n",
      "['SCREEN_NAME', '\",2018', '01:48:09,kim,3908.0,nelson,1053885632370690000.0']\n",
      "['SCREEN_NAME', '\",2018', '01:42:04,marilyn', 'diaz,3908.0,nelson,1053884100501780000.0']\n",
      "['SCREEN_NAME', '\",2018', '01:41:40,never', 'trump,3908.0,nelson,1053883998772950000.0']\n",
      "[]\n",
      "[]\n",
      "[]\n",
      "[]\n",
      "['SCREEN_NAME', '\",2018', '01:27:52,david', 'neeff,3908.0,nelson,1053880528544430000.0']\n",
      "[]\n",
      "['SCREEN_NAME', 'democratic', 'senator', 'upcoming', 'midterm', 'please', 'follow']\n",
      "[]\n",
      "['SCREEN_NAME']\n",
      "['SCREEN_NAME']\n",
      "['SCREEN_NAME']\n",
      "[]\n",
      "['SCREEN_NAME']\n",
      "[]\n",
      "['SCREEN_NAME', 'democratic', 'senator', 'upcoming', 'midterm', 'please', 'follow']\n",
      "['SCREEN_NAME', '\",2018', '00:52:26,max,3908.0,nelson,1053871608438320000.0']\n",
      "[]\n",
      "['SCREEN_NAME']\n",
      "[]\n",
      "['SCREEN_NAME']\n",
      "['SCREEN_NAME']\n",
      "['SCREEN_NAME', 'democratic', 'senator', 'upcoming', 'midterm', 'please', 'follow']\n",
      "['SCREEN_NAME']\n",
      "['SCREEN_NAME', '\",2018', '00:34:53,rina', 'ray,3908.0,nelson,1053867194013180000.0']\n",
      "['SCREEN_NAME']\n",
      "['SCREEN_NAME', 'democratic', 'senator', 'upcoming', 'midterm', 'please', 'follow']\n",
      "['SCREEN_NAME', 'democratic', 'senator', 'upcoming', 'midterm', 'please', 'follow']\n",
      "['SCREEN_NAME']\n",
      "[]\n",
      "['SCREEN_NAME', '\",2018', '00:29:37,vote', 'november', '️??happy', 'vegan', '3908.0,nelson,1053865869368090000.0']\n",
      "['SCREEN_NAME']\n",
      "['SCREEN_NAME']\n",
      "[]\n",
      "[]\n",
      "['SCREEN_NAME']\n",
      "['SCREEN_NAME', '\",2018', '00:19:31,judy', 'grossman,3908.0,nelson,1053863325526910000.0']\n",
      "[]\n",
      "[]\n",
      "['SCREEN_NAME', '\",2018', '00:17:32,goldie', 'locs,3908.0,nelson,1053862826933130000.0']\n",
      "[]\n",
      "['SCREEN_NAME', '\",2018', '00:15:37,buffy', 'slayer,3908.0,nelson,1053862344185370000.0']\n",
      "['SCREEN_NAME']\n",
      "[]\n",
      "['SCREEN_NAME', '\",2018', '00:11:28,kay,3908.0,nelson,1053861302605620000.0']\n",
      "['SCREEN_NAME']\n",
      "[]\n",
      "['SCREEN_NAME']\n",
      "['SCREEN_NAME', 'democratic', 'senator', 'upcoming', 'midterm', 'please', 'follow']\n",
      "[]\n",
      "['SCREEN_NAME', '\",2018', '00:07:08,diane', 'bellinger,3908.0,nelson,1053860211042250000.0']\n",
      "[]\n",
      "['SCREEN_NAME', 'democratic', 'senator', 'upcoming', 'midterm', 'please', 'follow']\n",
      "['SCREEN_NAME', '\",2018', '00:05:35,evoraist,3908.0,nelson,1053859820309280000.0']\n",
      "[]\n",
      "['SCREEN_NAME']\n",
      "['SCREEN_NAME', '\",2018', '00:04:58,resist&vote!,3908.0,nelson,1053859665333960000.0']\n",
      "[]\n",
      "['senator', 'speak']\n",
      "['SCREEN_NAME', 'SCREEN_NAME', 'SCREEN_NAME', 'coming', 'preexist', 'conditions', 'social', 'security', 'medicare']\n",
      "['SCREEN_NAME', 'senator', 'SCREEN_NAME', 'ethical', 'balls,2018', '22:51:29,shelbyjak,.0,nelson,1053841171464650000.0']\n",
      "['SCREEN_NAME', 'giving', 'break', 'wealthy', 'leadership', 'want', 'social', 'security', 'medicare', '\",2018', '22:31:49,laura', 'johnson,2601.0,nelson,1053836222903180000.0']\n",
      "[]\n",
      "['SCREEN_NAME']\n",
      "['SCREEN_NAME']\n",
      "['SCREEN_NAME']\n",
      "['SCREEN_NAME', 'SCREEN_NAME', 'great', 'governor', 'continue', 'legacy', 'growing', 'cutting', ',2018', '00:20:19,\"????america', 'yeah????\",929.0,scott,1054225916576990000.0']\n",
      "['breaking']\n",
      "[]\n",
      "['breaking']\n",
      "['\",2018', '23:36:43,ahclarice', '️,240.0,scott,1054214944839950000.0']\n",
      "['please', 'everything', '\",2018', '23:25:20,teri', 'cooper', 'brown,1144.0,scott,1054212080553940000.0']\n",
      "['SCREEN_NAME', 'attention', 'florida', 'votehimout', 'billnelson', 'betray', 'voterickscott', 'senate']\n",
      "['please', 'everything', '\",2018', '23:22:40,qanonwolf,1144.0,scott,1054211409041510000.0']\n",
      "['SCREEN_NAME', 'thanks', 'SCREEN_NAME', 'going', 'great', '23:15:34,felix', 'c,992.0,scott,1054209621349540000.0']\n",
      "['SCREEN_NAME', 'SCREEN_NAME', 'great', 'governor', 'continue', 'legacy', 'growing', 'cutting', ',2018', '22:31:59,vegasrenae,929.0,scott,1054198651042450000.0']\n",
      "['SCREEN_NAME', 'SCREEN_NAME', 'great', 'governor', 'continue', 'legacy', 'growing', 'cutting', ',2018', '22:24:56,donaldbdecker,929.0,scott,1054196876503860000.0']\n",
      "['SCREEN_NAME', 'SCREEN_NAME', 'SCREEN_NAME', 'trust', 'me.,2018', '22:14:37,rn_centrist,.0,scott,1054194282314240000.0']\n",
      "[]\n",
      "['miami', 'november', 'election', 'knock', 'door', 'SCREEN_NAME', 'SCREEN_NAME', '\",2018', '22:12:34,rab', 'maga,672.0,scott,1054193765001420000.0']\n"
     ]
    },
    {
     "name": "stdout",
     "output_type": "stream",
     "text": [
      "[]\n",
      "['SCREEN_NAME', 'SCREEN_NAME', 'SCREEN_NAME', 'SCREEN_NAME', 'SCREEN_NAME', 'SCREEN_NAME', 'SCREEN_NAME', 'source', ',2018', '22:03:57,doc', 'holliday,3.0,scott,1054191598823710000.0']\n",
      "['SCREEN_NAME', 'SCREEN_NAME', 'great', 'governor', 'continue', 'legacy', 'growing', 'cutting', ',2018', '22:00:23,jayme', 'wyatt,929.0,scott,1054190699384570000.0']\n",
      "[]\n",
      "['SCREEN_NAME', 'SCREEN_NAME', 'SCREEN_NAME', 'thank', 'work,2018', '21:54:31,mike', 'mechanic,.0,scott,1054189223316800000.0']\n",
      "['SCREEN_NAME', 'SCREEN_NAME', 'SCREEN_NAME', 'place', 'stay?,2018', '21:51:57,blackcatsoda,.0,scott,1054188579809910000.0']\n",
      "['close', '\",2018', '16:00:26,martha', 'grierson,1816.0,rosen,1054462505660100000.0']\n",
      "['close', '\",2018', '15:58:00,doris', 'ewing,1816.0,rosen,1054461893312720000.0']\n",
      "['SCREEN_NAME', 'senator', 'heller', 'guilty', 'big', 'break', 'promise', 'modern', 'nevada', 'history', 'vote', 'health', ',2018', '15:54:56,paula', 'di,488.0,rosen,1054461120482710000.0']\n",
      "['SCREEN_NAME', 'excite', 'rally', 'president', 'SCREEN_NAME', 'today']\n",
      "['ready', 'risenvote', 'poll', 'place', '15:47:58,africanlady', '️bluewave??????????,295.0,rosen,1054459364407300000.0']\n",
      "['SCREEN_NAME', 'please', 'focus', 'senate', 'turnout', 'senate', 'mcconnell', 'reign', 'terror']\n",
      "[]\n",
      "['SCREEN_NAME', 'nope,2018', '15:13:34,vintageport,.0,rosen,1054450710354580000.0']\n",
      "['SCREEN_NAME', 'please', 'focus', 'senate', 'turnout', 'senate', 'mcconnell', 'reign', 'terror']\n",
      "['SCREEN_NAME', 'breaking', 'nevada', 'senate', 'close', 'entire', 'country', 'trump', 'back', ',2018', '15:09:31,ronabarbar,4098.0,rosen,1054449691931360000.0']\n",
      "[]\n",
      "['protect', 'exist', 'conditions']\n",
      "[]\n",
      "['SCREEN_NAME', 'breaking', 'nevada', 'senate', 'close', 'entire', 'country', 'trump', 'back', ',2018', '14:42:22,z,4098.0,rosen,1054442858357440000.0']\n",
      "['SCREEN_NAME', 'worth']\n",
      "['clark', 'washoe', 'county', 'voter', 'ballot', 'record', 'numbers', '\",2018', '14:07:42,britin17k,143.0,rosen,1054434133370240000.0']\n",
      "['SCREEN_NAME', 'please', 'focus', 'senate', 'turnout', 'senate', 'mcconnell', 'reign', 'terror']\n",
      "['SCREEN_NAME', 'breaking', 'show', 'nevada', 'politico', 'almost', 'senat', ',2018', '14:02:33,pito', 'champiñon,350.0,rosen,1054432836327850000.0']\n",
      "[]\n",
      "['SCREEN_NAME', 'please', 'focus', 'senate', 'turnout', 'senate', 'mcconnell', 'reign', 'terror']\n",
      "['close', '\",2018', '13:45:38,bruce', 'hartman,1816.0,rosen,1054428579306630000.0']\n",
      "['SCREEN_NAME', 'breaking', 'show', 'nevada', 'politico', 'almost', 'senat', ',2018', '13:43:59,(((sjf))),54.0,rosen,1054428163856450000.0']\n",
      "['SCREEN_NAME', 'money', 'wave!,2018', '13:30:48,jennifer', 'verner', 'redxx,.0,rosen,1054424845172270000.0']\n",
      "['close', '\",2018', '13:26:51,browns', 'victim,1816.0,rosen,1054423852980360000.0']\n",
      "['SCREEN_NAME', 'strong', 'nevada', 'early', 'voting', 'flipthesenate']\n",
      "['SCREEN_NAME', 'breaking', 'nevada', 'senate', 'close', 'entire', 'country', 'trump', 'back', ',2018', '13:20:05,anti', 'advocate,4098.0,rosen,1054422149153270000.0']\n",
      "['SCREEN_NAME', 'worth']\n",
      "['SCREEN_NAME', 'member', 'house', 'arm', 'services', 'committee', 'SCREEN_NAME', 'take', 'steps', 'bolster', 'nation', 'cybersecuri', '\",2018', '13:15:50,steve', 'prometheus', 'wearethepatriots,2.0,rosen,1054421078775340000.0']\n",
      "[]\n",
      "['SCREEN_NAME', 'please', 'focus', 'senate', 'turnout', 'senate', 'mcconnell', 'reign', 'terror']\n",
      "[]\n",
      "['close', '\",2018', '12:46:20,cocoathepuff,1816.0,rosen,1054413656165920000.0']\n",
      "['SCREEN_NAME', 'breaking', 'show', 'nevada', 'politico', 'almost', 'senat', ',2018', '12:45:55,john', 'fuhr,547.0,rosen,1054413554038820000.0']\n",
      "['SCREEN_NAME', 'breaking', 'nevada', 'senate', 'close', 'entire', 'country', 'trump', 'back', ',2018', '12:38:02,jcwirish,4098.0,rosen,1054411566727090000.0']\n",
      "['close', '\",2018', '12:33:23,francie,1816.0,rosen,1054410399213410000.0']\n",
      "['SCREEN_NAME', 'breaking', 'nevada', 'senate', 'close', 'entire', 'country', 'trump', 'back', ',2018', '12:32:15,laura', 'byrd,765.0,rosen,1054410114290110000.0']\n",
      "['SCREEN_NAME', 'please', 'focus', 'senate', 'turnout', 'senate', 'mcconnell', 'reign', 'terror']\n",
      "['SCREEN_NAME', 'please', 'focus', 'senate', 'turnout', 'senate', 'mcconnell', 'reign', 'terror']\n",
      "['SCREEN_NAME', 'please', 'focus', 'senate', 'turnout', 'senate', 'mcconnell', 'reign', 'terror']\n",
      "['SCREEN_NAME', 'please', 'focus', 'senate', 'turnout', 'senate', 'mcconnell', 'reign', 'terror']\n",
      "['close', '\",2018', '12:09:55,deborah', 'donovan,1816.0,rosen,1054404491192090000.0']\n",
      "['SCREEN_NAME', 'please', 'focus', 'senate', 'turnout', 'senate', 'mcconnell', 'reign', 'terror']\n",
      "['SCREEN_NAME', '.@rosenfornevada', 'asleep', 'allow', 'yucca', 'funding', 'committee', 'without', 'try', ',2018', '12:01:03,carolyn', 'mattos,20.0,rosen,1054402262544440000.0']\n",
      "['SCREEN_NAME', 'SCREEN_NAME']\n",
      "['SCREEN_NAME', 'strong', 'nevada', 'early', 'voting', 'flipthesenate']\n",
      "['SCREEN_NAME', 'knocking', '1,000th(ish', 'SCREEN_NAME', 'SCREEN_NAME', 'SCREEN_NAME', 'morning', '\",2018', '11:15:15,gloves', 'dem????#forthepeople,89.0,rosen,1054390735431220000.0']\n",
      "['SCREEN_NAME', 'breaking', 'nevada', 'senate', 'close', 'entire', 'country', 'trump', 'back', ',2018', '10:53:49,mg,4098.0,rosen,1054385342063640000.0']\n",
      "['SCREEN_NAME', 'breaking', 'nevada', 'senate', 'close', 'entire', 'country', 'trump', 'back', ',2018', '10:53:05,moishe', 'rosenfeld,4098.0,rosen,1054385158034540000.0']\n",
      "['SCREEN_NAME', 'breaking', 'nevada', 'senate', 'close', 'entire', 'country', 'trump', 'back', ',2018', '10:51:57,ryan', 'johncke', '4098.0,rosen,1054384871542580000.0']\n",
      "['SCREEN_NAME', 'strong', 'nevada', 'early', 'voting', 'flipthesenate']\n",
      "['SCREEN_NAME', 'breaking', 'nevada', 'senate', 'close', 'entire', 'country', 'trump', 'back', ',2018', '10:10:55,brad', 'ulreich,4098.0,rosen,1054374544436330000.0']\n",
      "['SCREEN_NAME', 'breaking', 'nevada', 'senate', 'close', 'entire', 'country', 'trump', 'back', ',2018', '09:37:41,lisa', '4098.0,rosen,1054366180637600000.0']\n",
      "['SCREEN_NAME', 'nevada', 'need', 'ensure', 'public', 'land', 'protect', 'remain', 'accessible', 'generation']\n",
      "['wonder', 'SCREEN_NAME', 'know', 'corruption', 'much!', '\",2018', '09:07:27,????vote', 'november', '6th????,79.0,rosen,1054358572644160000.0']\n",
      "[]\n",
      "['SCREEN_NAME', 'breaking', 'nevada', 'senate', 'close', 'entire', 'country', 'trump', 'back', ',2018', '08:49:47,rachel', 'bogan,4098.0,rosen,1054354127860520000.0']\n",
      "['SCREEN_NAME', 'breaking', 'nevada', 'senate', 'close', 'entire', 'country', 'trump', 'back', ',2018', '08:38:30,valerie', 'curl,4098.0,rosen,1054351288559790000.0']\n",
      "['SCREEN_NAME', 'breaking', 'show', 'nevada', 'politico', 'almost', 'senat', ',2018', '08:20:28,sparklemotion,843.0,rosen,1054346748649460000.0']\n",
      "['SCREEN_NAME']\n",
      "['SCREEN_NAME', 'SCREEN_NAME']\n",
      "['SCREEN_NAME', 'SCREEN_NAME', 'SCREEN_NAME', 'SCREEN_NAME', 'SCREEN_NAME', 'SCREEN_NAME', 'SCREEN_NAME', 'SCREEN_NAME', 'SCREEN_NAME', 'SCREEN_NAME', 'SCREEN_NAME', 'SCREEN_NAME', ',2018', '12:33:53,dianne', 'barr,60.0,hawley,1054410524602040000.0']\n",
      "[]\n",
      "[]\n",
      "['SCREEN_NAME', 'bother', 'SCREEN_NAME', 'offer', 'proposal', 'invasion']\n",
      "['5,000', 'roman', 'legion']\n",
      "['SCREEN_NAME', 'worth', 'reading', 'SCREEN_NAME', 'think', 'kavanaugh', 'smear', 'campaign', 'issue', 'involve', 'excuse', 'party', ',2018', '09:45:16,william', 'davis,135.0,hawley,1054368090107140000.0']\n",
      "['09:37:05,trumps', 'potus', ',13.0,hawley,1054366029193740000.0']\n",
      "[]\n",
      "['SCREEN_NAME', 'veteran', 'always', 'know', 'count', 'SCREEN_NAME', 'fight', 'thing', 'count', ',2018', '16:00:00,tosha#vote', 'november', '6????#resistance##basta#,210.0,mccaskill,1054824780812250000.0']\n",
      "[]\n",
      "[]\n",
      "['ability', 'understand', 'share', 'feelings', 'another']\n",
      "['SCREEN_NAME', 'reason', 'SCREEN_NAME', 'SCREEN_NAME', 'endorse', 'SCREEN_NAME', 'hawley', 'candidate', 'fighting', ',2018', '20:17:37,vote', 'democrat', 'everyone,123.0,mccaskill,1053077676024460000.0']\n",
      "['SCREEN_NAME', 'schumer', 'claire', 'mcscakill', 'liar!,2018', '20:15:18,nestor', 'coat,.0,mccaskill,1053077090671700000.0']\n",
      "[]\n",
      "['SCREEN_NAME', 'SCREEN_NAME', 'fight', 'abide', 'owner', 'missouri', 'SCREEN_NAME', 'defend', 'missourian', 'right', ',2018', '19:46:04,seamusog,174.0,mccaskill,1053069736198710000.0']\n",
      "['SCREEN_NAME', 'SCREEN_NAME', 'fight', 'abide', 'owner', 'missouri', 'SCREEN_NAME', 'defend', 'missourian', 'right', ',2018', '19:25:02,mike', 'murk,174.0,mccaskill,1053064441657510000.0']\n",
      "['SCREEN_NAME', 'SCREEN_NAME', 'fight', 'abide', 'owner', 'missouri', 'SCREEN_NAME', 'defend', 'missourian', 'right', ',2018', '19:20:40,m7m,174.0,mccaskill,1053063340572830000.0']\n"
     ]
    },
    {
     "name": "stdout",
     "output_type": "stream",
     "text": [
      "['SCREEN_NAME', 'debate', 'tonight', 'missouri', 'SCREEN_NAME', 'SCREEN_NAME', 'SCREEN_NAME', 'want', 'remind', 'everyone', 'mccaskill', 'support', ',2018', '18:20:05,rawklion', ',256.0,mccaskill,1053048095766830000.0']\n",
      "['SCREEN_NAME', '.@clairecmc', 'travel', 'thousand', 'mile', 'answer', 'hundred', 'question', 'listen', 'missourian', 'missourian', '\",2018', '17:33:47,maryelizabeth', 'dorsey,43.0,mccaskill,1053036444896370000.0']\n",
      "['SCREEN_NAME', '.@clairecmc', 'honor', 'missionary', 'baptist', 'state', 'convention', 'missouri', 'earth', 'morning', ',2018', '17:30:10,jacqueline,30.0,mccaskill,1053035532660430000.0']\n",
      "['SCREEN_NAME', 'SCREEN_NAME', 'claire', 'impeachtrumpandpencenow', 'impeachkavanaugh,2018', '17:27:35,soccer', 'thoughts,.0,mccaskill,1053034882715180000.0']\n",
      "['SCREEN_NAME', 'SCREEN_NAME', 'photo', 'actually', 'proposal', 'would', 'state', 'it,2018', '12:36:49,jd,.0,mccaskill,1052961710875780000.0']\n",
      "['SCREEN_NAME', 'casualty', 'trade', 'rising', 'SCREEN_NAME', 'right', ',2018', '11:10:09,michelle', \"ren'ee,27.0,mccaskill,1052939899047960000.0\"]\n",
      "['SCREEN_NAME', '.@clairecmc', 'fighting', 'consumer', 'farmer', 'manufacturer', 'still', 'trade', '\",2018', '00:05:03,analyyst2020,53.0,mccaskill,1052772522540890000.0']\n",
      "['SCREEN_NAME', 'SCREEN_NAME', 'claire', 'going', 'deport', 'illegals']\n",
      "['hawley', 'lack', 'come', '\",2018', '22:08:09,r.b.,316.0,mccaskill,1052743103403190000.0']\n",
      "['SCREEN_NAME', 'em·pa·thy']\n",
      "['SCREEN_NAME', 'SCREEN_NAME', 'SCREEN_NAME', 'enjoy', 'shooting', 'sensible', 'people', 'do.\",2018', '20:33:23,chuck', 'carlo,1.0,mccaskill,1052719254645210000.0']\n",
      "['SCREEN_NAME', 'family', 'depend', 'healthcare', 'protection', 'healthy', 'life', 'SCREEN_NAME', 'everything', ',2018', '20:02:27,jim', 'binning,29.0,mccaskill,1052711468599260000.0']\n",
      "['SCREEN_NAME', '.@mccaskill4mo', 'catch', 'try', 'deceive', 'voter', 'want', 'believe', 'defend', 'right', 'truth', 'support', '\",2018', '16:39:30,chris', '-jesterbear-', 'ritchey??', '️,1274.0,mccaskill,1052660397273170000.0']\n",
      "['SCREEN_NAME', 'people', 'springfield', 'early', 'tuesday', 'morning', 'SCREEN_NAME', 'voter', ',2018', '15:10:50,maldenite,76.0,mccaskill,1052638080644070000.0']\n",
      "['SCREEN_NAME', 'prof', 'china', 'pay', 'tariff', 'american', 'higher', 'price', 'checkout', 'mosen', '14:13:26,blue', 'mom,40.0,mccaskill,1052623638858540000.0']\n",
      "['SCREEN_NAME', 'SCREEN_NAME', 'SCREEN_NAME', 'SCREEN_NAME', 'SCREEN_NAME', 'SCREEN_NAME', 'SCREEN_NAME', 'comment', 'please', 'explain', ',2018', '11:49:33,ex', 'tenebris', 'lux,18.0,mccaskill,1052587429104940000.0']\n",
      "['SCREEN_NAME', 'SCREEN_NAME', 'disabled.,2018', '10:55:19,greg', 'price,.0,mccaskill,1052573777350060000.0']\n",
      "['SCREEN_NAME', 'healthcare', 'event', 'washington', 'SCREEN_NAME', 'share', 'holding', 'pharma', 'accountable', 'skyrocket', '\",2018', '09:44:58,dmfbr,70.0,mccaskill,1052556074002330000.0']\n",
      "['SCREEN_NAME', '.@mccaskill4mo', 'catch', 'try', 'deceive', 'voter', 'want', 'believe', 'defend', 'right', 'truth', 'support', '\",2018', '07:32:23,greg', 'hainault,1274.0,mccaskill,1052522707751850000.0']\n",
      "['SCREEN_NAME', '.@mccaskill4mo', 'catch', 'try', 'deceive', 'voter', 'want', 'believe', 'defend', 'right', 'truth', 'support', '\",2018', '07:03:17,fgs', '️,1274.0,mccaskill,1052515385130590000.0']\n",
      "['SCREEN_NAME', '.@mccaskill4mo', 'catch', 'try', 'deceive', 'voter', 'want', 'believe', 'defend', 'right', 'truth', 'support', '\",2018', '06:57:48,charles', 'partain,1274.0,mccaskill,1052514008215900000.0']\n",
      "['SCREEN_NAME', '.@mccaskill4mo', 'catch', 'try', 'deceive', 'voter', 'want', 'believe', 'defend', 'right', 'truth', 'support', '\",2018', '06:55:58,jeremy', 'happold,1274.0,mccaskill,1052513546284620000.0']\n",
      "['SCREEN_NAME', '.@mccaskill4mo', 'catch', 'try', 'deceive', 'voter', 'want', 'believe', 'defend', 'right', 'truth', 'support', '\",2018', '01:20:39,scott', 'sullivan,1274.0,mccaskill,1052429161405600000.0']\n",
      "['SCREEN_NAME', '.@mccaskill4mo', 'catch', 'try', 'deceive', 'voter', 'want', 'believe', 'defend', 'right', 'truth', 'support', '\",2018', '23:58:48,ton,1274.0,mccaskill,1052408560125190000.0']\n",
      "['SCREEN_NAME', '.@mccaskill4mo', 'catch', 'try', 'deceive', 'voter', 'want', 'believe', 'defend', 'right', 'truth', 'support', '\",2018', '22:46:12,dr', 'love,1274.0,mccaskill,1052390290198210000.0']\n"
     ]
    }
   ],
   "source": [
    "import random\n",
    "text_data = []\n",
    "with open('/Users/varsha/.spyder-py3/NLP_proj_twitter.csv') as f:\n",
    "    for line in f:\n",
    "        tokens = prepare_text_for_lda(line)\n",
    "        if random.random() > .99:\n",
    "            print(tokens)\n",
    "            text_data.append(tokens)"
   ]
  },
  {
   "cell_type": "markdown",
   "metadata": {},
   "source": [
    "First, we are creating a dictionary from the data, then convert to bag-of-words corpus and save the dictionary and corpus for future use."
   ]
  },
  {
   "cell_type": "code",
   "execution_count": 7,
   "metadata": {},
   "outputs": [],
   "source": [
    "from gensim import corpora\n",
    "dictionary = corpora.Dictionary(text_data)\n"
   ]
  },
  {
   "cell_type": "code",
   "execution_count": 8,
   "metadata": {},
   "outputs": [],
   "source": [
    "corpus = [dictionary.doc2bow(text) for text in text_data]\n"
   ]
  },
  {
   "cell_type": "code",
   "execution_count": 9,
   "metadata": {},
   "outputs": [],
   "source": [
    "import pickle\n",
    "pickle.dump(corpus, open('corpus.pkl', 'wb'))\n",
    "dictionary.save('dictionary.gensim')"
   ]
  },
  {
   "cell_type": "markdown",
   "metadata": {},
   "source": [
    "We are asking LDA to find 10 topics in the data. Reapeat the same couple of times with different numbers"
   ]
  },
  {
   "cell_type": "code",
   "execution_count": 10,
   "metadata": {},
   "outputs": [],
   "source": [
    "import gensim\n",
    "NUM_TOPICS = 10\n",
    "ldamodel = gensim.models.ldamodel.LdaModel(corpus, num_topics = NUM_TOPICS, id2word=dictionary, passes=15)\n",
    "ldamodel.save('model10.gensim')"
   ]
  },
  {
   "cell_type": "code",
   "execution_count": 11,
   "metadata": {},
   "outputs": [
    {
     "name": "stdout",
     "output_type": "stream",
     "text": [
      "(0, '0.098*\"senate\" + 0.085*\"SCREEN_NAME\" + 0.054*\"focus\" + 0.050*\"terror\" + 0.050*\"mcconnell\" + 0.050*\"reign\" + 0.039*\"please\" + 0.039*\"turnout\" + 0.033*\"\",2018\"')\n",
      "(1, '0.061*\"close\" + 0.058*\"breaking\" + 0.051*\"trump\" + 0.050*\"nevada\" + 0.049*\"SCREEN_NAME\" + 0.048*\",2018\" + 0.048*\"back\" + 0.048*\"country\" + 0.048*\"entire\"')\n",
      "(2, '0.083*\"SCREEN_NAME\" + 0.023*\"flipthesenate\" + 0.017*\"early\" + 0.017*\"nevada\" + 0.017*\"voting\" + 0.017*\"strong\" + 0.017*\"worth\" + 0.015*\"\",2018\" + 0.012*\"place\"')\n",
      "(3, '0.204*\"SCREEN_NAME\" + 0.034*\",2018\" + 0.021*\"great\" + 0.018*\"\",2018\" + 0.013*\"governor\" + 0.013*\"missouri\" + 0.011*\"continue\" + 0.011*\"cutting\" + 0.011*\"growing\"')\n",
      "(4, '0.447*\"SCREEN_NAME\" + 0.030*\"\",2018\" + 0.024*\"today\" + 0.010*\"twitter\" + 0.008*\",2018\" + 0.006*\"elect\" + 0.006*\"proposal\" + 0.006*\"medicare\" + 0.004*\"future\"')\n",
      "(5, '0.092*\"\",2018\" + 0.085*\"SCREEN_NAME\" + 0.031*\"support\" + 0.025*\"want\" + 0.023*\"voter\" + 0.023*\"catch\" + 0.023*\"deceive\" + 0.023*\"believe\" + 0.023*\".@mccaskill4mo\"')\n",
      "(6, '0.115*\"SCREEN_NAME\" + 0.063*\"senator\" + 0.061*\"please\" + 0.061*\"follow\" + 0.058*\"democratic\" + 0.058*\"midterm\" + 0.058*\"upcoming\" + 0.024*\"\",2018\" + 0.009*\"twitter\"')\n",
      "(7, '0.051*\"SCREEN_NAME\" + 0.024*\"politico\" + 0.024*\"show\" + 0.024*\"senat\" + 0.024*\"almost\" + 0.021*\",2018\" + 0.021*\"nevada\" + 0.021*\"breaking\" + 0.012*\"twitter\"')\n",
      "(8, '0.065*\"SCREEN_NAME\" + 0.030*\",2018\" + 0.018*\"voter\" + 0.012*\"twitter\" + 0.012*\"morning\" + 0.012*\"elect\" + 0.012*\"canvass\" + 0.012*\"beautiful\" + 0.012*\"future\"')\n",
      "(9, '0.060*\"SCREEN_NAME\" + 0.057*\"\",2018\" + 0.014*\",2018\" + 0.014*\"mitch\" + 0.014*\"ending\" + 0.009*\"voter\" + 0.009*\"morning\" + 0.009*\"μολὼν\" + 0.009*\"count\"')\n"
     ]
    }
   ],
   "source": [
    "topics = ldamodel.print_topics(num_words=9)\n",
    "for topic in topics:\n",
    "    print(topic)\n",
    "    "
   ]
  },
  {
   "cell_type": "code",
   "execution_count": 12,
   "metadata": {},
   "outputs": [
    {
     "name": "stdout",
     "output_type": "stream",
     "text": [
      "[(101, 1)]\n",
      "[(0, 0.05), (1, 0.05), (2, 0.05), (3, 0.05), (4, 0.05), (5, 0.05), (6, 0.05), (7, 0.05), (8, 0.05), (9, 0.55)]\n"
     ]
    }
   ],
   "source": [
    "    \n",
    "new_doc = 'Practical Bayesian Optimization of Machine Learning Algorithms'\n",
    "new_doc = prepare_text_for_lda(new_doc)\n",
    "new_doc_bow = dictionary.doc2bow(new_doc)\n",
    "print(new_doc_bow)\n",
    "print(ldamodel.get_document_topics(new_doc_bow))    \n",
    "    \n"
   ]
  },
  {
   "cell_type": "code",
   "execution_count": 13,
   "metadata": {},
   "outputs": [
    {
     "name": "stdout",
     "output_type": "stream",
     "text": [
      "(0, '0.056*\"SCREEN_NAME\" + 0.021*\"twitter\" + 0.014*\",2018\" + 0.014*\"light\" + 0.014*\"count\" + 0.014*\"\",2018\" + 0.014*\"campaign\" + 0.014*\"think\" + 0.007*\"quot;spare\" + 0.007*\"07:38:43,julie\" + 0.007*\"flynn,3908.0,nelson,1053973854786330000.0\" + 0.007*\"spinning\" + 0.007*\"09:39:08,rac\" + 0.007*\"november\"')\n",
      "(1, '0.050*\"SCREEN_NAME\" + 0.049*\"\",2018\" + 0.017*\"twitter\" + 0.017*\"louis\" + 0.017*\"scheve\" + 0.009*\"mccaskill\" + 0.009*\"knock\" + 0.009*\"09:05:57,tanha,3908.0,nelson,1053995808058700000.0\" + 0.009*\"november\" + 0.009*\"election\" + 0.009*\"door\" + 0.009*\"course\" + 0.009*\"07:49:47,oldestdaughterof5,807.0,nelson,1053976640886400000.0\" + 0.009*\"loose\"')\n",
      "(2, '0.059*\"\",2018\" + 0.046*\"SCREEN_NAME\" + 0.016*\"close\" + 0.015*\"legion\" + 0.015*\"05:05:03,ivotedbluenotorange,3908.0,nelson,1053935183856990000.0\" + 0.015*\"5,000\" + 0.015*\"00:52:26,max,3908.0,nelson,1053871608438320000.0\" + 0.015*\"01:48:09,kim,3908.0,nelson,1053885632370690000.0\" + 0.015*\"roman\" + 0.015*\"12:33:23,francie,1816.0,rosen,1054410399213410000.0\" + 0.015*\"rosenfeld,4098.0,rosen,1054385158034540000.0\" + 0.015*\"10:53:05,moishe\" + 0.001*\"trump\" + 0.001*\"entire\"')\n",
      "(3, '0.124*\"SCREEN_NAME\" + 0.066*\"\",2018\" + 0.033*\"voter\" + 0.027*\"right\" + 0.027*\"want\" + 0.026*\"support\" + 0.024*\"truth\" + 0.024*\"believe\" + 0.024*\"try\" + 0.024*\".@mccaskill4mo\" + 0.024*\"deceive\" + 0.024*\"defend\" + 0.024*\"catch\" + 0.013*\"today\"')\n",
      "(4, '0.104*\"SCREEN_NAME\" + 0.037*\",2018\" + 0.031*\"breaking\" + 0.031*\"nevada\" + 0.030*\"politico\" + 0.030*\"show\" + 0.030*\"senat\" + 0.030*\"almost\" + 0.024*\"\",2018\" + 0.015*\"today\" + 0.015*\"people\" + 0.008*\"voter\" + 0.008*\"excite\" + 0.008*\"08:55:21,toby\"')\n",
      "(5, '0.070*\"close\" + 0.067*\"SCREEN_NAME\" + 0.061*\"breaking\" + 0.057*\"trump\" + 0.056*\",2018\" + 0.053*\"back\" + 0.053*\"country\" + 0.053*\"entire\" + 0.053*\"senate\" + 0.052*\"nevada\" + 0.027*\"\",2018\" + 0.005*\"trade\" + 0.005*\"still\" + 0.005*\"manufacturer\"')\n",
      "(6, '0.162*\"SCREEN_NAME\" + 0.082*\"\",2018\" + 0.023*\"governor\" + 0.022*\"great\" + 0.018*\"legacy\" + 0.018*\"growing\" + 0.018*\"continue\" + 0.018*\"cutting\" + 0.016*\",2018\" + 0.009*\"please\" + 0.009*\"everything\" + 0.009*\"worth\" + 0.005*\"senate\" + 0.005*\"leadership\"')\n",
      "(7, '0.051*\"SCREEN_NAME\" + 0.040*\"\",2018\" + 0.031*\"nevada\" + 0.030*\"flipthesenate\" + 0.030*\"early\" + 0.030*\"strong\" + 0.030*\"voting\" + 0.020*\"close\" + 0.020*\"local\" + 0.011*\",2018\" + 0.010*\"resident\" + 0.010*\"come\" + 0.010*\"22:08:09,r.b.,316.0,mccaskill,1052743103403190000.0\" + 0.010*\"today\"')\n",
      "(8, '0.101*\"SCREEN_NAME\" + 0.024*\"taking\" + 0.021*\"\",2018\" + 0.012*\"twitter\" + 0.012*\"missourian\" + 0.012*\"state\" + 0.012*\".@clairecmc\" + 0.008*\",2018\" + 0.006*\"nevada\" + 0.006*\"voter\" + 0.006*\"redwave2018\" + 0.006*\"prometheus\" + 0.006*\"proposal\" + 0.006*\"nation\"')\n",
      "(9, '0.357*\"SCREEN_NAME\" + 0.043*\"senator\" + 0.040*\"please\" + 0.040*\"democratic\" + 0.040*\"follow\" + 0.038*\"midterm\" + 0.038*\"upcoming\" + 0.020*\",2018\" + 0.009*\"missouri\" + 0.008*\"\",2018\" + 0.007*\"candidate\" + 0.007*\"right\" + 0.006*\"great\" + 0.006*\"twitter\"')\n",
      "(10, '0.039*\"mcconnell\" + 0.039*\"reign\" + 0.039*\"terror\" + 0.039*\"mitch\" + 0.039*\"ending\" + 0.025*\"\",2018\" + 0.014*\"voter\" + 0.014*\"washoe\" + 0.014*\"16:04:25,adegboyega\" + 0.014*\"14:07:42,britin17k,143.0,rosen,1054434133370240000.0\" + 0.014*\"ballot\" + 0.014*\"clark\" + 0.014*\"numbers\" + 0.014*\"record\"')\n",
      "(11, '0.128*\"SCREEN_NAME\" + 0.093*\"senate\" + 0.054*\"focus\" + 0.039*\"mcconnell\" + 0.039*\"terror\" + 0.039*\"reign\" + 0.039*\"please\" + 0.039*\"turnout\" + 0.027*\"\",2018\" + 0.008*\"twitter\" + 0.004*\"social\" + 0.004*\"security\" + 0.004*\"mccaskill\" + 0.004*\"martin\"')\n",
      "(12, '0.040*\"support\" + 0.013*\"\",2018\" + 0.013*\"worth\" + 0.013*\"ability\" + 0.013*\"another\" + 0.013*\"feelings\" + 0.013*\"share\" + 0.013*\"understand\" + 0.013*\"16:13:20,leiashadowqueen\" + 0.013*\"voteblue2018,80.0,nelson,1054103360947810000.0\" + 0.013*\"️????️\\u200d\" + 0.013*\"think\" + 0.013*\"10:44:59,mobileinfantry,.0,rosen,1054383119829270000.0\" + 0.013*\"intersectional\"')\n",
      "(13, '0.038*\"veteran\" + 0.019*\"twitter\" + 0.019*\"destroy\" + 0.019*\"retirement\" + 0.010*\"quot;&quot\" + 0.010*\"edit\" + 0.010*\"information\" + 0.010*\"video\" + 0.010*\"often\" + 0.010*\"debunked,&quot\" + 0.010*\"o’keefe\" + 0.010*\"protect\" + 0.010*\"claire\" + 0.010*\"price,.0,mccaskill,1052570975626240000.0\"')\n",
      "(14, '0.014*\"risenvote\" + 0.014*\"expelling\" + 0.014*\"they&#39;re\" + 0.014*\"steve,.0,mccaskill,1052648882763690000.0\" + 0.014*\"steve\" + 0.014*\"15:47:58,africanlady\" + 0.014*\"quot;i&#39;m\" + 0.014*\"grandpa\" + 0.014*\"️bluewave??????????,295.0,rosen,1054459364407300000.0\" + 0.014*\"ready\" + 0.014*\"wrong\" + 0.014*\"twitter\" + 0.014*\"15:53:45,grandpa\" + 0.014*\"everything\"')\n"
     ]
    }
   ],
   "source": [
    "\n",
    "ldamodel = gensim.models.ldamodel.LdaModel(corpus, num_topics = 15, id2word=dictionary, passes=15)\n",
    "ldamodel.save('model5.gensim')\n",
    "topics = ldamodel.print_topics(num_words=14)\n",
    "for topic in topics:\n",
    "    print(topic)\n",
    "    "
   ]
  },
  {
   "cell_type": "code",
   "execution_count": 14,
   "metadata": {},
   "outputs": [
    {
     "name": "stdout",
     "output_type": "stream",
     "text": [
      "(0, '0.045*\"SCREEN_NAME\" + 0.035*\"veteran\" + 0.026*\"flipthesenate\" + 0.026*\"strong\" + 0.026*\"nevada\" + 0.026*\"early\" + 0.026*\"voting\"')\n",
      "(1, '0.070*\"breaking\" + 0.070*\"close\" + 0.060*\"back\" + 0.060*\"entire\" + 0.060*\"country\" + 0.060*\"trump\" + 0.060*\"nevada\"')\n",
      "(2, '0.055*\"SCREEN_NAME\" + 0.052*\"\",2018\" + 0.018*\"trump\" + 0.018*\"follow\" + 0.018*\"12:32:15,laura\" + 0.018*\"byrd,765.0,rosen,1054410114290110000.0\" + 0.018*\"03:17:27,onanotherplanet,3908.0,nelson,1053908104151210000.0\"')\n",
      "(3, '0.035*\"SCREEN_NAME\" + 0.019*\"missourian\" + 0.019*\"\",2018\" + 0.019*\"twitter\" + 0.019*\"local\" + 0.019*\"today\" + 0.010*\"travel\"')\n",
      "(4, '0.063*\"SCREEN_NAME\" + 0.025*\"everything\" + 0.013*\",2018\" + 0.013*\"illegals\" + 0.013*\"springfield\" + 0.013*\"risenvote\" + 0.013*\"deport\"')\n",
      "(5, '0.044*\"show\" + 0.044*\"almost\" + 0.044*\"politico\" + 0.044*\"senat\" + 0.044*\"breaking\" + 0.043*\"nevada\" + 0.038*\",2018\"')\n",
      "(6, '0.115*\"SCREEN_NAME\" + 0.031*\"missouri\" + 0.024*\"defend\" + 0.024*\"owner\" + 0.024*\"abide\" + 0.024*\"fight\" + 0.024*\"missourian\"')\n",
      "(7, '0.355*\"SCREEN_NAME\" + 0.034*\"\",2018\" + 0.032*\"senate\" + 0.022*\",2018\" + 0.020*\"terror\" + 0.020*\"mcconnell\" + 0.020*\"reign\"')\n",
      "(8, '0.091*\"SCREEN_NAME\" + 0.050*\"taking\" + 0.050*\"focus\" + 0.050*\"senate\" + 0.013*\"11:13:39,jrohrich,3908.0,nelson,1054027945558240000.0\" + 0.013*\"10;bobby\" + 0.013*\"12:00:58,ed\"')\n",
      "(9, '0.073*\"\",2018\" + 0.037*\"SCREEN_NAME\" + 0.019*\"16:04:25,adegboyega\" + 0.019*\"17:06:17,bigmike??????,37.0,nelson,1054116689430960000.0\" + 0.019*\"businessmen\" + 0.019*\"adebayo,30.0,nelson,1054101116890300000.0\" + 0.019*\"txsen\"')\n",
      "(10, '0.070*\"SCREEN_NAME\" + 0.066*\"support\" + 0.053*\"\",2018\" + 0.049*\"voter\" + 0.049*\"want\" + 0.048*\"right\" + 0.044*\"truth\"')\n",
      "(11, '0.125*\"SCREEN_NAME\" + 0.083*\"\",2018\" + 0.015*\"november\" + 0.007*\"voter\" + 0.007*\"responsible\" + 0.007*\"break\" + 0.007*\"much!\"')\n",
      "(12, '0.048*\"SCREEN_NAME\" + 0.037*\"\",2018\" + 0.025*\"light\" + 0.025*\"twitter\" + 0.013*\"quot;your\" + 0.013*\"right\" + 0.013*\"problem\"')\n",
      "(13, '0.040*\"\",2018\" + 0.037*\"close\" + 0.035*\"worth\" + 0.019*\"13:45:38,bruce\" + 0.019*\"hartman,1816.0,rosen,1054428579306630000.0\" + 0.019*\"16:39:30,chris\" + 0.019*\"️,1274.0,mccaskill,1052660397273170000.0\"')\n",
      "(14, '0.110*\"senator\" + 0.105*\"SCREEN_NAME\" + 0.101*\"please\" + 0.096*\"follow\" + 0.096*\"midterm\" + 0.096*\"democratic\" + 0.096*\"upcoming\"')\n",
      "(15, '0.023*\"SCREEN_NAME\" + 0.023*\"money\" + 0.023*\"wave!,2018\" + 0.023*\"verner\" + 0.023*\"redxx,.0,rosen,1054424845172270000.0\" + 0.023*\"13:30:48,jennifer\" + 0.001*\"martin,3.0,hawley,1054402239639490000.0\"')\n",
      "(16, '0.126*\"SCREEN_NAME\" + 0.063*\"\",2018\" + 0.016*\"claire\" + 0.016*\"count\" + 0.016*\"november\" + 0.008*\"senate\" + 0.008*\",2018\"')\n",
      "(17, '0.038*\"SCREEN_NAME\" + 0.029*\"\",2018\" + 0.022*\"scheve\" + 0.022*\"louis\" + 0.022*\"twitter\" + 0.011*\"08:31:03,bethmartin,3908.0,nelson,1053987024292770000.0\" + 0.011*\"19:20:40,m7m,174.0,mccaskill,1053063340572830000.0\"')\n",
      "(18, '0.026*\"speak\" + 0.026*\"15:09:31,ronabarbar,4098.0,rosen,1054449691931360000.0\" + 0.001*\"senator\" + 0.001*\"SCREEN_NAME\" + 0.001*\"senate\" + 0.001*\",2018\" + 0.001*\"trump\"')\n",
      "(19, '0.119*\"SCREEN_NAME\" + 0.040*\"\",2018\" + 0.040*\"governor\" + 0.039*\"great\" + 0.032*\"legacy\" + 0.032*\"cutting\" + 0.032*\"growing\"')\n"
     ]
    }
   ],
   "source": [
    "ldamodel = gensim.models.ldamodel.LdaModel(corpus, num_topics = 20, id2word=dictionary, passes=15)\n",
    "ldamodel.save('model20.gensim')\n",
    "topics = ldamodel.print_topics(num_words=7)\n",
    "for topic in topics:\n",
    "    print(topic)"
   ]
  },
  {
   "cell_type": "code",
   "execution_count": 15,
   "metadata": {},
   "outputs": [],
   "source": [
    "dictionary = gensim.corpora.Dictionary.load('dictionary.gensim')\n",
    "corpus = pickle.load(open('corpus.pkl', 'rb'))\n",
    "lda = gensim.models.ldamodel.LdaModel.load('model5.gensim')    \n"
   ]
  },
  {
   "cell_type": "markdown",
   "metadata": {},
   "source": [
    "Visualize:\n",
    "pyLDAvis is designed to help users interpret the topics in a topic model that has been fit to a corpus of text data. The package extracts information from a fitted LDA topic model to inform an interactive web-based visualization."
   ]
  },
  {
   "cell_type": "code",
   "execution_count": 16,
   "metadata": {},
   "outputs": [
    {
     "name": "stderr",
     "output_type": "stream",
     "text": [
      "/anaconda3/lib/python3.6/site-packages/pyLDAvis/_prepare.py:257: FutureWarning: Sorting because non-concatenation axis is not aligned. A future version\n",
      "of pandas will change to not sort by default.\n",
      "\n",
      "To accept the future behavior, pass 'sort=False'.\n",
      "\n",
      "To retain the current behavior and silence the warning, pass 'sort=True'.\n",
      "\n",
      "  return pd.concat([default_term_info] + list(topic_dfs))\n"
     ]
    },
    {
     "data": {
      "text/html": [
       "\n",
       "<link rel=\"stylesheet\" type=\"text/css\" href=\"https://cdn.rawgit.com/bmabey/pyLDAvis/files/ldavis.v1.0.0.css\">\n",
       "\n",
       "\n",
       "<div id=\"ldavis_el132731124942445126437072168\"></div>\n",
       "<script type=\"text/javascript\">\n",
       "\n",
       "var ldavis_el132731124942445126437072168_data = {\"mdsDat\": {\"x\": [-0.039576027099704175, -0.042242384883749894, -0.03987044049300253, 0.09586272079902802, 0.04133481077414587, 0.07884452870681805, 0.1002501709405622, -0.021202428356700453, 0.009949726490289851, 0.2628065231171928, -0.11073075750687476, 0.09396174228046336, -0.128698727854486, -0.16415508579240465, -0.13653437112157768], \"y\": [0.04867863196376652, 0.049111917474976126, -0.00017445481172028262, 0.09000361804180503, -0.05679622388188637, -0.24786718880221423, 0.03444092935746038, -0.04113679426290108, 0.020402911180607407, 0.08504386589089495, 0.0024484559161992094, -0.031068213550358523, 0.025986159000529214, 0.008301692312097764, 0.01262469417074405], \"topics\": [1, 2, 3, 4, 5, 6, 7, 8, 9, 10, 11, 12, 13, 14, 15], \"cluster\": [1, 1, 1, 1, 1, 1, 1, 1, 1, 1, 1, 1, 1, 1, 1], \"Freq\": [5.303569316864014, 4.2360453605651855, 1.4802451133728027, 14.32832145690918, 4.580670356750488, 9.013915061950684, 8.337848663330078, 3.1067519187927246, 6.41093635559082, 23.3118896484375, 1.9873387813568115, 10.366450309753418, 2.094196081161499, 3.5007901191711426, 1.941030502319336]}, \"tinfo\": {\"Category\": [\"Default\", \"Default\", \"Default\", \"Default\", \"Default\", \"Default\", \"Default\", \"Default\", \"Default\", \"Default\", \"Default\", \"Default\", \"Default\", \"Default\", \"Default\", \"Default\", \"Default\", \"Default\", \"Default\", \"Default\", \"Default\", \"Default\", \"Default\", \"Default\", \"Default\", \"Default\", \"Default\", \"Default\", \"Default\", \"Default\", \"Topic1\", \"Topic1\", \"Topic1\", \"Topic1\", \"Topic1\", \"Topic1\", \"Topic1\", \"Topic1\", \"Topic1\", \"Topic1\", \"Topic1\", \"Topic1\", \"Topic1\", \"Topic1\", \"Topic1\", \"Topic1\", \"Topic1\", \"Topic1\", \"Topic1\", \"Topic1\", \"Topic1\", \"Topic1\", \"Topic1\", \"Topic1\", \"Topic1\", \"Topic1\", \"Topic1\", \"Topic1\", \"Topic1\", \"Topic1\", \"Topic1\", \"Topic1\", \"Topic1\", \"Topic1\", \"Topic1\", \"Topic1\", \"Topic1\", \"Topic1\", \"Topic1\", \"Topic1\", \"Topic1\", \"Topic1\", \"Topic1\", \"Topic1\", \"Topic1\", \"Topic1\", \"Topic1\", \"Topic1\", \"Topic1\", \"Topic1\", \"Topic1\", \"Topic1\", \"Topic1\", \"Topic1\", \"Topic1\", \"Topic1\", \"Topic2\", \"Topic2\", \"Topic2\", \"Topic2\", \"Topic2\", \"Topic2\", \"Topic2\", \"Topic2\", \"Topic2\", \"Topic2\", \"Topic2\", \"Topic2\", \"Topic2\", \"Topic2\", \"Topic2\", \"Topic2\", \"Topic2\", \"Topic2\", \"Topic2\", \"Topic2\", \"Topic2\", \"Topic2\", \"Topic2\", \"Topic2\", \"Topic2\", \"Topic2\", \"Topic2\", \"Topic2\", \"Topic2\", \"Topic2\", \"Topic2\", \"Topic2\", \"Topic2\", \"Topic2\", \"Topic2\", \"Topic2\", \"Topic2\", \"Topic2\", \"Topic2\", \"Topic2\", \"Topic2\", \"Topic2\", \"Topic2\", \"Topic2\", \"Topic2\", \"Topic2\", \"Topic2\", \"Topic3\", \"Topic3\", \"Topic3\", \"Topic3\", \"Topic3\", \"Topic3\", \"Topic3\", \"Topic3\", \"Topic3\", \"Topic3\", \"Topic3\", \"Topic3\", \"Topic3\", \"Topic3\", \"Topic3\", \"Topic3\", \"Topic3\", \"Topic3\", \"Topic3\", \"Topic3\", \"Topic3\", \"Topic3\", \"Topic3\", \"Topic3\", \"Topic3\", \"Topic3\", \"Topic3\", \"Topic3\", \"Topic3\", \"Topic3\", \"Topic3\", \"Topic3\", \"Topic3\", \"Topic3\", \"Topic3\", \"Topic3\", \"Topic3\", \"Topic3\", \"Topic3\", \"Topic3\", \"Topic3\", \"Topic3\", \"Topic3\", \"Topic3\", \"Topic3\", \"Topic3\", \"Topic3\", \"Topic3\", \"Topic3\", \"Topic3\", \"Topic4\", \"Topic4\", \"Topic4\", \"Topic4\", \"Topic4\", \"Topic4\", \"Topic4\", \"Topic4\", \"Topic4\", \"Topic4\", \"Topic4\", \"Topic4\", \"Topic4\", \"Topic4\", \"Topic4\", \"Topic4\", \"Topic4\", \"Topic4\", \"Topic4\", \"Topic4\", \"Topic4\", \"Topic4\", \"Topic4\", \"Topic4\", \"Topic4\", \"Topic4\", \"Topic4\", \"Topic4\", \"Topic4\", \"Topic4\", \"Topic4\", \"Topic4\", \"Topic4\", \"Topic4\", \"Topic4\", \"Topic4\", \"Topic4\", \"Topic4\", \"Topic4\", \"Topic4\", \"Topic4\", \"Topic4\", \"Topic4\", \"Topic4\", \"Topic4\", \"Topic4\", \"Topic4\", \"Topic4\", \"Topic4\", \"Topic4\", \"Topic4\", \"Topic4\", \"Topic4\", \"Topic4\", \"Topic4\", \"Topic4\", \"Topic4\", \"Topic4\", \"Topic4\", \"Topic4\", \"Topic4\", \"Topic4\", \"Topic4\", \"Topic4\", \"Topic4\", \"Topic4\", \"Topic4\", \"Topic4\", \"Topic4\", \"Topic4\", \"Topic4\", \"Topic4\", \"Topic4\", \"Topic4\", \"Topic4\", \"Topic4\", \"Topic4\", \"Topic4\", \"Topic4\", \"Topic4\", \"Topic4\", \"Topic4\", \"Topic4\", \"Topic4\", \"Topic4\", \"Topic4\", \"Topic5\", \"Topic5\", \"Topic5\", \"Topic5\", \"Topic5\", \"Topic5\", \"Topic5\", \"Topic5\", \"Topic5\", \"Topic5\", \"Topic5\", \"Topic5\", \"Topic5\", \"Topic5\", \"Topic5\", \"Topic5\", \"Topic5\", \"Topic5\", \"Topic5\", \"Topic5\", \"Topic5\", \"Topic5\", \"Topic5\", \"Topic5\", \"Topic5\", \"Topic5\", \"Topic5\", \"Topic5\", \"Topic5\", \"Topic5\", \"Topic5\", \"Topic5\", \"Topic5\", \"Topic5\", \"Topic5\", \"Topic5\", \"Topic5\", \"Topic5\", \"Topic6\", \"Topic6\", \"Topic6\", \"Topic6\", \"Topic6\", \"Topic6\", \"Topic6\", \"Topic6\", \"Topic6\", \"Topic6\", \"Topic6\", \"Topic6\", \"Topic6\", \"Topic6\", \"Topic6\", \"Topic6\", \"Topic6\", \"Topic6\", \"Topic6\", \"Topic6\", \"Topic6\", \"Topic6\", \"Topic6\", \"Topic6\", \"Topic6\", \"Topic6\", \"Topic6\", \"Topic6\", \"Topic6\", \"Topic6\", \"Topic6\", \"Topic6\", \"Topic6\", \"Topic6\", \"Topic6\", \"Topic6\", \"Topic6\", \"Topic6\", \"Topic6\", \"Topic6\", \"Topic6\", \"Topic6\", \"Topic6\", \"Topic6\", \"Topic6\", \"Topic6\", \"Topic7\", \"Topic7\", \"Topic7\", \"Topic7\", \"Topic7\", \"Topic7\", \"Topic7\", \"Topic7\", \"Topic7\", \"Topic7\", \"Topic7\", \"Topic7\", \"Topic7\", \"Topic7\", \"Topic7\", \"Topic7\", \"Topic7\", \"Topic7\", \"Topic7\", \"Topic7\", \"Topic7\", \"Topic7\", \"Topic7\", \"Topic7\", \"Topic7\", \"Topic7\", \"Topic7\", \"Topic7\", \"Topic7\", \"Topic7\", \"Topic7\", \"Topic7\", \"Topic7\", \"Topic7\", \"Topic7\", \"Topic7\", \"Topic7\", \"Topic7\", \"Topic7\", \"Topic7\", \"Topic7\", \"Topic7\", \"Topic7\", \"Topic7\", \"Topic7\", \"Topic7\", \"Topic7\", \"Topic7\", \"Topic7\", \"Topic7\", \"Topic7\", \"Topic7\", \"Topic7\", \"Topic7\", \"Topic7\", \"Topic7\", \"Topic7\", \"Topic7\", \"Topic8\", \"Topic8\", \"Topic8\", \"Topic8\", \"Topic8\", \"Topic8\", \"Topic8\", \"Topic8\", \"Topic8\", \"Topic8\", \"Topic8\", \"Topic8\", \"Topic8\", \"Topic8\", \"Topic8\", \"Topic8\", \"Topic8\", \"Topic8\", \"Topic8\", \"Topic8\", \"Topic8\", \"Topic8\", \"Topic8\", \"Topic8\", \"Topic8\", \"Topic8\", \"Topic8\", \"Topic8\", \"Topic8\", \"Topic8\", \"Topic8\", \"Topic8\", \"Topic9\", \"Topic9\", \"Topic9\", \"Topic9\", \"Topic9\", \"Topic9\", \"Topic9\", \"Topic9\", \"Topic9\", \"Topic9\", \"Topic9\", \"Topic9\", \"Topic9\", \"Topic9\", \"Topic9\", \"Topic9\", \"Topic9\", \"Topic9\", \"Topic9\", \"Topic9\", \"Topic9\", \"Topic9\", \"Topic9\", \"Topic9\", \"Topic9\", \"Topic9\", \"Topic9\", \"Topic9\", \"Topic9\", \"Topic9\", \"Topic9\", \"Topic9\", \"Topic9\", \"Topic9\", \"Topic9\", \"Topic9\", \"Topic9\", \"Topic9\", \"Topic9\", \"Topic9\", \"Topic9\", \"Topic9\", \"Topic9\", \"Topic9\", \"Topic9\", \"Topic9\", \"Topic9\", \"Topic9\", \"Topic9\", \"Topic9\", \"Topic9\", \"Topic9\", \"Topic9\", \"Topic9\", \"Topic9\", \"Topic9\", \"Topic9\", \"Topic9\", \"Topic10\", \"Topic10\", \"Topic10\", \"Topic10\", \"Topic10\", \"Topic10\", \"Topic10\", \"Topic10\", \"Topic10\", \"Topic10\", \"Topic10\", \"Topic10\", \"Topic10\", \"Topic10\", \"Topic10\", \"Topic10\", \"Topic10\", \"Topic10\", \"Topic10\", \"Topic10\", \"Topic10\", \"Topic10\", \"Topic10\", \"Topic10\", \"Topic10\", \"Topic10\", \"Topic10\", \"Topic10\", \"Topic10\", \"Topic10\", \"Topic10\", \"Topic10\", \"Topic10\", \"Topic10\", \"Topic10\", \"Topic10\", \"Topic10\", \"Topic10\", \"Topic10\", \"Topic10\", \"Topic10\", \"Topic10\", \"Topic10\", \"Topic10\", \"Topic10\", \"Topic10\", \"Topic10\", \"Topic10\", \"Topic10\", \"Topic10\", \"Topic10\", \"Topic10\", \"Topic10\", \"Topic10\", \"Topic10\", \"Topic10\", \"Topic10\", \"Topic11\", \"Topic11\", \"Topic11\", \"Topic11\", \"Topic11\", \"Topic11\", \"Topic11\", \"Topic11\", \"Topic11\", \"Topic11\", \"Topic11\", \"Topic11\", \"Topic11\", \"Topic11\", \"Topic11\", \"Topic11\", \"Topic11\", \"Topic11\", \"Topic11\", \"Topic11\", \"Topic11\", \"Topic11\", \"Topic11\", \"Topic11\", \"Topic11\", \"Topic11\", \"Topic11\", \"Topic11\", \"Topic11\", \"Topic11\", \"Topic11\", \"Topic11\", \"Topic11\", \"Topic11\", \"Topic11\", \"Topic11\", \"Topic11\", \"Topic11\", \"Topic11\", \"Topic11\", \"Topic11\", \"Topic11\", \"Topic11\", \"Topic11\", \"Topic11\", \"Topic11\", \"Topic11\", \"Topic11\", \"Topic11\", \"Topic12\", \"Topic12\", \"Topic12\", \"Topic12\", \"Topic12\", \"Topic12\", \"Topic12\", \"Topic12\", \"Topic12\", \"Topic12\", \"Topic12\", \"Topic12\", \"Topic12\", \"Topic12\", \"Topic12\", \"Topic12\", \"Topic12\", \"Topic12\", \"Topic12\", \"Topic12\", \"Topic12\", \"Topic12\", \"Topic12\", \"Topic12\", \"Topic12\", \"Topic12\", \"Topic12\", \"Topic12\", \"Topic12\", \"Topic12\", \"Topic12\", \"Topic12\", \"Topic12\", \"Topic12\", \"Topic12\", \"Topic12\", \"Topic12\", \"Topic12\", \"Topic12\", \"Topic12\", \"Topic12\", \"Topic12\", \"Topic12\", \"Topic12\", \"Topic12\", \"Topic12\", \"Topic12\", \"Topic12\", \"Topic12\", \"Topic12\", \"Topic12\", \"Topic12\", \"Topic12\", \"Topic12\", \"Topic12\", \"Topic12\", \"Topic12\", \"Topic13\", \"Topic13\", \"Topic13\", \"Topic13\", \"Topic13\", \"Topic13\", \"Topic13\", \"Topic13\", \"Topic13\", \"Topic13\", \"Topic13\", \"Topic13\", \"Topic13\", \"Topic13\", \"Topic13\", \"Topic13\", \"Topic13\", \"Topic13\", \"Topic13\", \"Topic13\", \"Topic13\", \"Topic13\", \"Topic13\", \"Topic13\", \"Topic13\", \"Topic13\", \"Topic13\", \"Topic13\", \"Topic13\", \"Topic13\", \"Topic13\", \"Topic13\", \"Topic13\", \"Topic13\", \"Topic13\", \"Topic13\", \"Topic13\", \"Topic14\", \"Topic14\", \"Topic14\", \"Topic14\", \"Topic14\", \"Topic14\", \"Topic14\", \"Topic14\", \"Topic14\", \"Topic14\", \"Topic14\", \"Topic14\", \"Topic14\", \"Topic14\", \"Topic14\", \"Topic14\", \"Topic14\", \"Topic14\", \"Topic14\", \"Topic14\", \"Topic14\", \"Topic14\", \"Topic14\", \"Topic14\", \"Topic14\", \"Topic14\", \"Topic14\", \"Topic14\", \"Topic14\", \"Topic14\", \"Topic14\", \"Topic14\", \"Topic14\", \"Topic14\", \"Topic14\", \"Topic14\", \"Topic15\", \"Topic15\", \"Topic15\", \"Topic15\", \"Topic15\", \"Topic15\", \"Topic15\", \"Topic15\", \"Topic15\", \"Topic15\", \"Topic15\", \"Topic15\", \"Topic15\", \"Topic15\", \"Topic15\", \"Topic15\", \"Topic15\", \"Topic15\", \"Topic15\", \"Topic15\", \"Topic15\", \"Topic15\", \"Topic15\", \"Topic15\", \"Topic15\", \"Topic15\", \"Topic15\", \"Topic15\", \"Topic15\", \"Topic15\", \"Topic15\", \"Topic15\", \"Topic15\", \"Topic15\", \"Topic15\", \"Topic15\", \"Topic15\"], \"Freq\": [292.0, 29.0, 60.0, 14.0, 13.0, 16.0, 9.0, 9.0, 9.0, 27.0, 11.0, 11.0, 19.0, 9.0, 9.0, 9.0, 9.0, 18.0, 31.0, 18.0, 17.0, 17.0, 8.0, 11.0, 13.0, 8.0, 4.0, 12.0, 3.0, 7.0, 1.4293477535247803, 1.4293477535247803, 1.4290162324905396, 1.428983211517334, 0.7377279996871948, 0.7377279996871948, 0.7377279996871948, 0.7377279996871948, 0.7377279996871948, 0.7377278804779053, 0.7377278804779053, 0.7377278804779053, 0.7377279996871948, 0.7377279996871948, 0.7377278804779053, 0.7377278804779053, 0.7377278804779053, 0.7377279996871948, 0.7377279996871948, 0.7377278804779053, 0.7377279996871948, 0.7377279996871948, 0.7377279996871948, 0.7377278804779053, 0.7377278804779053, 0.7377278804779053, 0.7377278804779053, 0.7377278804779053, 0.7377278804779053, 0.7377278804779053, 0.7377278804779053, 0.7377278804779053, 0.7377278804779053, 0.7377278804779053, 0.7377278804779053, 0.7377278804779053, 0.7377278804779053, 0.7377278804779053, 0.7377278804779053, 0.7377278804779053, 0.7377278804779053, 0.7377278804779053, 0.7377278804779053, 0.7377278804779053, 2.1209678649902344, 5.671425819396973, 1.4570233821868896, 1.4293456077575684, 0.7377278804779053, 0.7377279996871948, 0.7377279996871948, 0.7377278804779053, 0.7377278804779053, 0.7377279996871948, 0.7377279996871948, 0.7377278804779053, 1.3423888683319092, 1.3423888683319092, 0.6928460597991943, 0.6928460001945496, 0.6928460001945496, 0.6928460001945496, 0.6928460001945496, 0.6928460001945496, 0.6928460001945496, 0.6928460001945496, 0.6928460001945496, 0.6928460001945496, 0.6928460001945496, 0.6928460001945496, 0.6928460001945496, 0.6928460001945496, 0.6928460001945496, 0.6928460001945496, 0.6928460001945496, 0.6928460001945496, 0.6928460001945496, 0.6928460001945496, 0.6928460001945496, 0.6928460001945496, 0.6928460001945496, 0.6928460001945496, 0.6928460001945496, 0.6928460001945496, 0.6928460001945496, 0.6928460001945496, 0.6928460001945496, 3.940561532974243, 4.045504093170166, 1.3423891067504883, 0.6928460001945496, 0.6928460001945496, 0.6928460001945496, 0.6928460001945496, 0.6928460001945496, 0.6928460001945496, 0.6928460001945496, 0.6928460001945496, 0.6928460001945496, 0.6928460001945496, 0.6928460001945496, 0.6928460001945496, 0.6928460001945496, 0.43929898738861084, 0.43929898738861084, 0.43929898738861084, 0.43929898738861084, 0.43929898738861084, 0.43929898738861084, 0.43929898738861084, 0.43890661001205444, 0.4388916492462158, 0.44996681809425354, 1.6748286485671997, 0.027456190437078476, 0.027456190437078476, 0.027456190437078476, 0.027456190437078476, 0.027456190437078476, 0.027456190437078476, 0.027456190437078476, 0.027456190437078476, 0.027456190437078476, 0.027456190437078476, 0.027456190437078476, 0.027456190437078476, 0.027456190437078476, 0.027456190437078476, 0.027456190437078476, 0.027456190437078476, 0.027456190437078476, 0.027456190437078476, 0.027456190437078476, 0.027456190437078476, 1.3042073249816895, 0.02792207896709442, 0.027892788872122765, 0.02785065956413746, 0.027833450585603714, 0.027829740196466446, 0.027820531278848648, 0.027794305235147476, 0.027780504897236824, 0.027456190437078476, 0.027456190437078476, 0.027456190437078476, 0.027456190437078476, 0.027456190437078476, 0.027456190437078476, 0.027456190437078476, 0.027456190437078476, 0.027456190437078476, 0.027456190437078476, 6.570059776306152, 6.569960117340088, 6.569945812225342, 6.569884777069092, 7.3838982582092285, 6.569595813751221, 2.50130558013916, 8.978782653808594, 7.247020721435547, 6.56995964050293, 1.6860018968582153, 1.683009147644043, 1.683009147644043, 6.569616794586182, 0.8710165023803711, 0.8710165023803711, 0.8710165023803711, 0.8710165023803711, 0.8710165023803711, 0.8710165023803711, 0.8710165023803711, 0.8710165023803711, 0.8710165023803711, 0.8710165023803711, 0.8710165023803711, 0.8710165023803711, 0.8710165023803711, 0.8710165023803711, 0.8710165023803711, 0.8710165023803711, 7.387573719024658, 3.639399528503418, 0.8710165023803711, 0.8710165023803711, 0.8710165023803711, 18.151639938354492, 0.8710165023803711, 0.8710165023803711, 0.8710165023803711, 0.8710165023803711, 0.8710165023803711, 0.8710165023803711, 0.8710165023803711, 0.8710165023803711, 0.8710165023803711, 0.8710165023803711, 0.8710165023803711, 0.8710165023803711, 0.8710165023803711, 0.8710165023803711, 0.8710165023803711, 0.8710165023803711, 0.8710165023803711, 0.8710165023803711, 0.8710165023803711, 0.8710165023803711, 0.8710165023803711, 34.12184143066406, 1.683009147644043, 0.8710165023803711, 0.8710165023803711, 0.8710165023803711, 0.8710165023803711, 0.8710165023803711, 1.6875944137573242, 2.9367563724517822, 0.8710165023803711, 0.8710165023803711, 0.8710165023803711, 0.8710165023803711, 0.8710165023803711, 0.8710165023803711, 0.8710165023803711, 0.8710165023803711, 0.8710165023803711, 0.8710165023803711, 0.8710165023803711, 0.8710165023803711, 1.686984896659851, 0.871016263961792, 0.8710165023803711, 0.8710165023803711, 0.8710165023803711, 0.8716592788696289, 0.8715447783470154, 0.8710165023803711, 2.6582515239715576, 2.6582515239715576, 2.6582515239715576, 2.6582515239715576, 1.3541104793548584, 0.6988958120346069, 0.6988958120346069, 0.6988958120346069, 0.6988958120346069, 0.6988958120346069, 0.6988958120346069, 0.6988958120346069, 0.6988958120346069, 0.6988958120346069, 0.6988958120346069, 0.6988959312438965, 0.6988958120346069, 0.6988959312438965, 0.6988959312438965, 0.6988959312438965, 0.6988958120346069, 0.6988958120346069, 0.6988958120346069, 0.6988958120346069, 0.6988958120346069, 0.6988958120346069, 0.6988958120346069, 0.6988959312438965, 0.6988953948020935, 0.6988953948020935, 2.7260336875915527, 2.7168002128601074, 3.281282424926758, 9.09783935546875, 1.354110598564148, 2.074586868286133, 0.7401639223098755, 0.6988959312438965, 9.16384220123291, 9.163844108581543, 9.163843154907227, 9.918561935424805, 12.147873878479004, 10.603893280029297, 0.8108538389205933, 0.8108537197113037, 0.8108537197113037, 0.8108537197113037, 0.8108537197113037, 0.8108538389205933, 0.8108538389205933, 0.8108537197113037, 0.8108538389205933, 0.8108538389205933, 0.8108537197113037, 0.8108537197113037, 0.8108537197113037, 0.8108537197113037, 0.8108537197113037, 0.8108537197113037, 0.8108537197113037, 0.8108537197113037, 0.8108537197113037, 0.8108538389205933, 0.8108537197113037, 0.8108537197113037, 0.8108538389205933, 0.8108538389205933, 8.996736526489258, 0.8108538389205933, 0.8108536005020142, 0.8108536005020142, 9.163687705993652, 9.715047836303711, 0.8108537197113037, 0.8108537197113037, 0.8108537197113037, 11.500414848327637, 4.6507887840271, 0.8108538389205933, 0.8108537197113037, 0.8108537197113037, 0.8108537197113037, 0.8108538389205933, 3.59679913520813, 2.9192707538604736, 2.9192707538604736, 2.9192707538604736, 2.9192707538604736, 0.7730342745780945, 0.7730342745780945, 0.7730342745780945, 0.7730342745780945, 0.7730342745780945, 0.7730342745780945, 0.7730342745780945, 0.7730342745780945, 0.7730342745780945, 0.7730342745780945, 0.7730342745780945, 0.7730342745780945, 0.7730342745780945, 0.7730342745780945, 0.7730342745780945, 0.7730342745780945, 0.7730342745780945, 0.7730342745780945, 0.7730342745780945, 0.7730342745780945, 0.7730342745780945, 0.7730342745780945, 0.7730342745780945, 0.7730342745780945, 0.7730342745780945, 3.514620780944824, 0.7730342745780945, 0.7730342745780945, 0.7730342745780945, 0.7730342745780945, 1.4945731163024902, 0.7730342745780945, 13.113035202026367, 1.497753620147705, 25.91624641418457, 2.5324535369873047, 1.499097466468811, 0.7730342745780945, 0.7730342745780945, 0.7730342745780945, 0.7730342745780945, 0.7730342745780945, 0.7730342745780945, 0.7730342745780945, 0.7730342745780945, 0.7730342745780945, 0.7730342745780945, 0.7757216691970825, 0.7730342745780945, 0.7730342745780945, 0.7730342745780945, 0.7730342745780945, 0.7730342745780945, 1.7681864500045776, 1.7681864500045776, 0.6153936386108398, 0.6153936386108398, 0.6153936386108398, 0.6153936386108398, 0.6153936386108398, 0.6153936386108398, 0.6153936386108398, 0.6153936386108398, 0.6153936386108398, 0.6153936386108398, 0.6153935194015503, 0.6153935194015503, 0.6153935194015503, 0.6153935194015503, 0.6153935194015503, 0.6153935194015503, 0.6153931617736816, 0.6153931617736816, 0.6152067184448242, 0.6151596307754517, 1.7681868076324463, 1.1923248767852783, 1.7681865692138672, 0.6153936386108398, 1.824512004852295, 0.6153936386108398, 1.2197824716567993, 2.388437509536743, 3.025240421295166, 0.630092978477478, 2.9070589542388916, 1.478032112121582, 0.7628552317619324, 0.7628553509712219, 0.7628552317619324, 0.7628552317619324, 0.7628552317619324, 0.7628552317619324, 0.7628552317619324, 0.7628552317619324, 0.7628552317619324, 0.7628553509712219, 0.7628551721572876, 0.7628553509712219, 0.7628553509712219, 0.7628553509712219, 0.7628553509712219, 0.7628553509712219, 0.7628553509712219, 0.7628553509712219, 0.7628553509712219, 0.7628552317619324, 0.7628553509712219, 0.7628553509712219, 0.7628553509712219, 0.7628553509712219, 0.7628553509712219, 0.7628553509712219, 0.7628553509712219, 0.7628553509712219, 0.7628553509712219, 0.7628553509712219, 0.7628553509712219, 0.7628553509712219, 0.7628553509712219, 0.7628553509712219, 0.7628553509712219, 0.7628553509712219, 0.7628553509712219, 0.7628553509712219, 1.478032112121582, 1.478032112121582, 12.380462646484375, 2.555474042892456, 1.4785655736923218, 0.7628552317619324, 0.7628552317619324, 0.7628552317619324, 0.7628552317619324, 1.0143153667449951, 0.7628553509712219, 0.7628553509712219, 0.7628553509712219, 0.7628553509712219, 0.7743724584579468, 0.763123631477356, 0.7628553509712219, 0.7628553509712219, 19.296039581298828, 17.695571899414062, 16.89345359802246, 16.89345359802246, 17.66014862060547, 2.4598233699798584, 2.4598233699798584, 2.4598233699798584, 2.457841157913208, 2.457841157913208, 4.061997890472412, 1.6577068567276, 3.2619400024414062, 2.457841157913208, 2.4598233699798584, 17.695571899414062, 2.4598233699798584, 0.8555908799171448, 0.8555908799171448, 0.8555908799171448, 0.8555908799171448, 0.8555908799171448, 0.8555908799171448, 0.8555908799171448, 0.8555908799171448, 0.8555908799171448, 0.8555908799171448, 0.8555908799171448, 0.8555907607078552, 0.8555908799171448, 159.5609588623047, 1.6577068567276, 2.457841157913208, 0.8555908799171448, 0.8555908799171448, 0.8555908799171448, 0.8555908799171448, 0.8555907607078552, 0.8555907607078552, 8.846969604492188, 2.5581018924713135, 1.6577068567276, 3.260133743286133, 1.6577068567276, 1.6591947078704834, 2.457841157913208, 2.4607784748077393, 0.8555908799171448, 3.354081630706787, 0.855590283870697, 0.8555908799171448, 0.8555908799171448, 0.8555908799171448, 0.8555908799171448, 0.8555908799171448, 0.8555907607078552, 0.8785408735275269, 1.483539342880249, 1.483539342880249, 0.5166385769844055, 0.5166385769844055, 0.5166385769844055, 0.5166385769844055, 0.5166385769844055, 0.5166385769844055, 0.5166385769844055, 0.5166385769844055, 0.5166385769844055, 1.4844374656677246, 1.4844374656677246, 1.4844374656677246, 0.5166386365890503, 0.03228991478681564, 0.03228991478681564, 0.03228991478681564, 0.03228991478681564, 0.03228991478681564, 0.03228991478681564, 0.03228991478681564, 0.03228991478681564, 0.03228991478681564, 0.03228991478681564, 0.03228991478681564, 0.03228991478681564, 0.03228991478681564, 0.03228991478681564, 0.03228991478681564, 0.03228991478681564, 0.03228991478681564, 0.03228991478681564, 0.933129072189331, 0.03228991478681564, 0.039580557495355606, 0.03408653661608696, 0.03408653661608696, 0.03318822756409645, 0.03318822756409645, 0.03318822756409645, 0.03318822756409645, 0.03318822756409645, 0.03318822756409645, 0.03318822756409645, 0.03228991478681564, 0.03228991478681564, 0.03228991478681564, 0.03228991478681564, 10.73766040802002, 7.759207725524902, 7.76063871383667, 7.76063871383667, 7.76063871383667, 18.475337982177734, 0.8230775594711304, 0.8230775594711304, 0.8230775594711304, 0.8230775594711304, 0.8230775594711304, 0.8230775594711304, 0.8230775594711304, 0.8230775594711304, 0.8230775594711304, 0.8230775594711304, 0.8230775594711304, 0.8230775594711304, 0.8230775594711304, 0.8230775594711304, 0.8230775594711304, 0.8230775594711304, 0.8230775594711304, 0.8230775594711304, 0.8230775594711304, 0.8230774998664856, 0.8230774998664856, 0.8230774998664856, 0.8230774998664856, 0.8230774998664856, 0.8230774998664856, 0.8230774998664856, 0.8230774998664856, 0.8230774998664856, 0.8230774998664856, 0.8230774998664856, 0.8230774998664856, 0.8230774998664856, 0.8230774998664856, 0.8230774998664856, 7.7592082023620605, 25.472963333129883, 5.45288610458374, 1.5949122905731201, 0.8230774998664856, 0.8230774998664856, 0.8230774998664856, 0.8230774998664856, 0.8230774998664856, 0.8230774998664856, 0.8230774998664856, 0.8230774998664856, 0.8230774998664856, 0.8230774998664856, 0.8252630829811096, 0.8250764608383179, 0.8230775594711304, 0.528636634349823, 0.528636634349823, 0.528636634349823, 0.528636634349823, 0.528636634349823, 0.528636634349823, 0.528636634349823, 0.528636634349823, 0.528636634349823, 0.528636634349823, 0.528636634349823, 0.528636634349823, 0.528636634349823, 0.528636634349823, 0.528636634349823, 0.528636634349823, 0.528636634349823, 0.528636634349823, 0.5286363959312439, 0.5286363959312439, 0.528636634349823, 0.528636634349823, 0.528636634349823, 1.6032731533050537, 0.5286368131637573, 0.528636634349823, 0.033039793372154236, 0.033039793372154236, 0.033039793372154236, 0.033039793372154236, 0.033039793372154236, 0.538989782333374, 0.03492435812950134, 0.034830380231142044, 0.034824881702661514, 0.03495747596025467, 0.034840114414691925, 1.2837250232696533, 1.2830829620361328, 2.5256478786468506, 0.6634542942047119, 0.6634542346000671, 0.6634542346000671, 0.6634542346000671, 0.6634542942047119, 0.6634542346000671, 0.6634542942047119, 0.6634542942047119, 0.6634542942047119, 0.6634542346000671, 0.6634542346000671, 0.6634542942047119, 0.6634542942047119, 0.6634542942047119, 0.6634542942047119, 0.6634542942047119, 0.6634542942047119, 0.6634542942047119, 0.6634541749954224, 0.6634541749954224, 0.6625972986221313, 0.6625856161117554, 0.662519097328186, 0.6624838709831238, 0.662467896938324, 0.6624555587768555, 0.6624332070350647, 1.2845406532287598, 0.6634542942047119, 0.6634542942047119, 0.6634542942047119, 0.6634542942047119, 0.6634542942047119, 0.5159473419189453, 0.5159473419189453, 0.5159473419189453, 0.5159473419189453, 0.5159473419189453, 0.5159473419189453, 0.5159473419189453, 0.5159473419189453, 0.5159473419189453, 0.5159473419189453, 0.5159473419189453, 0.5159473419189453, 0.5159473419189453, 0.5159473419189453, 0.5159473419189453, 0.5159473419189453, 0.5159472823143005, 0.5159472823143005, 0.5159472823143005, 0.5159472823143005, 0.5159473419189453, 0.5159473419189453, 0.5159473419189453, 0.5159472823143005, 0.5159473419189453, 0.03224670886993408, 0.03224670886993408, 0.03224670886993408, 0.03224670886993408, 0.03224670886993408, 0.09133420139551163, 0.03887665271759033, 0.03244251385331154, 0.032403092831373215, 0.037712790071964264, 0.033329255878925323, 0.03245594725012779], \"Term\": [\"SCREEN_NAME\", \"senate\", \"\\\",2018\", \"close\", \"breaking\", \"nevada\", \"reign\", \"terror\", \"mcconnell\", \"please\", \"focus\", \"trump\", \"senator\", \"support\", \"country\", \"back\", \"entire\", \"democratic\", \",2018\", \"follow\", \"midterm\", \"upcoming\", \"turnout\", \"voter\", \"twitter\", \"want\", \"early\", \"right\", \"veteran\", \"truth\", \"light\", \"count\", \"campaign\", \"think\", \"minus,.0,hawley,1054366545999250000.0\", \"minus\", \"hypocritehawley\", \"dumpster\", \"control\", \"16:00:00,tosha#vote\", \"coat,.0,mccaskill,1053077090671700000.0\", \"20:15:18,nestor\", \"flynn,3908.0,nelson,1053973854786330000.0\", \"07:38:43,julie\", \"liar!,2018\", \"dibi,3908.0,nelson,1053993966939620000.0\", \"08:58:38,maria\", \"09:39:08,rac\", \"quot;spare\", \"checkout\", \"rachel\", \"spinning\", \"you&#39;re\", \"10:40:32,maddie\", \"barry\", \"barry,1.0,mccaskill,1052932445128020000.0\", \"democracy\", \"hearts\", \"maddie\", \"out??????and\", \"mom,40.0,mccaskill,1052623638858540000.0\", \"higher\", \"china\", \"14:13:26,blue\", \"mcscakill\", \"schumer\", \"shining\", \"quot;gop\", \"pay\", \"mosen\", \"thing\", \"prof\", \"always\", \"6????#resistance##basta#,210.0,mccaskill,1054824780812250000.0\", \"twitter\", \"SCREEN_NAME\", \",2018\", \"\\\",2018\", \"tariff\", \"november\", \"know\", \"veteran\", \"fight\", \"claire\", \"candidate\", \"price\", \"scheve\", \"louis\", \"09:05:57,tanha,3908.0,nelson,1053995808058700000.0\", \"businessmen\", \"maga,672.0,scott,1054193765001420000.0\", \"10:24:41,randy\", \"representation\", \"quot;claire\", \"newspaper\", \"22:12:34,rab\", \"loose\", \"miami\", \"boston\", \"like\", \"kathy\", \"daily\", \"course\", \"bootheel\", \"16:39:37,kathy\", \"10;you\", \"11:03:50,greg\", \"bundy\", \".0,mccaskill,1053022814989690000.0\", \"07:01:33,jim\", \"ferrell\", \"vetsvote/@votevets,3908.0,nelson,1054015621028030000.0\", \"07:49:47,oldestdaughterof5,807.0,nelson,1053976640886400000.0\", \"corrupt\", \"ramos,618.0,nelson,1054113483715940000.0\", \"16:53:33,sharon\", \"globe\", \"\\\",2018\", \"SCREEN_NAME\", \"twitter\", \"nicholas\", \"10;#bootheelmatters&#10;#mosen\", \"militia\", \"quot;disarm\", \"nutjob\", \"price,.0,mccaskill,1052575921352470000.0\", \"shooter\", \"won&#39;t\", \"turn\", \"tellep,3908.0,nelson,1053964503224930000.0\", \"profit\", \"price\", \"county\", \"05:05:03,ivotedbluenotorange,3908.0,nelson,1053935183856990000.0\", \"01:48:09,kim,3908.0,nelson,1053885632370690000.0\", \"12:33:23,francie,1816.0,rosen,1054410399213410000.0\", \"5,000\", \"legion\", \"roman\", \"00:52:26,max,3908.0,nelson,1053871608438320000.0\", \"rosenfeld,4098.0,rosen,1054385158034540000.0\", \"10:53:05,moishe\", \"close\", \"\\\",2018\", \"flipthehouse\", \"15:53:45,grandpa\", \"dreamer\", \"upset\", \"wrong\", \"hutton,618.0,nelson,1054053828843070000.0\", \"citizen\", \"collins\", \"12:56:30,janis\", \"steve,.0,mccaskill,1052648882763690000.0\", \"steve\", \"constitutional\", \"quot;i&#39;m\", \"grandpa\", \"they&#39;re\", \"expelling\", \"\\ufe0fbluewave??????????,295.0,rosen,1054459364407300000.0\", \"risenvote\", \"ready\", \"15:47:58,africanlady\", \"SCREEN_NAME\", \"trump\", \"entire\", \"senate\", \"back\", \"breaking\", \"nevada\", \"country\", \",2018\", \"quot;&quot\", \"price,.0,mccaskill,1052570975626240000.0\", \"o\\u2019keefe\", \"often\", \"08:38:10,vote\", \"make\", \"6,.0,mccaskill,1052539265056460000.0\", \"accept\", \"information\", \"alike\", \"truth\", \"believe\", \".@mccaskill4mo\", \"deceive\", \"want\", \"catch\", \"future\", \"voter\", \"support\", \"try\", \"\\u03bc\\u03bf\\u03bb\\u1f7c\\u03bd\", \"canvass\", \"beautiful\", \"defend\", \"responsibility\", \"diaz,3908.0,nelson,1053884100501780000.0\", \"01:42:04,marilyn\", \"laugh,87.0,nelson,1053905079479270000.0\", \"whitewash\", \"responsible\", \"quot;i\", \"remember\", \"regardless\", \"03:05:26,live\", \"limbaugh\", \"larry\", \"individual\", \"harper,1.0,hawley,1054383200464710000.0\", \"harper\", \"calling\", \"right\", \"today\", \"slayer,3908.0,nelson,1053862344185370000.0\", \"bethechange\", \"sebastian,3908.0,nelson,1053909809496490000.0\", \"\\\",2018\", \"casualty\", \"11:10:09,michelle\", \"10:45:19,larry\", \"action\", \"growth\", \"03:24:13,rosie\", \"15:13:34,vintageport,.0,rosen,1054450710354580000.0\", \"nope,2018\", \"scott\", \"10:17:48,gayle\", \"illegals\", \"cartwright,3908.0,nelson,1054013887249410000.0\", \"hint\", \"bloomberg\", \"medium\", \"deport\", \"represent\", \"organization\", \"nv,6.0,heller,1054816184275690000.0\", \"join\", \"diverse\", \"SCREEN_NAME\", \"morning\", \"13:15:24,senecatrust,618.0,nelson,1054058581962580000.0\", \"pendakur,33.0,nelson,1054073356033630000.0\", \"14:14:06,ramesh\", \"rising\", \"ren'ee,27.0,mccaskill,1052939899047960000.0\", \"elect\", \",2018\", \"00:19:31,judy\", \"grossman,3908.0,nelson,1053863325526910000.0\", \"00:15:37,buffy\", \"\\ufe0f??happy\", \"vegan\", \"15:25:50,for\", \"community\", \"3908.0,nelson,1053865869368090000.0\", \"17:27:55,stephen\", \"loranc,3908.0,nelson,1054122131758420000.0\", \"17:06:17,bigmike??????,37.0,nelson,1054116689430960000.0\", \"txsen\", \"twitter\", \"laxalt,3.0,heller,1054159858113470000.0\", \"~,618.0,nelson,1054044339092030000.0\", \"12:18:48,~\", \"11:13:39,jrohrich,3908.0,nelson,1054027945558240000.0\", \"party\", \"kavanaugh\", \"going\", \"almost\", \"politico\", \"senat\", \"show\", \"people\", \"enjoy\", \"carlo,1.0,mccaskill,1052719254645210000.0\", \"do.\\\",2018\", \"springfield\", \"tuesday\", \"sensible\", \"shooting\", \"15:10:50,maldenite,76.0,mccaskill,1052638080644070000.0\", \"23:36:43,ahclarice\", \"\\ufe0f,240.0,scott,1054214944839950000.0\", \"excite\", \"20:33:23,chuck\", \"salter,3908.0,nelson,1053993139906670000.0\", \"rally\", \"08:55:21,toby\", \"schram,618.0,nelson,1054044296503090000.0\", \"12:45:55,john\", \"fuhr,547.0,rosen,1054413554038820000.0\", \"12:18:38,jerry\", \"floridian\", \"carnahan,147.0,nelson,1054061614805240000.0\", \"13:27:27,chris\", \"president\", \"09:37:41,lisa\", \"4098.0,rosen,1054366180637600000.0\", \"breaking\", \"nevada\", \",2018\", \"SCREEN_NAME\", \"today\", \"\\\",2018\", \"voter\", \"morning\", \"entire\", \"back\", \"country\", \"trump\", \"close\", \"breaking\", \"johncke\", \"balls,2018\", \"22:51:29,shelbyjak,.0,nelson,1053841171464650000.0\", \"10:53:49,mg,4098.0,rosen,1054385342063640000.0\", \"votebluetosaveamerica\", \"10:51:57,ryan\", \"4098.0,rosen,1054384871542580000.0\", \"bogan,4098.0,rosen,1054354127860520000.0\", \"\\ufe0f????,3908.0,nelson,1053917752052740000.0\", \"03:55:47,joyce\", \"20:02:27,jim\", \"08:49:47,rachel\", \"binning,29.0,mccaskill,1052711468599260000.0\", \"depend\", \"family\", \"healthy\", \"life\", \"ethical\", \"16:00:26,martha\", \"still\", \"13:45:38,bruce\", \"hartman,1816.0,rosen,1054428579306630000.0\", \"00:05:03,analyyst2020,53.0,mccaskill,1052772522540890000.0\", \"consumer\", \"nevada\", \"manufacturer\", \"definition\", \"hardly\", \"senate\", \",2018\", \"15:09:31,ronabarbar,4098.0,rosen,1054449691931360000.0\", \"protection\", \"14:42:22,z,4098.0,rosen,1054442858357440000.0\", \"SCREEN_NAME\", \"\\\",2018\", \"farmer\", \"grierson,1816.0,rosen,1054462505660100000.0\", \"12:38:02,jcwirish,4098.0,rosen,1054411566727090000.0\", \"healthcare\", \"12:46:20,cocoathepuff,1816.0,rosen,1054413656165920000.0\", \"governor\", \"continue\", \"cutting\", \"legacy\", \"growing\", \"royal\", \"quot;.@clairecmc\", \"outright\", \"infuriate\", \"expose\", \"em\\u00b7pa\\u00b7thy\", \"cooper\", \"vestrich,3908.0,nelson,1053931356655380000.0\", \"smiles,4.0,mccaskill,1053071118750440000.0\", \"attention\", \"betray\", \"billnelson\", \"deception\", \"votehimout\", \"voterickscott\", \"constituent\", \"19:51:34,royal\", \"13:30:48,jennifer\", \"smile\", \"brown,1144.0,scott,1054212080553940000.0\", \"sorry\", \"willing\", \"leadership\", \"johnson,2601.0,nelson,1053836222903180000.0\", \"giving\", \"great\", \"wealthy\", \"02:54:27,??victoria\", \"22:31:49,laura\", \"00:04:58,resist&vote!,3908.0,nelson,1053859665333960000.0\", \"worth\", \"potus\", \"\\\",2018\", \"everything\", \"SCREEN_NAME\", \",2018\", \"please\", \"04:49:51,dolores\", \"00:11:28,kay,3908.0,nelson,1053861302605620000.0\", \"00:05:35,evoraist,3908.0,nelson,1053859820309280000.0\", \"locs,3908.0,nelson,1053862826933130000.0\", \"23:25:20,teri\", \"09:37:05,trumps\", \"wave!,2018\", \",13.0,hawley,1054366029193740000.0\", \"redxx,.0,rosen,1054424845172270000.0\", \"money\", \"senate\", \"florida\", \"01:58:45,cindy\", \"break\", \"closer\", \"getting\", \"voting\", \"strong\", \"come\", \"12:26:47,lasha,259.0,nelson,1054046350340320000.0\", \"busin\", \"business\", \"22:08:09,r.b.,316.0,mccaskill,1052743103403190000.0\", \"lack\", \"hurting\", \"leaders\", \"myers\", \"resident\", \"07:12:41,sandra\", \"dickson,91.0,nelson,1053967303711360000.0\", \"12:09:55,deborah\", \"ewing,1816.0,rosen,1054461893312720000.0\", \"15:58:00,doris\", \"donovan,1816.0,rosen,1054404491192090000.0\", \"curl,4098.0,rosen,1054351288559790000.0\", \"08:38:30,valerie\", \"hainault,1274.0,mccaskill,1052522707751850000.0\", \"07:32:23,greg\", \"flipthesenate\", \"local\", \"early\", \"hawley\", \"nevada\", \"today\", \"close\", \"\\\",2018\", \"SCREEN_NAME\", \",2018\", \"taking\", \"state\", \"thousand\", \"steps\", \"17:33:47,maryelizabeth\", \"answer\", \"dorsey,43.0,mccaskill,1053036444896370000.0\", \"hundred\", \"listen\", \"mile\", \"question\", \"15:31:03,chris,.0,nelson,1054817497860370000.0\", \"12:20:42,((mrwvotenov.6)),618.0,nelson,1054044818324620000.0\", \"17:30:10,jacqueline,30.0,mccaskill,1053035532660430000.0\", \"baptist\", \"convention\", \"earth\", \"honor\", \"missionary\", \"12:36:49,jd,.0,mccaskill,1052961710875780000.0\", \"actually\", \"travel\", \"07:01:18,pat\", \"photo\", \"enrage\", \"wearethepatriots,2.0,rosen,1054421078775340000.0\", \"services\", \"prometheus\", \"nation\", \"member\", \"fuller\", \"unite4victory,3908.0,nelson,1053964437365840000.0\", \"13:15:50,steve\", \"arm\", \"bolster\", \"cybersecuri\", \"house\", \"it,2018\", \"take\", \"uphold\", \".@clairecmc\", \"missourian\", \"SCREEN_NAME\", \"\\\",2018\", \"twitter\", \"spezbeau,1.0,nelson,1054074062471940000.0\", \"soap.,2018\", \"slip\", \"14:16:54,dirk\", \",2018\", \"killing\", \"partial\", \"birth\", \"quot;@nelsonforsenate\", \"nevada\", \"voter\", \"morning\", \"committee\", \"senator\", \"democratic\", \"midterm\", \"upcoming\", \"follow\", \"health\", \"tampa\", \"volunteer\", \"owner\", \"abide\", \"missouri\", \"accept\", \"candidate\", \"fight\", \"florida\", \"please\", \"democrat\", \"within\", \"13:34:27,jeff\", \"nelson,70.0,nelson,1054063376932830000.0\", \"tomorrow\", \"11:24:15,gwen\", \"15:16:16,nancyl,70.0,nelson,1054088999587990000.0\", \"promise\", \"modern\", \"history\", \"guilty\", \"di,488.0,rosen,1054461120482710000.0\", \"14:05:51,jbean,62.0,nelson,1054071279408550000.0\", \"progressive\", \"SCREEN_NAME\", \"vote\", \"missourian\", \"alike\", \"bother\", \"invasion\", \"offer\", \"endorse\", \"20:17:37,vote\", \",2018\", \"great\", \"party\", \"right\", \"elect\", \"early\", \"defend\", \"twitter\", \"voteblue\", \"\\\",2018\", \"14:28:25,bruce\", \"19:25:02,mike\", \"murk,174.0,mccaskill,1053064441657510000.0\", \"midtermelections&quot;\\\",2018\", \"11/6,1.0,nelson,1054076825079550000.0\", \"inclusion\", \"flori\", \"nevada\", \"mitch\", \"ending\", \"adebayo,30.0,nelson,1054101116890300000.0\", \"record\", \"16:04:25,adegboyega\", \"14:07:42,britin17k,143.0,rosen,1054434133370240000.0\", \"ballot\", \"washoe\", \"clark\", \"numbers\", \"county\", \"mcconnell\", \"terror\", \"reign\", \"voter\", \"05:05:03,ivotedbluenotorange,3908.0,nelson,1053935183856990000.0\", \"01:48:09,kim,3908.0,nelson,1053885632370690000.0\", \"roman\", \"legion\", \"5,000\", \"12:33:23,francie,1816.0,rosen,1054410399213410000.0\", \"00:52:26,max,3908.0,nelson,1053871608438320000.0\", \"rosenfeld,4098.0,rosen,1054385158034540000.0\", \"10:53:05,moishe\", \"flipthehouse\", \"steve\", \"collins\", \"expelling\", \"dreamer\", \"hutton,618.0,nelson,1054053828843070000.0\", \"grandpa\", \"citizen\", \"12:56:30,janis\", \"\\\",2018\", \"constitutional\", \"SCREEN_NAME\", \"please\", \"senate\", \"turnout\", \"focus\", \"democratic\", \"senator\", \"follow\", \"upcoming\", \"midterm\", \"community\", \"nv,6.0,heller,1054816184275690000.0\", \"alike\", \"organization\", \"focus\", \"turnout\", \"terror\", \"reign\", \"mcconnell\", \"senate\", \"leatherman\", \"105.3\", \"10;@julie_kelly2\", \"10;bobby\", \"10;i&#39;ll\", \"12:00:58,ed\", \"abortion&#10;#ondeck\", \"caravaninvasion\", \"et&#10;1380am\", \"khashoggi\", \"jamal\", \"03:17:27,onanotherplanet,3908.0,nelson,1053908104151210000.0\", \"martin\", \"martin,3.0,hawley,1054402239639490000.0\", \"political\", \"quot;join\", \"sides&#10;china\", \"smf2pcskze\", \"themovement\", \"6th????,79.0,rosen,1054358572644160000.0\", \"01:27:52,david\", \"00:34:53,rina\", \"ray,3908.0,nelson,1053867194013180000.0\", \"00:07:08,diane\", \"corruption\", \"much!\", \"wonder\", \"09:07:27,????vote\", \"yucca\", \"bellinger,3908.0,nelson,1053860211042250000.0\", \"speak\", \"mattos,20.0,rosen,1054402262544440000.0\", \"without\", \"neeff,3908.0,nelson,1053880528544430000.0\", \"please\", \"SCREEN_NAME\", \"\\\",2018\", \"twitter\", \"washington\", \"funding\", \".@rosenfornevada\", \"12:01:03,carolyn\", \"asleep\", \"stay?,2018\", \"collusion,58.0,nelson,1054038246370340000.0\", \"11:54:35,conspiracy\", \"21:51:57,blackcatsoda,.0,scott,1054188579809910000.0\", \"enthusiastic\", \"social\", \"security\", \"mccaskill\", \"human\", \"ability\", \"christian\", \"actively\", \"10:44:59,mobileinfantry,.0,rosen,1054383119829270000.0\", \"intersectional\", \"mobileinfantry\", \"quot;if\", \"theory\", \"white\", \"\\ufe0f????\\ufe0f\\u200d\", \"discriminate\", \"didn&#39;t\", \"another\", \"16:13:20,leiashadowqueen\", \"feelings\", \"understand\", \"voteblue2018,80.0,nelson,1054103360947810000.0\", \"happold,1274.0,mccaskill,1052513546284620000.0\", \"06:55:58,jeremy\", \"would\", \"share\", \"think\", \"support\", \"worth\", \"twitter\", \"01:48:09,kim,3908.0,nelson,1053885632370690000.0\", \"00:52:26,max,3908.0,nelson,1053871608438320000.0\", \"5,000\", \"legion\", \"roman\", \"\\\",2018\", \"catch\", \"believe\", \".@mccaskill4mo\", \"defend\", \"try\", \"destroy\", \"retirement\", \"veteran\", \"price,.0,mccaskill,1052570975626240000.0\", \"thoughts,.0,mccaskill,1053034882715180000.0\", \"impeachtrumpandpencenow\", \"impeachkavanaugh,2018\", \"exist\", \"17:27:35,soccer\", \"quot;&quot\", \"10:44:11,greg\", \"check\", \"13:26:51,browns\", \"victim,1816.0,rosen,1054423852980360000.0\", \"difficult\", \"edit\", \"debunked,&quot\", \"make\", \"information\", \"o\\u2019keefe\", \"often\", \"trump,3908.0,nelson,1053883998772950000.0\", \"01:41:40,never\", \"comedian,1.0,rosen,1054396382541270000.0\", \"pension\", \"quot;godbless\", \"transfer\", \"712.00\", \"comedian\", \"hawaiian\", \"twitter\", \"protect\", \"video\", \"price\", \"claire\", \"conditions\", \"dreamer\", \"15:53:45,grandpa\", \"constitutional\", \"risenvote\", \"wrong\", \"upset\", \"they&#39;re\", \"steve,.0,mccaskill,1052648882763690000.0\", \"steve\", \"ready\", \"quot;i&#39;m\", \"grandpa\", \"expelling\", \"citizen\", \"15:47:58,africanlady\", \"\\ufe0fbluewave??????????,295.0,rosen,1054459364407300000.0\", \"12:56:30,janis\", \"collins\", \"hutton,618.0,nelson,1054053828843070000.0\", \"flipthehouse\", \"poll\", \"place\", \"everything\", \"flipthesenate\", \"twitter\", \"00:52:26,max,3908.0,nelson,1053871608438320000.0\", \"01:48:09,kim,3908.0,nelson,1053885632370690000.0\", \"roman\", \"legion\", \"5,000\", \"today\", \"\\\",2018\", \"07:32:23,greg\", \"hainault,1274.0,mccaskill,1052522707751850000.0\", \"SCREEN_NAME\", \"support\", \"voter\"], \"Total\": [292.0, 29.0, 60.0, 14.0, 13.0, 16.0, 9.0, 9.0, 9.0, 27.0, 11.0, 11.0, 19.0, 9.0, 9.0, 9.0, 9.0, 18.0, 31.0, 18.0, 17.0, 17.0, 8.0, 11.0, 13.0, 8.0, 4.0, 12.0, 3.0, 7.0, 2.0273189544677734, 2.0273189544677734, 2.027379035949707, 2.522982120513916, 1.335699200630188, 1.335699200630188, 1.335699200630188, 1.335699200630188, 1.335699200630188, 1.335699200630188, 1.335699200630188, 1.335699200630188, 1.335699200630188, 1.335699200630188, 1.335699200630188, 1.335699200630188, 1.335699200630188, 1.335699200630188, 1.335699200630188, 1.335699200630188, 1.335699200630188, 1.335699200630188, 1.335699200630188, 1.335699200630188, 1.335699200630188, 1.335699200630188, 1.335699200630188, 1.335699200630188, 1.335699200630188, 1.335699200630188, 1.335699200630188, 1.335699200630188, 1.335699200630188, 1.335699200630188, 1.335699200630188, 1.335699200630188, 1.335699200630188, 1.335699200630188, 1.335699200630188, 1.335699200630188, 1.335699200630188, 1.335699200630188, 1.335699200630188, 1.335699200630188, 13.979324340820312, 292.2857666015625, 31.451780319213867, 60.381874084472656, 2.107334613800049, 3.573455333709717, 2.107334613800049, 3.8245596885681152, 3.741856575012207, 2.7742652893066406, 4.544164180755615, 2.6072306632995605, 1.9431654214859009, 1.9431654214859009, 1.293622374534607, 1.293622374534607, 1.293622374534607, 1.293622374534607, 1.293622374534607, 1.293622374534607, 1.293622374534607, 1.293622374534607, 1.293622374534607, 1.293622374534607, 1.293622374534607, 1.293622374534607, 1.293622374534607, 1.293622374534607, 1.293622374534607, 1.293622374534607, 1.293622374534607, 1.293622374534607, 1.293622374534607, 1.293622374534607, 1.293622374534607, 1.293622374534607, 1.293622374534607, 1.293622374534607, 1.293622374534607, 1.293622374534607, 1.293622374534607, 1.293622374534607, 1.293622374534607, 60.381874084472656, 292.2857666015625, 13.979324340820312, 1.293622374534607, 1.293622374534607, 1.293622374534607, 1.293622374534607, 1.293622374534607, 1.293622374534607, 1.293622374534607, 1.293622374534607, 1.293622374534607, 1.293622374534607, 1.293622374534607, 2.6072306632995605, 1.7779710292816162, 1.055922031402588, 1.055922031402588, 1.055922031402588, 1.055922031402588, 1.055922031402588, 1.055922031402588, 1.055922031402588, 1.056188702583313, 1.0561988353729248, 14.353731155395508, 60.381874084472656, 1.1277798414230347, 1.1277799606323242, 1.1277799606323242, 1.1277799606323242, 1.1277799606323242, 1.1277799606323242, 1.1277799606323242, 1.1277799606323242, 1.1277799606323242, 1.1277799606323242, 1.1277799606323242, 1.1277799606323242, 1.1277799606323242, 1.1277799606323242, 1.1277799606323242, 1.1277799606323242, 1.1277799606323242, 1.1277799606323242, 1.1277799606323242, 1.1277799606323242, 292.2857666015625, 11.147686958312988, 9.76490592956543, 29.001365661621094, 9.764946937561035, 13.895194053649902, 16.4249267578125, 9.764972686767578, 31.451780319213867, 1.266067624092102, 1.266067624092102, 1.266067624092102, 1.266067624092102, 1.4461957216262817, 1.266067624092102, 1.4461957216262817, 2.248311996459961, 1.266067624092102, 1.4461957216262817, 7.1725945472717285, 7.172571182250977, 7.172565937042236, 7.172574996948242, 8.713964462280273, 7.897193431854248, 3.0937623977661133, 11.46936321258545, 9.422429084777832, 8.593745231628418, 2.2770376205444336, 2.2771544456481934, 2.2771544456481934, 9.578621864318848, 1.4606572389602661, 1.4606572389602661, 1.4606572389602661, 1.4606572389602661, 1.4606572389602661, 1.4606572389602661, 1.4606572389602661, 1.4606572389602661, 1.4606572389602661, 1.4606572389602661, 1.4606572389602661, 1.4606572389602661, 1.4606572389602661, 1.4606572389602661, 1.4606572389602661, 1.4606572389602661, 12.538856506347656, 7.173764228820801, 1.4606572389602661, 1.4606572389602661, 1.4606572389602661, 60.381874084472656, 1.4606572389602661, 1.4606572389602661, 1.4606572389602661, 1.4606572389602661, 1.4606572389602661, 1.4606572389602661, 1.4606572389602661, 1.4606572389602661, 1.4606572389602661, 1.4606572389602661, 1.4606572389602661, 1.4606572389602661, 1.4606572389602661, 1.4606572389602661, 1.4606572389602661, 1.4606572389602661, 1.4606572389602661, 1.4606572389602661, 1.4606572389602661, 1.4606572389602661, 1.4606572389602661, 292.2857666015625, 4.372264862060547, 1.4606572389602661, 1.4606572389602661, 1.4606572389602661, 1.4606572389602661, 1.4606572389602661, 4.606186866760254, 31.451780319213867, 1.4606572389602661, 1.4606572389602661, 1.4606572389602661, 1.4606572389602661, 1.4606572389602661, 1.4606572389602661, 1.4606572389602661, 1.4606572389602661, 1.4606572389602661, 1.4606572389602661, 1.4606572389602661, 1.4606572389602661, 13.979324340820312, 1.4606572389602661, 1.4606572389602661, 1.4606572389602661, 1.4606572389602661, 3.756608486175537, 2.152358055114746, 2.2627739906311035, 3.265408992767334, 3.265408992767334, 3.265408992767334, 3.265408992767334, 1.954508900642395, 1.299294114112854, 1.299294114112854, 1.299294114112854, 1.299294114112854, 1.299294114112854, 1.299294114112854, 1.299294114112854, 1.299294114112854, 1.299294114112854, 1.299294114112854, 1.299294114112854, 1.299294114112854, 1.299294114112854, 1.299294114112854, 1.299294114112854, 1.299294114112854, 1.299294114112854, 1.299294114112854, 1.299294114112854, 1.299294114112854, 1.299294114112854, 1.299294114112854, 1.299294114112854, 1.299294114112854, 1.299294114112854, 13.895194053649902, 16.4249267578125, 31.451780319213867, 292.2857666015625, 7.173764228820801, 60.381874084472656, 11.46936321258545, 4.372264862060547, 9.76490592956543, 9.764946937561035, 9.764972686767578, 11.147686958312988, 14.353731155395508, 13.895194053649902, 1.4042547941207886, 1.404254674911499, 1.404254674911499, 1.4042545557022095, 1.4042545557022095, 1.4042547941207886, 1.4042547941207886, 1.4042545557022095, 1.4042547941207886, 1.4042547941207886, 1.4042545557022095, 1.4042545557022095, 1.4042545557022095, 1.4042545557022095, 1.4042545557022095, 1.4042545557022095, 1.4042545557022095, 1.404254674911499, 1.4042545557022095, 1.4042547941207886, 1.4042545557022095, 1.4042545557022095, 1.4042547941207886, 1.4042547941207886, 16.4249267578125, 1.4042547941207886, 1.4042545557022095, 1.4042545557022095, 29.001365661621094, 31.451780319213867, 1.4042545557022095, 1.4042545557022095, 1.4042545557022095, 292.2857666015625, 60.381874084472656, 1.4042547941207886, 1.4042545557022095, 1.4042545557022095, 2.1758899688720703, 1.4042547941207886, 4.271274566650391, 3.544245719909668, 3.544245719909668, 3.544245719909668, 3.544245719909668, 1.368798851966858, 1.368798851966858, 1.368798851966858, 1.368798851966858, 1.368798851966858, 1.368798851966858, 1.368798851966858, 1.368798851966858, 1.368798851966858, 1.368798851966858, 1.368798851966858, 1.368798851966858, 1.368798851966858, 1.368798851966858, 1.368798851966858, 1.368798851966858, 1.368798851966858, 1.368798851966858, 1.368798851966858, 1.368798851966858, 1.368798851966858, 1.368798851966858, 1.368798851966858, 1.368798851966858, 1.368798851966858, 6.686281204223633, 1.368798851966858, 1.368798851966858, 1.368798851966858, 1.368798851966858, 3.280771255493164, 1.368798851966858, 60.381874084472656, 3.3373944759368896, 292.2857666015625, 31.451780319213867, 27.455060958862305, 1.368798851966858, 1.368798851966858, 1.368798851966858, 1.368798851966858, 1.368798851966858, 1.368798851966858, 1.368798851966858, 1.368798851966858, 1.368798851966858, 1.368798851966858, 29.001365661621094, 3.7751479148864746, 1.368798851966858, 2.1709156036376953, 1.368798851966858, 1.368798851966858, 2.375291347503662, 2.375291347503662, 1.2210108041763306, 1.2210108041763306, 1.2210108041763306, 1.2210108041763306, 1.2210108041763306, 1.2210108041763306, 1.2210108041763306, 1.2210108041763306, 1.2210108041763306, 1.2210108041763306, 1.221010684967041, 1.221010684967041, 1.221010684967041, 1.221010684967041, 1.221010684967041, 1.221010684967041, 1.2210108041763306, 1.2210108041763306, 1.2209808826446533, 1.220973253250122, 3.675570249557495, 2.61452054977417, 4.634737968444824, 2.0231270790100098, 16.4249267578125, 7.173764228820801, 14.353731155395508, 60.381874084472656, 292.2857666015625, 31.451780319213867, 3.504664897918701, 2.074432849884033, 1.3592560291290283, 1.3592561483383179, 1.3592560291290283, 1.3592560291290283, 1.3592560291290283, 1.3592560291290283, 1.3592560291290283, 1.3592560291290283, 1.3592560291290283, 1.3592561483383179, 1.3592560291290283, 1.3592561483383179, 1.3592561483383179, 1.3592561483383179, 1.3592561483383179, 1.3592561483383179, 1.3592561483383179, 1.3592561483383179, 1.3592561483383179, 1.3592560291290283, 1.3592561483383179, 1.3592561483383179, 1.3592561483383179, 1.3592561483383179, 1.3592561483383179, 1.3592561483383179, 1.3592561483383179, 1.3592561483383179, 1.3592561483383179, 1.3592561483383179, 1.3592561483383179, 1.3592561483383179, 1.3592561483383179, 1.3592561483383179, 1.3592561483383179, 1.3592561483383179, 1.3592561483383179, 1.3592561483383179, 2.834608554840088, 4.480589866638184, 292.2857666015625, 60.381874084472656, 13.979324340820312, 1.3592561483383179, 1.3592561483383179, 1.3592561483383179, 1.3592561483383179, 31.451780319213867, 1.3592561483383179, 1.3592561483383179, 1.3592561483383179, 1.3592561483383179, 16.4249267578125, 11.46936321258545, 4.372264862060547, 2.1308913230895996, 19.894161224365234, 18.290103912353516, 17.487985610961914, 17.487985610961914, 18.29074478149414, 3.0504283905029297, 3.0504283905029297, 3.0504283905029297, 3.050236701965332, 3.050236701965332, 5.369675159454346, 2.248311996459961, 4.544164180755615, 3.741856575012207, 3.7751479148864746, 27.455060958862305, 3.8669180870056152, 1.4461957216262817, 1.4461957216262817, 1.4461957216262817, 1.4461957216262817, 1.4461957216262817, 1.4461957216262817, 1.4461957216262817, 1.4461957216262817, 1.4461957216262817, 1.4461957216262817, 1.4461957216262817, 1.4461956024169922, 1.4461957216262817, 292.2857666015625, 2.897855281829834, 4.480589866638184, 1.4461957216262817, 1.4461957216262817, 1.4461957216262817, 1.4461957216262817, 1.4461956024169922, 1.4461956024169922, 31.451780319213867, 6.686281204223633, 3.756608486175537, 12.538856506347656, 4.606186866760254, 4.634737968444824, 9.578621864318848, 13.979324340820312, 1.4461957216262817, 60.381874084472656, 1.4461956024169922, 1.4461957216262817, 1.4461957216262817, 1.4461957216262817, 1.4461957216262817, 1.4461957216262817, 1.4461956024169922, 16.4249267578125, 2.0979132652282715, 2.0979132652282715, 1.1284279823303223, 1.1284279823303223, 1.1284279823303223, 1.1284279823303223, 1.1284279823303223, 1.1284279823303223, 1.1284279823303223, 1.1284279823303223, 1.7779710292816162, 9.813429832458496, 9.813429832458496, 9.813429832458496, 11.46936321258545, 1.055922031402588, 1.055922031402588, 1.055922031402588, 1.055922031402588, 1.055922031402588, 1.055922031402588, 1.055922031402588, 1.056188702583313, 1.0561988353729248, 1.1277798414230347, 1.1277799606323242, 1.1277799606323242, 1.1277799606323242, 1.1277799606323242, 1.1277799606323242, 1.1277799606323242, 1.1277799606323242, 1.1277799606323242, 60.381874084472656, 1.1277799606323242, 292.2857666015625, 27.455060958862305, 29.001365661621094, 8.359596252441406, 11.43810749053955, 18.290103912353516, 19.894161224365234, 18.29074478149414, 17.487985610961914, 17.487985610961914, 1.4606572389602661, 1.4606572389602661, 1.4461957216262817, 1.4606572389602661, 11.43810749053955, 8.359596252441406, 9.813429832458496, 9.813429832458496, 9.813429832458496, 29.001365661621094, 1.4157145023345947, 1.4157145023345947, 1.4157145023345947, 1.4157145023345947, 1.4157145023345947, 1.4157145023345947, 1.4157145023345947, 1.4157145023345947, 1.4157145023345947, 1.4157145023345947, 1.4157145023345947, 1.4157145023345947, 1.4157145023345947, 1.4157145023345947, 1.4157145023345947, 1.4157145023345947, 1.4157145023345947, 1.4157145023345947, 1.4157145023345947, 1.4157143831253052, 1.4157143831253052, 1.4157143831253052, 1.4157143831253052, 1.4157143831253052, 1.4157143831253052, 1.4157143831253052, 1.4157143831253052, 1.4157143831253052, 1.4157143831253052, 1.4157143831253052, 1.4157145023345947, 1.4157143831253052, 1.4157143831253052, 1.4157143831253052, 27.455060958862305, 292.2857666015625, 60.381874084472656, 13.979324340820312, 1.4157143831253052, 1.4157143831253052, 1.4157143831253052, 1.4157143831253052, 1.4157143831253052, 1.4157143831253052, 1.4157143831253052, 1.4157143831253052, 1.4157143831253052, 1.4157143831253052, 2.7628464698791504, 2.762810230255127, 2.8673810958862305, 1.1396760940551758, 1.1396760940551758, 1.1396760940551758, 1.1396760940551758, 1.1396760940551758, 1.1396760940551758, 1.1396760940551758, 1.1396760940551758, 1.1396760940551758, 1.1396760940551758, 1.1396760940551758, 1.1396760940551758, 1.1396760940551758, 1.1396760940551758, 1.1396760940551758, 1.1396760940551758, 1.1396760940551758, 1.1396760940551758, 1.1396763324737549, 1.1396763324737549, 1.8548529148101807, 1.911311149597168, 2.522982120513916, 9.422429084777832, 3.280771255493164, 13.979324340820312, 1.055922031402588, 1.055922031402588, 1.055922031402588, 1.055922031402588, 1.055922031402588, 60.381874084472656, 7.897193431854248, 7.172571182250977, 7.172565937042236, 9.578621864318848, 8.593745231628418, 1.8884690999984741, 1.888623595237732, 3.8245596885681152, 1.266067624092102, 1.266067624092102, 1.266067624092102, 1.266067624092102, 1.266067624092102, 1.266067624092102, 1.266067624092102, 1.266067624092102, 1.266067624092102, 1.266067624092102, 1.266067624092102, 1.266067624092102, 1.266067624092102, 1.266067624092102, 1.266067624092102, 1.266067624092102, 1.266067624092102, 1.266067624092102, 1.266067624092102, 1.266067624092102, 1.266273856163025, 1.2662767171859741, 1.266292691230774, 1.2663010358810425, 1.2663049697875977, 1.2663079500198364, 1.2663134336471558, 13.979324340820312, 1.981244444847107, 1.9907872676849365, 2.6072306632995605, 2.7742652893066406, 2.8398189544677734, 1.1277799606323242, 1.1277799606323242, 1.1277799606323242, 1.1277799606323242, 1.1277799606323242, 1.1277799606323242, 1.1277799606323242, 1.1277799606323242, 1.1277799606323242, 1.1277799606323242, 1.1277799606323242, 1.1277799606323242, 1.1277799606323242, 1.1277799606323242, 1.1277799606323242, 1.1277799606323242, 1.1277799606323242, 1.1277799606323242, 1.1277799606323242, 1.1277798414230347, 1.8429566621780396, 1.8994150161743164, 3.3373944759368896, 3.675570249557495, 13.979324340820312, 1.055922031402588, 1.055922031402588, 1.055922031402588, 1.055922031402588, 1.055922031402588, 7.173764228820801, 60.381874084472656, 1.220973253250122, 1.2209808826446533, 292.2857666015625, 9.422429084777832, 11.46936321258545], \"loglift\": [30.0, 29.0, 28.0, 27.0, 26.0, 25.0, 24.0, 23.0, 22.0, 21.0, 20.0, 19.0, 18.0, 17.0, 16.0, 15.0, 14.0, 13.0, 12.0, 11.0, 10.0, 9.0, 8.0, 7.0, 6.0, 5.0, 4.0, 3.0, 2.0, 1.0, 2.5873000621795654, 2.5873000621795654, 2.5869998931884766, 2.368299961090088, 2.3431999683380127, 2.3431999683380127, 2.3431999683380127, 2.3431999683380127, 2.3431999683380127, 2.3431999683380127, 2.3431999683380127, 2.3431999683380127, 2.3431999683380127, 2.3431999683380127, 2.3431999683380127, 2.3431999683380127, 2.3431999683380127, 2.3431999683380127, 2.3431999683380127, 2.3431999683380127, 2.3431999683380127, 2.3431999683380127, 2.3431999683380127, 2.3431999683380127, 2.3431999683380127, 2.3431999683380127, 2.3431999683380127, 2.3431999683380127, 2.3431999683380127, 2.3431999683380127, 2.3431999683380127, 2.3431999683380127, 2.3431999683380127, 2.3431999683380127, 2.3431999683380127, 2.3431999683380127, 2.3431999683380127, 2.3431999683380127, 2.3431999683380127, 2.3431999683380127, 2.3431999683380127, 2.3431999683380127, 2.3431999683380127, 2.3431999683380127, 1.0511000156402588, -1.0054999589920044, -0.13529999554157257, -0.8066999912261963, 1.8871999979019165, 1.3590999841690063, 1.8871999979019165, 1.291200041770935, 1.312999963760376, 1.6122000217437744, 1.1188000440597534, 1.674299955368042, 2.7916998863220215, 2.7916998863220215, 2.537100076675415, 2.537100076675415, 2.537100076675415, 2.537100076675415, 2.537100076675415, 2.537100076675415, 2.537100076675415, 2.537100076675415, 2.537100076675415, 2.537100076675415, 2.537100076675415, 2.537100076675415, 2.537100076675415, 2.537100076675415, 2.537100076675415, 2.537100076675415, 2.537100076675415, 2.537100076675415, 2.537100076675415, 2.537100076675415, 2.537100076675415, 2.537100076675415, 2.537100076675415, 2.537100076675415, 2.537100076675415, 2.537100076675415, 2.537100076675415, 2.537100076675415, 2.537100076675415, 0.43220001459121704, -1.1186000108718872, 0.8184000253677368, 2.537100076675415, 2.537100076675415, 2.537100076675415, 2.537100076675415, 2.537100076675415, 2.537100076675415, 2.537100076675415, 2.537100076675415, 2.537100076675415, 2.537100076675415, 2.537100076675415, 1.836300015449524, 2.219099998474121, 3.3359999656677246, 3.3359999656677246, 3.3359999656677246, 3.3359999656677246, 3.3359999656677246, 3.3359999656677246, 3.3359999656677246, 3.3348000049591064, 3.3348000049591064, 0.7504000067710876, 0.628000020980835, 0.4975000023841858, 0.4975000023841858, 0.4975000023841858, 0.4975000023841858, 0.4975000023841858, 0.4975000023841858, 0.4975000023841858, 0.4975000023841858, 0.4975000023841858, 0.4975000023841858, 0.4975000023841858, 0.4975000023841858, 0.4975000023841858, 0.4975000023841858, 0.4975000023841858, 0.4975000023841858, 0.4975000023841858, 0.4975000023841858, 0.4975000023841858, 0.4975000023841858, -1.1992000341415405, -1.7766000032424927, -1.6452000141143799, -2.735300064086914, -1.6474000215530396, -2.000200033187866, -2.167799949645996, -1.648800015449524, -2.8189001083374023, 0.38190001249313354, 0.38190001249313354, 0.38190001249313354, 0.38190001249313354, 0.24889999628067017, 0.38190001249313354, 0.24889999628067017, -0.1923999935388565, 0.38190001249313354, 0.24889999628067017, 1.8552000522613525, 1.8552000522613525, 1.8552000522613525, 1.8552000522613525, 1.7773000001907349, 1.7589000463485718, 1.7303999662399292, 1.698099970817566, 1.680400013923645, 1.674399971961975, 1.6424000263214111, 1.6405999660491943, 1.6405999660491943, 1.5658999681472778, 1.4259999990463257, 1.4259999990463257, 1.4259999990463257, 1.4259999990463257, 1.4259999990463257, 1.4259999990463257, 1.4259999990463257, 1.4259999990463257, 1.4259999990463257, 1.4259999990463257, 1.4259999990463257, 1.4259999990463257, 1.4259999990463257, 1.4259999990463257, 1.4259999990463257, 1.4259999990463257, 1.4139000177383423, 1.264299988746643, 1.4259999990463257, 1.4259999990463257, 1.4259999990463257, 0.7409999966621399, 1.4259999990463257, 1.4259999990463257, 1.4259999990463257, 1.4259999990463257, 1.4259999990463257, 1.4259999990463257, 1.4259999990463257, 1.4259999990463257, 1.4259999990463257, 1.4259999990463257, 1.4259999990463257, 1.4259999990463257, 1.4259999990463257, 1.4259999990463257, 1.4259999990463257, 1.4259999990463257, 1.4259999990463257, 1.4259999990463257, 1.4259999990463257, 1.4259999990463257, 1.4259999990463257, -0.20489999651908875, 0.9882000088691711, 1.4259999990463257, 1.4259999990463257, 1.4259999990463257, 1.4259999990463257, 1.4259999990463257, 0.9387999773025513, -0.42820000648498535, 1.4259999990463257, 1.4259999990463257, 1.4259999990463257, 1.4259999990463257, 1.4259999990463257, 1.4259999990463257, 1.4259999990463257, 1.4259999990463257, 1.4259999990463257, 1.4259999990463257, 1.4259999990463257, 1.4259999990463257, -0.17170000076293945, 1.4259999990463257, 1.4259999990463257, 1.4259999990463257, 1.4259999990463257, 0.4821000099182129, 1.0389000177383423, 0.9882000088691711, 2.8775999546051025, 2.8775999546051025, 2.8775999546051025, 2.8775999546051025, 2.7163000106811523, 2.4632999897003174, 2.4632999897003174, 2.4632999897003174, 2.4632999897003174, 2.4632999897003174, 2.4632999897003174, 2.4632999897003174, 2.4632999897003174, 2.4632999897003174, 2.4632999897003174, 2.4632999897003174, 2.4632999897003174, 2.4632999897003174, 2.4632999897003174, 2.4632999897003174, 2.4632999897003174, 2.4632999897003174, 2.4632999897003174, 2.4632999897003174, 2.4632999897003174, 2.4632999897003174, 2.4632999897003174, 2.4632999897003174, 2.463200092315674, 2.463200092315674, 1.4545999765396118, 1.284000039100647, 0.8230999708175659, -0.3864000141620636, 1.4160000085830688, -0.28760001063346863, 0.34279999136924744, 1.2497999668121338, 2.342900037765503, 2.342900037765503, 2.342900037765503, 2.289599895477295, 2.239500045776367, 2.1361000537872314, 1.857200026512146, 1.857200026512146, 1.857200026512146, 1.857200026512146, 1.857200026512146, 1.857200026512146, 1.857200026512146, 1.857200026512146, 1.857200026512146, 1.857200026512146, 1.857200026512146, 1.857200026512146, 1.857200026512146, 1.857200026512146, 1.857200026512146, 1.857200026512146, 1.857200026512146, 1.857200026512146, 1.857200026512146, 1.857200026512146, 1.857200026512146, 1.857200026512146, 1.857200026512146, 1.857200026512146, 1.8044999837875366, 1.857200026512146, 1.857200026512146, 1.857200026512146, 1.2542999982833862, 1.231600046157837, 1.857200026512146, 1.857200026512146, 1.857200026512146, -0.8288999795913696, -0.15729999542236328, 1.857200026512146, 1.857200026512146, 1.857200026512146, 1.4192999601364136, 1.857200026512146, 2.3125, 2.2904000282287598, 2.2904000282287598, 2.2904000282287598, 2.2904000282287598, 1.9129999876022339, 1.9129999876022339, 1.9129999876022339, 1.9129999876022339, 1.9129999876022339, 1.9129999876022339, 1.9129999876022339, 1.9129999876022339, 1.9129999876022339, 1.9129999876022339, 1.9129999876022339, 1.9129999876022339, 1.9129999876022339, 1.9129999876022339, 1.9129999876022339, 1.9129999876022339, 1.9129999876022339, 1.9129999876022339, 1.9129999876022339, 1.9129999876022339, 1.9129999876022339, 1.9129999876022339, 1.9129999876022339, 1.9129999876022339, 1.9129999876022339, 1.8411999940872192, 1.9129999876022339, 1.9129999876022339, 1.9129999876022339, 1.9129999876022339, 1.698099970817566, 1.9129999876022339, 0.9573000073432922, 1.6830999851226807, 0.061500001698732376, -0.0348999984562397, -0.42329999804496765, 1.9129999876022339, 1.9129999876022339, 1.9129999876022339, 1.9129999876022339, 1.9129999876022339, 1.9129999876022339, 1.9129999876022339, 1.9129999876022339, 1.9129999876022339, 1.9129999876022339, -1.1368999481201172, 0.8985000252723694, 1.9129999876022339, 1.451799988746643, 1.9129999876022339, 1.9129999876022339, 3.1763999462127686, 3.1763999462127686, 2.786400079727173, 2.786400079727173, 2.786400079727173, 2.786400079727173, 2.786400079727173, 2.786400079727173, 2.786400079727173, 2.786400079727173, 2.786400079727173, 2.786400079727173, 2.786400079727173, 2.786400079727173, 2.786400079727173, 2.786400079727173, 2.786400079727173, 2.786400079727173, 2.786400079727173, 2.786400079727173, 2.786099910736084, 2.786099910736084, 2.739799976348877, 2.6863999366760254, 2.507999897003174, 2.2815001010894775, 1.2740999460220337, 1.0156999826431274, 1.0062999725341797, 0.24150000512599945, -1.0990999937057495, -0.43880000710487366, 2.5601999759674072, 2.4082000255584717, 2.1695001125335693, 2.1695001125335693, 2.1695001125335693, 2.1695001125335693, 2.1695001125335693, 2.1695001125335693, 2.1695001125335693, 2.1695001125335693, 2.1695001125335693, 2.1695001125335693, 2.1695001125335693, 2.1695001125335693, 2.1695001125335693, 2.1695001125335693, 2.1695001125335693, 2.1695001125335693, 2.1695001125335693, 2.1695001125335693, 2.1695001125335693, 2.1695001125335693, 2.1695001125335693, 2.1695001125335693, 2.1695001125335693, 2.1695001125335693, 2.1695001125335693, 2.1695001125335693, 2.1695001125335693, 2.1695001125335693, 2.1695001125335693, 2.1695001125335693, 2.1695001125335693, 2.1695001125335693, 2.1695001125335693, 2.1695001125335693, 2.1695001125335693, 2.1695001125335693, 2.1695001125335693, 2.1695001125335693, 2.0959999561309814, 1.638100028038025, -0.41440001130104065, -0.41530001163482666, 0.5006999969482422, 2.1695001125335693, 2.1695001125335693, 2.1695001125335693, 2.1695001125335693, -0.6870999932289124, 2.1695001125335693, 2.1695001125335693, 2.1695001125335693, 2.1695001125335693, -0.30730000138282776, 0.03720000013709068, 1.0011999607086182, 1.7199000120162964, 1.4256999492645264, 1.423200011253357, 1.4215999841690063, 1.4215999841690063, 1.4211000204086304, 1.2410000562667847, 1.2410000562667847, 1.2410000562667847, 1.2403000593185425, 1.2403000593185425, 1.1770999431610107, 1.1514999866485596, 1.1246999502182007, 1.0358999967575073, 1.027899980545044, 1.0169999599456787, 1.0038000345230103, 0.9312999844551086, 0.9312999844551086, 0.9312999844551086, 0.9312999844551086, 0.9312999844551086, 0.9312999844551086, 0.9312999844551086, 0.9312999844551086, 0.9312999844551086, 0.9312999844551086, 0.9312999844551086, 0.9312999844551086, 0.9312999844551086, 0.8508999943733215, 0.8977000117301941, 0.8557000160217285, 0.9312999844551086, 0.9312999844551086, 0.9312999844551086, 0.9312999844551086, 0.9312999844551086, 0.9312999844551086, 0.18780000507831573, 0.49540001153945923, 0.6381000280380249, 0.10909999907016754, 0.4341999888420105, 0.42899999022483826, 0.09600000083446503, -0.2809000015258789, 0.9312999844551086, -1.4342999458312988, 0.9312999844551086, 0.9312999844551086, 0.9312999844551086, 0.9312999844551086, 0.9312999844551086, 0.9312999844551086, 0.9312999844551086, -1.472100019454956, 3.571899890899658, 3.571899890899658, 3.1370999813079834, 3.1370999813079834, 3.1370999813079834, 3.1370999813079834, 3.1370999813079834, 3.1370999813079834, 3.1370999813079834, 3.1370999813079834, 2.682499885559082, 2.0297000408172607, 2.0297000408172607, 2.0297000408172607, 0.8183000087738037, 0.4309999942779541, 0.4309999942779541, 0.4309999942779541, 0.4309999942779541, 0.4309999942779541, 0.4309999942779541, 0.4309999942779541, 0.43070000410079956, 0.43070000410079956, 0.3650999963283539, 0.3650999963283539, 0.3650999963283539, 0.3650999963283539, 0.3650999963283539, 0.3650999963283539, 0.3650999963283539, 0.3650999963283539, 0.3650999963283539, -0.2515000104904175, 0.3650999963283539, -4.988800048828125, -2.7730000019073486, -2.8278000354766846, -1.6105999946594238, -1.9241000413894653, -2.3935000896453857, -2.47760009765625, -2.3935999870300293, -2.3487000465393066, -2.3487000465393066, 0.10649999976158142, 0.10649999976158142, 0.11640000343322754, 0.10649999976158142, 2.203399896621704, 2.1921000480651855, 2.031899929046631, 2.031899929046631, 2.031899929046631, 1.8157000541687012, 1.7243000268936157, 1.7243000268936157, 1.7243000268936157, 1.7243000268936157, 1.7243000268936157, 1.7243000268936157, 1.7243000268936157, 1.7243000268936157, 1.7243000268936157, 1.7243000268936157, 1.7243000268936157, 1.7243000268936157, 1.7243000268936157, 1.7243000268936157, 1.7243000268936157, 1.7243000268936157, 1.7243000268936157, 1.7243000268936157, 1.7243000268936157, 1.7243000268936157, 1.7243000268936157, 1.7243000268936157, 1.7243000268936157, 1.7243000268936157, 1.7243000268936157, 1.7243000268936157, 1.7243000268936157, 1.7243000268936157, 1.7243000268936157, 1.7243000268936157, 1.7243000268936157, 1.7243000268936157, 1.7243000268936157, 1.7243000268936157, 1.0029000043869019, -0.17350000143051147, -0.1378999948501587, 0.0957999974489212, 1.7243000268936157, 1.7243000268936157, 1.7243000268936157, 1.7243000268936157, 1.7243000268936157, 1.7243000268936157, 1.7243000268936157, 1.7243000268936157, 1.7243000268936157, 1.7243000268936157, 1.0583000183105469, 1.0580999851226807, 1.0184999704360962, 3.0978000164031982, 3.0978000164031982, 3.0978000164031982, 3.0978000164031982, 3.0978000164031982, 3.0978000164031982, 3.0978000164031982, 3.0978000164031982, 3.0978000164031982, 3.0978000164031982, 3.0978000164031982, 3.0978000164031982, 3.0978000164031982, 3.0978000164031982, 3.0978000164031982, 3.0978000164031982, 3.0978000164031982, 3.0978000164031982, 3.0978000164031982, 3.0978000164031982, 2.6106998920440674, 2.5808000564575195, 2.303100109100342, 2.0950000286102295, 2.0404999256134033, 0.5910000205039978, 0.40149998664855957, 0.40149998664855957, 0.40149998664855957, 0.40149998664855957, 0.40149998664855957, -0.8526999950408936, -1.5550999641418457, -1.4615000486373901, -1.4616999626159668, -1.7472000122070312, -1.6419999599456787, 2.966200113296509, 2.96560001373291, 2.9372000694274902, 2.7060000896453857, 2.7060000896453857, 2.7060000896453857, 2.7060000896453857, 2.7060000896453857, 2.7060000896453857, 2.7060000896453857, 2.7060000896453857, 2.7060000896453857, 2.7060000896453857, 2.7060000896453857, 2.7060000896453857, 2.7060000896453857, 2.7060000896453857, 2.7060000896453857, 2.7060000896453857, 2.7060000896453857, 2.7060000896453857, 2.7060000896453857, 2.7060000896453857, 2.7044999599456787, 2.7044999599456787, 2.704400062561035, 2.7042999267578125, 2.7042999267578125, 2.7042999267578125, 2.704200029373169, 0.9649999737739563, 2.25819993019104, 2.2534000873565674, 1.9836000204086304, 1.9214999675750732, 1.8981000185012817, 3.159899950027466, 3.159899950027466, 3.159899950027466, 3.159899950027466, 3.159899950027466, 3.159899950027466, 3.159899950027466, 3.159899950027466, 3.159899950027466, 3.159899950027466, 3.159899950027466, 3.159899950027466, 3.159899950027466, 3.159899950027466, 3.159899950027466, 3.159899950027466, 3.159899950027466, 3.159899950027466, 3.159899950027466, 3.159899950027466, 2.668800115585327, 2.638700008392334, 2.075000047683716, 1.9785000085830688, 0.6425999999046326, 0.45320001244544983, 0.45320001244544983, 0.45320001244544983, 0.45320001244544983, 0.45320001244544983, -0.42170000076293945, -3.406100034713745, 0.3140000104904175, 0.31279999017715454, -5.013500213623047, -1.7024999856948853, -1.9256000518798828], \"logprob\": [30.0, 29.0, 28.0, 27.0, 26.0, 25.0, 24.0, 23.0, 22.0, 21.0, 20.0, 19.0, 18.0, 17.0, 16.0, 15.0, 14.0, 13.0, 12.0, 11.0, 10.0, 9.0, 8.0, 7.0, 6.0, 5.0, 4.0, 3.0, 2.0, 1.0, -4.263999938964844, -4.263999938964844, -4.264200210571289, -4.264200210571289, -4.9253997802734375, -4.9253997802734375, -4.9253997802734375, -4.9253997802734375, -4.9253997802734375, -4.9253997802734375, -4.9253997802734375, -4.9253997802734375, -4.9253997802734375, -4.9253997802734375, -4.9253997802734375, -4.9253997802734375, -4.9253997802734375, -4.9253997802734375, -4.9253997802734375, -4.9253997802734375, -4.9253997802734375, -4.9253997802734375, -4.9253997802734375, -4.9253997802734375, -4.9253997802734375, -4.9253997802734375, -4.9253997802734375, -4.9253997802734375, -4.9253997802734375, -4.9253997802734375, -4.9253997802734375, -4.9253997802734375, -4.9253997802734375, -4.9253997802734375, -4.9253997802734375, -4.9253997802734375, -4.9253997802734375, -4.9253997802734375, -4.9253997802734375, -4.9253997802734375, -4.9253997802734375, -4.9253997802734375, -4.9253997802734375, -4.9253997802734375, -3.86929988861084, -2.8857998847961426, -4.244800090789795, -4.263999938964844, -4.9253997802734375, -4.9253997802734375, -4.9253997802734375, -4.9253997802734375, -4.9253997802734375, -4.9253997802734375, -4.9253997802734375, -4.9253997802734375, -4.1020002365112305, -4.1020002365112305, -4.763400077819824, -4.763400077819824, -4.763400077819824, -4.763400077819824, -4.763400077819824, -4.763400077819824, -4.763400077819824, -4.763400077819824, -4.763400077819824, -4.763400077819824, -4.763400077819824, -4.763400077819824, -4.763400077819824, -4.763400077819824, -4.763400077819824, -4.763400077819824, -4.763400077819824, -4.763400077819824, -4.763400077819824, -4.763400077819824, -4.763400077819824, -4.763400077819824, -4.763400077819824, -4.763400077819824, -4.763400077819824, -4.763400077819824, -4.763400077819824, -4.763400077819824, -4.763400077819824, -3.025099992752075, -2.998800039291382, -4.1020002365112305, -4.763400077819824, -4.763400077819824, -4.763400077819824, -4.763400077819824, -4.763400077819824, -4.763400077819824, -4.763400077819824, -4.763400077819824, -4.763400077819824, -4.763400077819824, -4.763400077819824, -4.763400077819824, -4.763400077819824, -4.167600154876709, -4.167600154876709, -4.167600154876709, -4.167600154876709, -4.167600154876709, -4.167600154876709, -4.167600154876709, -4.168499946594238, -4.168499946594238, -4.143599987030029, -2.8292999267578125, -6.940199851989746, -6.940199851989746, -6.940199851989746, -6.940199851989746, -6.940199851989746, -6.940199851989746, -6.940199851989746, -6.940199851989746, -6.940199851989746, -6.940199851989746, -6.940199851989746, -6.940199851989746, -6.940199851989746, -6.940199851989746, -6.940199851989746, -6.940199851989746, -6.940199851989746, -6.940199851989746, -6.940199851989746, -6.940199851989746, -3.079400062561035, -6.923399925231934, -6.9243998527526855, -6.925899982452393, -6.926499843597412, -6.926700115203857, -6.927000045776367, -6.927999973297119, -6.928500175476074, -6.940199851989746, -6.940199851989746, -6.940199851989746, -6.940199851989746, -6.940199851989746, -6.940199851989746, -6.940199851989746, -6.940199851989746, -6.940199851989746, -6.940199851989746, -3.7325000762939453, -3.732599973678589, -3.732599973678589, -3.732599973678589, -3.615799903869629, -3.732599973678589, -4.698299884796143, -3.4202001094818115, -3.634500026702881, -3.732599973678589, -5.092700004577637, -5.0945000648498535, -5.0945000648498535, -3.732599973678589, -5.753200054168701, -5.753200054168701, -5.753200054168701, -5.753200054168701, -5.753200054168701, -5.753200054168701, -5.753200054168701, -5.753200054168701, -5.753200054168701, -5.753200054168701, -5.753200054168701, -5.753200054168701, -5.753200054168701, -5.753200054168701, -5.753200054168701, -5.753200054168701, -3.615299940109253, -4.323200225830078, -5.753200054168701, -5.753200054168701, -5.753200054168701, -2.7163000106811523, -5.753200054168701, -5.753200054168701, -5.753200054168701, -5.753200054168701, -5.753200054168701, -5.753200054168701, -5.753200054168701, -5.753200054168701, -5.753200054168701, -5.753200054168701, -5.753200054168701, -5.753200054168701, -5.753200054168701, -5.753200054168701, -5.753200054168701, -5.753200054168701, -5.753200054168701, -5.753200054168701, -5.753200054168701, -5.753200054168701, -5.753200054168701, -2.085099935531616, -5.0945000648498535, -5.753200054168701, -5.753200054168701, -5.753200054168701, -5.753200054168701, -5.753200054168701, -5.091800212860107, -4.537799835205078, -5.753200054168701, -5.753200054168701, -5.753200054168701, -5.753200054168701, -5.753200054168701, -5.753200054168701, -5.753200054168701, -5.753200054168701, -5.753200054168701, -5.753200054168701, -5.753200054168701, -5.753200054168701, -5.092100143432617, -5.753200054168701, -5.753200054168701, -5.753200054168701, -5.753200054168701, -5.752399921417236, -5.752600193023682, -5.753200054168701, -3.496999979019165, -3.496999979019165, -3.496999979019165, -3.496999979019165, -4.171500205993652, -4.832900047302246, -4.832900047302246, -4.832900047302246, -4.832900047302246, -4.832900047302246, -4.832900047302246, -4.832900047302246, -4.832900047302246, -4.832900047302246, -4.832900047302246, -4.832900047302246, -4.832900047302246, -4.832900047302246, -4.832900047302246, -4.832900047302246, -4.832900047302246, -4.832900047302246, -4.832900047302246, -4.832900047302246, -4.832900047302246, -4.832900047302246, -4.832900047302246, -4.832900047302246, -4.832900047302246, -4.832900047302246, -3.4718000888824463, -3.4751999378204346, -3.286400079727173, -2.2665998935699463, -4.171500205993652, -3.7448999881744385, -4.775599956512451, -4.832900047302246, -2.936300039291382, -2.936300039291382, -2.936300039291382, -2.8571999073028564, -2.654400110244751, -2.7904000282287598, -5.361299991607666, -5.361299991607666, -5.361299991607666, -5.361299991607666, -5.361299991607666, -5.361299991607666, -5.361299991607666, -5.361299991607666, -5.361299991607666, -5.361299991607666, -5.361299991607666, -5.361299991607666, -5.361299991607666, -5.361299991607666, -5.361299991607666, -5.361299991607666, -5.361299991607666, -5.361299991607666, -5.361299991607666, -5.361299991607666, -5.361299991607666, -5.361299991607666, -5.361299991607666, -5.361299991607666, -2.954699993133545, -5.361299991607666, -5.361299991607666, -5.361299991607666, -2.936300039291382, -2.8778998851776123, -5.361299991607666, -5.361299991607666, -5.361299991607666, -2.709199905395508, -3.6145999431610107, -5.361299991607666, -5.361299991607666, -5.361299991607666, -5.361299991607666, -5.361299991607666, -3.793600082397461, -4.002299785614014, -4.002299785614014, -4.002299785614014, -4.002299785614014, -5.331099987030029, -5.331099987030029, -5.331099987030029, -5.331099987030029, -5.331099987030029, -5.331099987030029, -5.331099987030029, -5.331099987030029, -5.331099987030029, -5.331099987030029, -5.331099987030029, -5.331099987030029, -5.331099987030029, -5.331099987030029, -5.331099987030029, -5.331099987030029, -5.331099987030029, -5.331099987030029, -5.331099987030029, -5.331099987030029, -5.331099987030029, -5.331099987030029, -5.331099987030029, -5.331099987030029, -5.331099987030029, -3.816699981689453, -5.331099987030029, -5.331099987030029, -5.331099987030029, -5.331099987030029, -4.671800136566162, -5.331099987030029, -2.5, -4.6697001457214355, -1.8187999725341797, -4.144400119781494, -4.668799877166748, -5.331099987030029, -5.331099987030029, -5.331099987030029, -5.331099987030029, -5.331099987030029, -5.331099987030029, -5.331099987030029, -5.331099987030029, -5.331099987030029, -5.331099987030029, -5.327600002288818, -5.331099987030029, -5.331099987030029, -5.331099987030029, -5.331099987030029, -5.331099987030029, -3.516400098800659, -3.516400098800659, -4.571899890899658, -4.571899890899658, -4.571899890899658, -4.571899890899658, -4.571899890899658, -4.571899890899658, -4.571899890899658, -4.571899890899658, -4.571899890899658, -4.571899890899658, -4.571899890899658, -4.571899890899658, -4.571899890899658, -4.571899890899658, -4.571899890899658, -4.571899890899658, -4.571899890899658, -4.571899890899658, -4.572199821472168, -4.572299957275391, -3.516400098800659, -3.9105000495910645, -3.516400098800659, -4.571899890899658, -3.485100030899048, -4.571899890899658, -3.887700080871582, -3.2158000469207764, -2.9793999195098877, -4.548299789428711, -3.7437000274658203, -4.420100212097168, -5.081500053405762, -5.081500053405762, -5.081500053405762, -5.081500053405762, -5.081500053405762, -5.081500053405762, -5.081500053405762, -5.081500053405762, -5.081500053405762, -5.081500053405762, -5.081500053405762, -5.081500053405762, -5.081500053405762, -5.081500053405762, -5.081500053405762, -5.081500053405762, -5.081500053405762, -5.081500053405762, -5.081500053405762, -5.081500053405762, -5.081500053405762, -5.081500053405762, -5.081500053405762, -5.081500053405762, -5.081500053405762, -5.081500053405762, -5.081500053405762, -5.081500053405762, -5.081500053405762, -5.081500053405762, -5.081500053405762, -5.081500053405762, -5.081500053405762, -5.081500053405762, -5.081500053405762, -5.081500053405762, -5.081500053405762, -5.081500053405762, -4.420100212097168, -4.420100212097168, -2.2946999073028564, -3.8726000785827637, -4.4197998046875, -5.081500053405762, -5.081500053405762, -5.081500053405762, -5.081500053405762, -4.796599864959717, -5.081500053405762, -5.081500053405762, -5.081500053405762, -5.081500053405762, -5.066500186920166, -5.081200122833252, -5.081500053405762, -5.081500053405762, -3.141900062561035, -3.2284998893737793, -3.274899959564209, -3.274899959564209, -3.2304999828338623, -5.201700210571289, -5.201700210571289, -5.201700210571289, -5.202499866485596, -5.202499866485596, -4.700099945068359, -5.596399784088135, -4.91949987411499, -5.202499866485596, -5.201700210571289, -3.2284998893737793, -5.201700210571289, -6.257800102233887, -6.257800102233887, -6.257800102233887, -6.257800102233887, -6.257800102233887, -6.257800102233887, -6.257800102233887, -6.257800102233887, -6.257800102233887, -6.257800102233887, -6.257800102233887, -6.257800102233887, -6.257800102233887, -1.0293999910354614, -5.596399784088135, -5.202499866485596, -6.257800102233887, -6.257800102233887, -6.257800102233887, -6.257800102233887, -6.257800102233887, -6.257800102233887, -3.9217000007629395, -5.162499904632568, -5.596399784088135, -4.920000076293945, -5.596399784088135, -5.5954999923706055, -5.202499866485596, -5.201300144195557, -6.257800102233887, -4.891600131988525, -6.257800102233887, -6.257800102233887, -6.257800102233887, -6.257800102233887, -6.257800102233887, -6.257800102233887, -6.257800102233887, -6.231299877166748, -3.2451999187469482, -3.2451999187469482, -4.300000190734863, -4.300000190734863, -4.300000190734863, -4.300000190734863, -4.300000190734863, -4.300000190734863, -4.300000190734863, -4.300000190734863, -4.300000190734863, -3.2446000576019287, -3.2446000576019287, -3.2446000576019287, -4.300000190734863, -7.0725998878479, -7.0725998878479, -7.0725998878479, -7.0725998878479, -7.0725998878479, -7.0725998878479, -7.0725998878479, -7.0725998878479, -7.0725998878479, -7.0725998878479, -7.0725998878479, -7.0725998878479, -7.0725998878479, -7.0725998878479, -7.0725998878479, -7.0725998878479, -7.0725998878479, -7.0725998878479, -3.7088000774383545, -7.0725998878479, -6.86899995803833, -7.018499851226807, -7.018499851226807, -7.045199871063232, -7.045199871063232, -7.045199871063232, -7.045199871063232, -7.045199871063232, -7.045199871063232, -7.045199871063232, -7.0725998878479, -7.0725998878479, -7.0725998878479, -7.0725998878479, -2.91759991645813, -3.242500066757202, -3.242300033569336, -3.242300033569336, -3.242300033569336, -2.375, -5.486100196838379, -5.486100196838379, -5.486100196838379, -5.486100196838379, -5.486100196838379, -5.486100196838379, -5.486100196838379, -5.486100196838379, -5.486100196838379, -5.486100196838379, -5.486100196838379, -5.486100196838379, -5.486100196838379, -5.486100196838379, -5.486100196838379, -5.486100196838379, -5.486100196838379, -5.486100196838379, -5.486100196838379, -5.486100196838379, -5.486100196838379, -5.486100196838379, -5.486100196838379, -5.486100196838379, -5.486100196838379, -5.486100196838379, -5.486100196838379, -5.486100196838379, -5.486100196838379, -5.486100196838379, -5.486100196838379, -5.486100196838379, -5.486100196838379, -5.486100196838379, -3.242500066757202, -2.053800106048584, -3.5952999591827393, -4.8246002197265625, -5.486100196838379, -5.486100196838379, -5.486100196838379, -5.486100196838379, -5.486100196838379, -5.486100196838379, -5.486100196838379, -5.486100196838379, -5.486100196838379, -5.486100196838379, -5.483500003814697, -5.483699798583984, -5.486100196838379, -4.329400062561035, -4.329400062561035, -4.329400062561035, -4.329400062561035, -4.329400062561035, -4.329400062561035, -4.329400062561035, -4.329400062561035, -4.329400062561035, -4.329400062561035, -4.329400062561035, -4.329400062561035, -4.329400062561035, -4.329400062561035, -4.329400062561035, -4.329400062561035, -4.329400062561035, -4.329400062561035, -4.329400062561035, -4.329400062561035, -4.329400062561035, -4.329400062561035, -4.329400062561035, -3.219899892807007, -4.329400062561035, -4.329400062561035, -7.1020002365112305, -7.1020002365112305, -7.1020002365112305, -7.1020002365112305, -7.1020002365112305, -4.310100078582764, -7.046599864959717, -7.049300193786621, -7.0493998527526855, -7.045599937438965, -7.048999786376953, -3.9560000896453857, -3.9565000534057617, -3.2792999744415283, -4.616099834442139, -4.616099834442139, -4.616099834442139, -4.616099834442139, -4.616099834442139, -4.616099834442139, -4.616099834442139, -4.616099834442139, -4.616099834442139, -4.616099834442139, -4.616099834442139, -4.616099834442139, -4.616099834442139, -4.616099834442139, -4.616099834442139, -4.616099834442139, -4.616099834442139, -4.616099834442139, -4.616099834442139, -4.616099834442139, -4.617400169372559, -4.617400169372559, -4.617499828338623, -4.617599964141846, -4.617599964141846, -4.617599964141846, -4.617599964141846, -3.955399990081787, -4.616099834442139, -4.616099834442139, -4.616099834442139, -4.616099834442139, -4.616099834442139, -4.2778000831604, -4.2778000831604, -4.2778000831604, -4.2778000831604, -4.2778000831604, -4.2778000831604, -4.2778000831604, -4.2778000831604, -4.2778000831604, -4.2778000831604, -4.2778000831604, -4.2778000831604, -4.2778000831604, -4.2778000831604, -4.2778000831604, -4.2778000831604, -4.2778000831604, -4.2778000831604, -4.2778000831604, -4.2778000831604, -4.2778000831604, -4.2778000831604, -4.2778000831604, -4.2778000831604, -4.2778000831604, -7.0503997802734375, -7.0503997802734375, -7.0503997802734375, -7.0503997802734375, -7.0503997802734375, -6.009300231933594, -6.863399982452393, -7.044300079345703, -7.045499801635742, -6.893799781799316, -7.017399787902832, -7.043900012969971]}, \"token.table\": {\"Topic\": [1, 2, 3, 4, 5, 6, 7, 8, 9, 10, 11, 12, 13, 7, 1, 4, 5, 6, 7, 8, 9, 10, 12, 2, 6, 9, 4, 12, 7, 6, 7, 12, 7, 4, 4, 12, 12, 14, 4, 7, 7, 4, 12, 4, 6, 7, 13, 9, 2, 8, 8, 1, 2, 10, 8, 6, 5, 1, 2, 12, 7, 5, 1, 12, 4, 2, 1, 14, 13, 4, 6, 6, 2, 12, 12, 12, 2, 10, 2, 4, 4, 10, 12, 12, 12, 8, 5, 4, 9, 8, 9, 6, 5, 6, 15, 4, 9, 14, 5, 7, 10, 6, 10, 11, 1, 4, 9, 10, 6, 6, 5, 4, 10, 4, 9, 15, 15, 8, 1, 6, 11, 13, 2, 2, 4, 14, 4, 9, 9, 10, 7, 6, 1, 10, 5, 12, 8, 2, 7, 6, 7, 5, 4, 5, 6, 10, 1, 12, 14, 1, 2, 3, 4, 5, 6, 7, 8, 9, 10, 12, 10, 13, 12, 10, 4, 13, 9, 11, 10, 5, 1, 13, 9, 9, 12, 7, 6, 11, 6, 9, 1, 1, 4, 4, 12, 4, 7, 7, 6, 9, 4, 6, 9, 2, 2, 10, 7, 10, 5, 6, 7, 2, 8, 8, 2, 4, 1, 1, 10, 4, 12, 5, 5, 4, 4, 4, 7, 14, 1, 1, 13, 15, 1, 4, 14, 11, 6, 8, 7, 1, 15, 12, 8, 14, 14, 9, 12, 4, 10, 12, 14, 7, 15, 6, 7, 1, 9, 7, 2, 12, 1, 6, 2, 11, 2, 8, 7, 9, 2, 14, 4, 7, 4, 10, 6, 1, 4, 10, 10, 6, 4, 14, 10, 4, 1, 8, 13, 14, 13, 4, 5, 8, 9, 15, 1, 5, 8, 10, 9, 14, 4, 7, 10, 7, 11, 10, 5, 9, 12, 6, 12, 6, 6, 7, 15, 8, 5, 14, 15, 7, 6, 6, 13, 2, 1, 10, 15, 4, 8, 15, 10, 7, 10, 5, 1, 12, 10, 5, 9, 12, 4, 7, 7, 2, 4, 10, 7, 15, 7, 10, 6, 4, 7, 4, 10, 8, 13, 6, 4, 4, 6, 14, 8, 10, 10, 6, 12, 6, 1, 1, 4, 10, 9, 9, 13, 9, 8, 15, 1, 4, 14, 14, 10, 4, 14, 7, 13, 10, 9, 12, 6, 7, 4, 2, 1, 4, 12, 9, 1, 12, 8, 4, 4, 4, 8, 7, 12, 7, 1, 6, 1, 2, 4, 9, 4, 8, 7, 2, 4, 2, 1, 2, 14, 6, 12, 12, 12, 2, 10, 12, 11, 12, 1, 4, 9, 2, 10, 10, 9, 2, 1, 1, 9, 9, 10, 9, 10, 11, 13, 10, 1, 7, 4, 5, 7, 9, 1, 12, 10, 8, 9, 12, 10, 4, 5, 6, 8, 9, 10, 2, 2, 4, 1, 2, 4, 12, 11, 2, 4, 10, 14, 4, 1, 7, 10, 14, 9, 1, 4, 10, 1, 4, 14, 5, 9, 12, 15, 7, 10, 12, 12, 5, 9, 15, 7, 5, 1, 2, 14, 14, 2, 1, 2, 10, 9, 10, 9, 14, 6, 9, 14, 7, 9, 2, 2, 14, 1, 4, 15, 13, 12, 1, 1, 5, 2, 12, 15, 11, 7, 4, 11, 12, 4, 4, 4, 2, 8, 4, 4, 14, 1, 2, 4, 10, 15, 4, 7, 5, 2, 5, 1, 4, 4, 7, 12, 14, 5, 6, 7, 12, 10, 5, 9, 12, 13, 1, 2, 5, 5, 12, 4, 9, 12, 7, 7, 9, 7, 12, 14, 7, 12, 9, 1, 5, 9, 12, 9, 15, 15, 6, 8, 4, 13, 9, 9, 10, 1, 12, 2, 11, 12, 12, 13, 15, 1, 1, 13, 14, 9, 2, 4, 5, 8, 10, 14, 9, 6, 14, 14, 4, 2, 4, 12, 5, 2, 12, 1, 2, 4, 7, 9, 10, 12, 13, 14, 15, 4, 13, 9, 10, 9, 15, 4, 7, 1, 14, 2, 14, 7, 14, 10, 2, 10, 10, 13, 6, 7, 4, 5, 9, 11, 7, 8, 4, 7, 12, 11, 7, 7, 9, 13, 4, 7, 10, 12, 2, 12, 1, 7, 13, 9, 13, 15, 1, 12, 4, 4, 5, 6, 13, 4, 15], \"Freq\": [0.01656126230955124, 0.06624504923820496, 0.03312252461910248, 0.2981027066707611, 0.03312252461910248, 0.0828063040971756, 0.2152964025735855, 0.03312252461910248, 0.04968378320336342, 0.04968378320336342, 0.01656126230955124, 0.0828063040971756, 0.01656126230955124, 0.7305675148963928, 0.031794700771570206, 0.09538410604000092, 0.09538410604000092, 0.31794703006744385, 0.09538410604000092, 0.031794700771570206, 0.031794700771570206, 0.28615233302116394, 0.031794700771570206, 0.7730231285095215, 0.35278239846229553, 0.35278239846229553, 0.9759408235549927, 0.7063571810722351, 0.7305675148963928, 0.7121214866638184, 0.7305675148963928, 0.7063571810722351, 0.7305675148963928, 0.6846233010292053, 0.6846233010292053, 0.7063571810722351, 0.7063571810722351, 0.7898472547531128, 0.6846233010292053, 0.7305675148963928, 0.7305675148963928, 0.6846233010292053, 0.7063571214675903, 0.6846233010292053, 0.7121214866638184, 0.7305675148963928, 0.8774421215057373, 0.7356964945793152, 0.7730231285095215, 0.8189936280250549, 0.8190187811851501, 0.7486715316772461, 0.7730231285095215, 0.6914693117141724, 0.8189935684204102, 0.7121216058731079, 0.7696486711502075, 0.7486715316772461, 0.7730231285095215, 0.7063571810722351, 0.7305675148963928, 0.7696486711502075, 0.7486715316772461, 0.7063571214675903, 0.6846233010292053, 0.7730231285095215, 0.7486715316772461, 0.7898472547531128, 0.8774423003196716, 0.6846233010292053, 0.7121214866638184, 0.7121216058731079, 0.7730231285095215, 0.7063571214675903, 0.7063571214675903, 0.7063571214675903, 0.7730231285095215, 0.6914693117141724, 0.7730231285095215, 0.6846233010292053, 0.6846233010292053, 0.6914693117141724, 0.7063571810722351, 0.7063571214675903, 0.7063571810722351, 0.8189936280250549, 0.7696486711502075, 0.6846233010292053, 0.73569655418396, 0.8189935684204102, 0.7356964945793152, 0.7121216058731079, 0.7696486711502075, 0.7121214866638184, 0.8866977691650391, 0.6846233010292053, 0.7356964945793152, 0.7898472547531128, 0.7696486711502075, 0.7305675148963928, 0.6914693117141724, 0.7121216058731079, 0.6914693713188171, 0.8861885666847229, 0.7486715316772461, 0.6846233010292053, 0.7356964945793152, 0.6914693713188171, 0.7121216058731079, 0.7121216058731079, 0.7696486711502075, 0.6846233010292053, 0.6914693117141724, 0.6846233010292053, 0.7356964945793152, 0.8866977691650391, 0.8866977691650391, 0.8189936280250549, 0.7486715316772461, 0.7121216058731079, 0.8861885666847229, 0.8774423003196716, 0.7730231285095215, 0.7730231285095215, 0.6846233010292053, 0.7898472547531128, 0.6846233010292053, 0.7356964945793152, 0.73569655418396, 0.6914693117141724, 0.7305675148963928, 0.7121216058731079, 0.7486715316772461, 0.6914693713188171, 0.7696486711502075, 0.7063571810722351, 0.8189935684204102, 0.7730231285095215, 0.7305675148963928, 0.7121215462684631, 0.7305675148963928, 0.7696486711502075, 0.6846233010292053, 0.7696486711502075, 0.7121214866638184, 0.6914693117141724, 0.7486715316772461, 0.7063571810722351, 0.7896991968154907, 0.020527856424450874, 0.013685236684978008, 0.003421309171244502, 0.1163245141506195, 0.030791783705353737, 0.04105571284890175, 0.08895403891801834, 0.010263928212225437, 0.04105571284890175, 0.5474094748497009, 0.08553273230791092, 0.6556867957115173, 0.8774423003196716, 0.7063571214675903, 0.8895562291145325, 0.6846233010292053, 0.8774423003196716, 0.7356964945793152, 0.8861885666847229, 0.6914693117141724, 0.918721079826355, 0.7486715316772461, 0.8774423003196716, 0.73569655418396, 0.7356964945793152, 0.7063571810722351, 0.7305675148963928, 0.9216639995574951, 0.8861885666847229, 0.7121215462684631, 0.7356964945793152, 0.7486715316772461, 0.7486715316772461, 0.8782891035079956, 0.9759401082992554, 0.7063571810722351, 0.6846233010292053, 0.7305675148963928, 0.7305675148963928, 0.7121216058731079, 0.7356964945793152, 0.6846233010292053, 0.7121216058731079, 0.7356964945793152, 0.7730231285095215, 0.7730231285095215, 0.6914693117141724, 0.46063512563705444, 0.46063512563705444, 0.21590198576450348, 0.7916406393051147, 0.7305675148963928, 0.7730231285095215, 0.8189935684204102, 0.8189935684204102, 0.7730231285095215, 0.6846233010292053, 0.4932476878166199, 0.2200624644756317, 0.6601874232292175, 0.8782891035079956, 0.7063571214675903, 0.7696486711502075, 0.7696486711502075, 0.6846233010292053, 0.6846233010292053, 0.8863908648490906, 0.12662726640701294, 0.7898472547531128, 0.7486715316772461, 0.7486715316772461, 0.8774423003196716, 0.8866977691650391, 0.36045578122138977, 0.36045578122138977, 0.36045578122138977, 0.8861885666847229, 0.8360195755958557, 0.06966829299926758, 0.7305675148963928, 0.7486715316772461, 0.8866977691650391, 0.7063571810722351, 0.8189935684204102, 0.7896973490715027, 0.7897185683250427, 0.4692871868610382, 0.4692871868610382, 0.6846233010292053, 0.3521351218223572, 0.3521351218223572, 0.3521351218223572, 0.7305675148963928, 0.8866977691650391, 0.7121214866638184, 0.846442461013794, 0.7486715316772461, 0.7356964945793152, 0.7305675148963928, 0.7730231285095215, 0.7063571810722351, 0.49326229095458984, 0.9216615557670593, 0.5624388456344604, 0.5624388456344604, 0.7730231285095215, 0.8189935684204102, 0.846442461013794, 0.7356964945793152, 0.7730231285095215, 0.7898472547531128, 0.9759396314620972, 0.7305675148963928, 0.7307940721511841, 0.20879830420017242, 0.7121216058731079, 0.7486715316772461, 0.25860387086868286, 0.5172077417373657, 0.9841387271881104, 0.7121216058731079, 0.6846233010292053, 0.5295294523239136, 0.6914693117141724, 0.6846233010292053, 0.7486715316772461, 0.8189936280250549, 0.8774423003196716, 0.7898472547531128, 0.8774423003196716, 0.6846233010292053, 0.7696486711502075, 0.8189936280250549, 0.73569655418396, 0.8866977691650391, 0.7486715316772461, 0.2157619297504425, 0.431523859500885, 0.431523859500885, 0.7356964945793152, 0.7898472547531128, 0.43419861793518066, 0.21709930896759033, 0.43419861793518066, 0.7305675148963928, 0.47666412591934204, 0.6914693713188171, 0.7696486711502075, 0.7356964945793152, 0.7063571810722351, 0.9216678738594055, 0.7063571214675903, 0.7121215462684631, 0.2996349334716797, 0.2996349334716797, 0.2996349334716797, 0.8189936280250549, 0.7696486711502075, 0.7898472547531128, 0.8866977691650391, 0.7305675148963928, 0.7121216058731079, 0.7121214866638184, 0.8774423003196716, 0.7730231285095215, 0.2672470211982727, 0.5344940423965454, 0.8866978883743286, 0.2720666229724884, 0.5441332459449768, 0.2720666229724884, 0.6914693713188171, 0.26489028334617615, 0.5297805666923523, 0.7696486711502075, 0.7486715316772461, 0.9616975784301758, 0.9841042757034302, 0.7696486711502075, 0.7356964945793152, 0.7063571810722351, 0.9696930646896362, 0.7305675148963928, 0.7305675148963928, 0.7730231285095215, 0.4419354200363159, 0.4419354200363159, 0.9364886283874512, 0.8866977691650391, 0.5982398986816406, 0.4486798942089081, 0.7121216058731079, 0.6846233010292053, 0.846442461013794, 0.6846233010292053, 0.6914693117141724, 0.8190136551856995, 0.8774421215057373, 0.7121216058731079, 0.6846233010292053, 0.6846233010292053, 0.7121216058731079, 0.7896938920021057, 0.49428433179855347, 0.49428433179855347, 0.6556456089019775, 0.45958206057548523, 0.45958206057548523, 0.7121216058731079, 0.7486715316772461, 0.7486715316772461, 0.6846233010292053, 0.6914693117141724, 0.7356964945793152, 0.7356964945793152, 0.8774423003196716, 0.73569655418396, 0.8189935684204102, 0.8866977691650391, 0.7486715316772461, 0.6846233010292053, 0.7898472547531128, 0.7898472547531128, 0.6914693117141724, 0.6846233010292053, 0.7898472547531128, 0.7305675148963928, 0.8774423003196716, 0.6914693117141724, 0.7356964945793152, 0.7063571214675903, 0.7121214866638184, 0.7305675148963928, 0.6846233010292053, 0.7730231285095215, 0.46460670232772827, 0.46460670232772827, 0.7063571214675903, 0.7356964945793152, 0.4745330810546875, 0.4745330810546875, 0.8189935684204102, 0.6846233010292053, 0.6846233010292053, 0.6846233010292053, 0.8189935684204102, 0.7305675148963928, 0.7063571214675903, 0.846442461013794, 0.7486715316772461, 0.7121216058731079, 0.49326229095458984, 0.7730231285095215, 0.6846233010292053, 0.73569655418396, 0.38247931003570557, 0.38247931003570557, 0.7305675148963928, 0.7730231285095215, 0.6846233010292053, 0.5146242380142212, 0.7486715316772461, 0.7730231285095215, 0.7898472547531128, 0.7121214866638184, 0.7063571214675903, 0.7063571214675903, 0.7063571810722351, 0.3487502932548523, 0.3487502932548523, 0.3487502932548523, 0.10190117359161377, 0.8152093887329102, 0.7486715316772461, 0.6846233010292053, 0.7356964945793152, 0.7730231285095215, 0.9720959663391113, 0.6914693117141724, 0.73569655418396, 0.7730231285095215, 0.7486715316772461, 0.7486715316772461, 0.7356964945793152, 0.18623100221157074, 0.744924008846283, 0.22318489849567413, 0.44636979699134827, 0.47666412591934204, 0.8774423003196716, 0.6914693117141724, 0.7486715316772461, 0.7305675148963928, 0.45742884278297424, 0.22871442139148712, 0.22871442139148712, 0.22871442139148712, 0.7486715316772461, 0.7063571810722351, 0.6914693117141724, 0.8189935684204102, 0.7356964945793152, 0.7063571810722351, 0.6914693117141724, 0.06088307127356529, 0.18264921009540558, 0.5479476451873779, 0.12176614254713058, 0.06088307127356529, 0.06088307127356529, 0.7730231285095215, 0.7730231285095215, 0.6846233010292053, 0.27984118461608887, 0.27984118461608887, 0.27984118461608887, 0.27984118461608887, 0.8861885666847229, 0.7730231285095215, 0.6846233010292053, 0.6914693117141724, 0.7898472547531128, 0.6846233010292053, 0.7486715316772461, 0.7305675148963928, 0.6556867957115173, 0.7898472547531128, 0.7356964945793152, 0.2661975622177124, 0.2661975622177124, 0.5323951244354248, 0.7486715316772461, 0.6846233010292053, 0.7897167801856995, 0.5116374492645264, 0.7356964945793152, 0.5264778733253479, 0.5264778733253479, 0.03642315790057182, 0.655616819858551, 0.2913852632045746, 0.7063571214675903, 0.918721079826355, 0.5426063537597656, 0.5426063537597656, 0.7305675148963928, 0.7696486711502075, 0.3835487365722656, 0.3835487365722656, 0.3835487365722656, 0.7898472547531128, 0.7730231285095215, 0.7486715316772461, 0.7730231285095215, 0.6914693117141724, 0.7356964945793152, 0.6914693117141724, 0.5047332644462585, 0.5047332644462585, 0.7121216058731079, 0.73569655418396, 0.7898472547531128, 0.7305675148963928, 0.7356964945793152, 0.7730231285095215, 0.7730231285095215, 0.789706826210022, 0.7486715316772461, 0.6846233010292053, 0.8866977691650391, 0.8774423003196716, 0.7063571214675903, 0.7486715316772461, 0.7486715316772461, 0.7696486711502075, 0.7730231285095215, 0.7063571810722351, 0.8866977691650391, 0.8861885666847229, 0.7305675148963928, 0.6846233010292053, 0.10190117359161377, 0.8152093887329102, 0.6846233010292053, 0.6846233010292053, 0.6846233010292053, 0.7730231285095215, 0.8189935684204102, 0.6846233010292053, 0.6846233010292053, 0.5294861197471619, 0.07975208759307861, 0.07975208759307861, 0.5582646131515503, 0.23925626277923584, 0.8866977691650391, 0.6846233010292053, 0.7305675148963928, 0.7696486711502075, 0.5146242380142212, 0.7696486711502075, 0.7486715316772461, 0.6846233010292053, 0.6846233010292053, 0.3619503080844879, 0.3619503080844879, 0.3619503080844879, 0.918721079826355, 0.31033021211624146, 0.03448113426566124, 0.6206604242324829, 0.9550541043281555, 0.7696486711502075, 0.7356964945793152, 0.523201048374176, 0.523201048374176, 0.7486715316772461, 0.7730231285095215, 0.7696486711502075, 0.918721079826355, 0.7063571214675903, 0.6846233010292053, 0.7356964945793152, 0.7063571214675903, 0.7305675148963928, 0.7305675148963928, 0.7356964945793152, 0.36194556951522827, 0.36194556951522827, 0.36194556951522827, 0.7305675148963928, 0.7063571214675903, 0.7356964945793152, 0.7486715316772461, 0.7696486711502075, 0.4820594787597656, 0.7063571810722351, 0.7356964945793152, 0.8866977691650391, 0.8866977691650391, 0.7121214866638184, 0.8420019745826721, 0.742908239364624, 0.21225948631763458, 0.7356964945793152, 0.8560019731521606, 0.6556456089019775, 0.4745330810546875, 0.4745330810546875, 0.7730231285095215, 0.10190117359161377, 0.8152093887329102, 0.7063571214675903, 0.8774423003196716, 0.8866977691650391, 0.7486715316772461, 0.39635634422302246, 0.39635634422302246, 0.7898472547531128, 0.73569655418396, 0.13939683139324188, 0.5575873255729675, 0.13939683139324188, 0.13939683139324188, 0.6914693117141724, 0.7897016406059265, 0.73569655418396, 0.8970471024513245, 0.08970470726490021, 0.7898472547531128, 0.9759369492530823, 0.11636370420455933, 0.8145459294319153, 0.11636370420455933, 0.7696486711502075, 0.7730231285095215, 0.9569840431213379, 0.14306843280792236, 0.07153421640396118, 0.14306843280792236, 0.07153421640396118, 0.07153421640396118, 0.14306843280792236, 0.14306843280792236, 0.07153421640396118, 0.07153421640396118, 0.07153421640396118, 0.6846233010292053, 0.8774423003196716, 0.7356964945793152, 0.9720959663391113, 0.7356964945793152, 0.8866977691650391, 0.6846233010292053, 0.7305675148963928, 0.26146799325942993, 0.7844040393829346, 0.7730231285095215, 0.7898472547531128, 0.5023138523101807, 0.5023138523101807, 0.6556456089019775, 0.3450827896595001, 0.6901655793190002, 0.6914693117141724, 0.8774423003196716, 0.7121216058731079, 0.7305675148963928, 0.7846992015838623, 0.08718879520893097, 0.08718879520893097, 0.08718879520893097, 0.7305675148963928, 0.8420019745826721, 0.8033083081245422, 0.11475832760334015, 0.7063571810722351, 0.8861885666847229, 0.7305675148963928, 0.7305675148963928, 0.7356964945793152, 0.8774423003196716, 0.6846233010292053, 0.7305675148963928, 0.6914693117141724, 0.7063571810722351, 0.7730231285095215, 0.7063571810722351, 0.3048063814640045, 0.3048063814640045, 0.3048063814640045, 0.5391262769699097, 0.5391262769699097, 0.8866977691650391, 0.7486715316772461, 0.7063571810722351, 0.6846233010292053, 0.8783341646194458, 0.7696486711502075, 0.7121214866638184, 0.8774423003196716, 0.6846233010292053, 0.8866977691650391], \"Term\": [\"\\\",2018\", \"\\\",2018\", \"\\\",2018\", \"\\\",2018\", \"\\\",2018\", \"\\\",2018\", \"\\\",2018\", \"\\\",2018\", \"\\\",2018\", \"\\\",2018\", \"\\\",2018\", \"\\\",2018\", \"\\\",2018\", \",13.0,hawley,1054366029193740000.0\", \",2018\", \",2018\", \",2018\", \",2018\", \",2018\", \",2018\", \",2018\", \",2018\", \",2018\", \".0,mccaskill,1053022814989690000.0\", \".@clairecmc\", \".@clairecmc\", \".@mccaskill4mo\", \".@rosenfornevada\", \"00:04:58,resist&vote!,3908.0,nelson,1053859665333960000.0\", \"00:05:03,analyyst2020,53.0,mccaskill,1052772522540890000.0\", \"00:05:35,evoraist,3908.0,nelson,1053859820309280000.0\", \"00:07:08,diane\", \"00:11:28,kay,3908.0,nelson,1053861302605620000.0\", \"00:15:37,buffy\", \"00:19:31,judy\", \"00:34:53,rina\", \"01:27:52,david\", \"01:41:40,never\", \"01:42:04,marilyn\", \"01:58:45,cindy\", \"02:54:27,??victoria\", \"03:05:26,live\", \"03:17:27,onanotherplanet,3908.0,nelson,1053908104151210000.0\", \"03:24:13,rosie\", \"03:55:47,joyce\", \"04:49:51,dolores\", \"06:55:58,jeremy\", \"07:01:18,pat\", \"07:01:33,jim\", \"07:12:41,sandra\", \"07:32:23,greg\", \"07:38:43,julie\", \"07:49:47,oldestdaughterof5,807.0,nelson,1053976640886400000.0\", \"08:38:10,vote\", \"08:38:30,valerie\", \"08:49:47,rachel\", \"08:55:21,toby\", \"08:58:38,maria\", \"09:05:57,tanha,3908.0,nelson,1053995808058700000.0\", \"09:07:27,????vote\", \"09:37:05,trumps\", \"09:37:41,lisa\", \"09:39:08,rac\", \"105.3\", \"10:17:48,gayle\", \"10:24:41,randy\", \"10:40:32,maddie\", \"10:44:11,greg\", \"10:44:59,mobileinfantry,.0,rosen,1054383119829270000.0\", \"10:45:19,larry\", \"10:51:57,ryan\", \"10:53:49,mg,4098.0,rosen,1054385342063640000.0\", \"10;#bootheelmatters&#10;#mosen\", \"10;@julie_kelly2\", \"10;bobby\", \"10;i&#39;ll\", \"10;you\", \"11/6,1.0,nelson,1054076825079550000.0\", \"11:03:50,greg\", \"11:10:09,michelle\", \"11:13:39,jrohrich,3908.0,nelson,1054027945558240000.0\", \"11:24:15,gwen\", \"11:54:35,conspiracy\", \"12:00:58,ed\", \"12:01:03,carolyn\", \"12:09:55,deborah\", \"12:18:38,jerry\", \"12:18:48,~\", \"12:20:42,((mrwvotenov.6)),618.0,nelson,1054044818324620000.0\", \"12:26:47,lasha,259.0,nelson,1054046350340320000.0\", \"12:36:49,jd,.0,mccaskill,1052961710875780000.0\", \"12:38:02,jcwirish,4098.0,rosen,1054411566727090000.0\", \"12:45:55,john\", \"12:46:20,cocoathepuff,1816.0,rosen,1054413656165920000.0\", \"12:56:30,janis\", \"13:15:24,senecatrust,618.0,nelson,1054058581962580000.0\", \"13:15:50,steve\", \"13:26:51,browns\", \"13:27:27,chris\", \"13:30:48,jennifer\", \"13:34:27,jeff\", \"13:45:38,bruce\", \"14:05:51,jbean,62.0,nelson,1054071279408550000.0\", \"14:07:42,britin17k,143.0,rosen,1054434133370240000.0\", \"14:13:26,blue\", \"14:14:06,ramesh\", \"14:16:54,dirk\", \"14:28:25,bruce\", \"14:42:22,z,4098.0,rosen,1054442858357440000.0\", \"15:09:31,ronabarbar,4098.0,rosen,1054449691931360000.0\", \"15:10:50,maldenite,76.0,mccaskill,1052638080644070000.0\", \"15:13:34,vintageport,.0,rosen,1054450710354580000.0\", \"15:16:16,nancyl,70.0,nelson,1054088999587990000.0\", \"15:25:50,for\", \"15:31:03,chris,.0,nelson,1054817497860370000.0\", \"15:47:58,africanlady\", \"15:53:45,grandpa\", \"15:58:00,doris\", \"16:00:00,tosha#vote\", \"16:00:26,martha\", \"16:04:25,adegboyega\", \"16:13:20,leiashadowqueen\", \"16:39:37,kathy\", \"16:53:33,sharon\", \"17:06:17,bigmike??????,37.0,nelson,1054116689430960000.0\", \"17:27:35,soccer\", \"17:27:55,stephen\", \"17:30:10,jacqueline,30.0,mccaskill,1053035532660430000.0\", \"17:33:47,maryelizabeth\", \"19:25:02,mike\", \"19:51:34,royal\", \"20:02:27,jim\", \"20:15:18,nestor\", \"20:17:37,vote\", \"20:33:23,chuck\", \"21:51:57,blackcatsoda,.0,scott,1054188579809910000.0\", \"22:08:09,r.b.,316.0,mccaskill,1052743103403190000.0\", \"22:12:34,rab\", \"22:31:49,laura\", \"22:51:29,shelbyjak,.0,nelson,1053841171464650000.0\", \"23:25:20,teri\", \"23:36:43,ahclarice\", \"3908.0,nelson,1053865869368090000.0\", \"4098.0,rosen,1054366180637600000.0\", \"4098.0,rosen,1054384871542580000.0\", \"6,.0,mccaskill,1052539265056460000.0\", \"6????#resistance##basta#,210.0,mccaskill,1054824780812250000.0\", \"6th????,79.0,rosen,1054358572644160000.0\", \"712.00\", \"SCREEN_NAME\", \"SCREEN_NAME\", \"SCREEN_NAME\", \"SCREEN_NAME\", \"SCREEN_NAME\", \"SCREEN_NAME\", \"SCREEN_NAME\", \"SCREEN_NAME\", \"SCREEN_NAME\", \"SCREEN_NAME\", \"SCREEN_NAME\", \"abide\", \"ability\", \"abortion&#10;#ondeck\", \"accept\", \"action\", \"actively\", \"actually\", \"adebayo,30.0,nelson,1054101116890300000.0\", \"alike\", \"almost\", \"always\", \"another\", \"answer\", \"arm\", \"asleep\", \"attention\", \"back\", \"ballot\", \"balls,2018\", \"baptist\", \"barry\", \"barry,1.0,mccaskill,1052932445128020000.0\", \"beautiful\", \"believe\", \"bellinger,3908.0,nelson,1053860211042250000.0\", \"bethechange\", \"betray\", \"billnelson\", \"binning,29.0,mccaskill,1052711468599260000.0\", \"birth\", \"bloomberg\", \"bogan,4098.0,rosen,1054354127860520000.0\", \"bolster\", \"bootheel\", \"boston\", \"bother\", \"break\", \"break\", \"breaking\", \"breaking\", \"brown,1144.0,scott,1054212080553940000.0\", \"bundy\", \"busin\", \"business\", \"businessmen\", \"calling\", \"campaign\", \"candidate\", \"candidate\", \"canvass\", \"caravaninvasion\", \"carlo,1.0,mccaskill,1052719254645210000.0\", \"carnahan,147.0,nelson,1054061614805240000.0\", \"cartwright,3908.0,nelson,1054013887249410000.0\", \"casualty\", \"catch\", \"catch\", \"check\", \"checkout\", \"china\", \"christian\", \"citizen\", \"claire\", \"claire\", \"claire\", \"clark\", \"close\", \"close\", \"closer\", \"coat,.0,mccaskill,1053077090671700000.0\", \"collins\", \"collusion,58.0,nelson,1054038246370340000.0\", \"come\", \"comedian\", \"comedian,1.0,rosen,1054396382541270000.0\", \"committee\", \"committee\", \"community\", \"conditions\", \"conditions\", \"conditions\", \"constituent\", \"constitutional\", \"consumer\", \"continue\", \"control\", \"convention\", \"cooper\", \"corrupt\", \"corruption\", \"count\", \"country\", \"county\", \"county\", \"course\", \"curl,4098.0,rosen,1054351288559790000.0\", \"cutting\", \"cybersecuri\", \"daily\", \"debunked,&quot\", \"deceive\", \"deception\", \"defend\", \"defend\", \"definition\", \"democracy\", \"democrat\", \"democrat\", \"democratic\", \"depend\", \"deport\", \"destroy\", \"di,488.0,rosen,1054461120482710000.0\", \"diaz,3908.0,nelson,1053884100501780000.0\", \"dibi,3908.0,nelson,1053993966939620000.0\", \"dickson,91.0,nelson,1053967303711360000.0\", \"didn&#39;t\", \"difficult\", \"discriminate\", \"diverse\", \"do.\\\",2018\", \"donovan,1816.0,rosen,1054404491192090000.0\", \"dorsey,43.0,mccaskill,1053036444896370000.0\", \"dreamer\", \"dumpster\", \"early\", \"early\", \"early\", \"earth\", \"edit\", \"elect\", \"elect\", \"elect\", \"em\\u00b7pa\\u00b7thy\", \"ending\", \"endorse\", \"enjoy\", \"enrage\", \"enthusiastic\", \"entire\", \"et&#10;1380am\", \"ethical\", \"everything\", \"everything\", \"everything\", \"ewing,1816.0,rosen,1054461893312720000.0\", \"excite\", \"exist\", \"expelling\", \"expose\", \"family\", \"farmer\", \"feelings\", \"ferrell\", \"fight\", \"fight\", \"flipthehouse\", \"flipthesenate\", \"flipthesenate\", \"flipthesenate\", \"flori\", \"florida\", \"florida\", \"floridian\", \"flynn,3908.0,nelson,1053973854786330000.0\", \"focus\", \"follow\", \"fuhr,547.0,rosen,1054413554038820000.0\", \"fuller\", \"funding\", \"future\", \"getting\", \"giving\", \"globe\", \"going\", \"going\", \"governor\", \"grandpa\", \"great\", \"great\", \"grierson,1816.0,rosen,1054462505660100000.0\", \"grossman,3908.0,nelson,1053863325526910000.0\", \"growing\", \"growth\", \"guilty\", \"hainault,1274.0,mccaskill,1052522707751850000.0\", \"happold,1274.0,mccaskill,1052513546284620000.0\", \"hardly\", \"harper\", \"harper,1.0,hawley,1054383200464710000.0\", \"hartman,1816.0,rosen,1054428579306630000.0\", \"hawaiian\", \"hawley\", \"hawley\", \"health\", \"healthcare\", \"healthcare\", \"healthy\", \"hearts\", \"higher\", \"hint\", \"history\", \"honor\", \"house\", \"human\", \"hundred\", \"hurting\", \"hutton,618.0,nelson,1054053828843070000.0\", \"hypocritehawley\", \"illegals\", \"impeachkavanaugh,2018\", \"impeachtrumpandpencenow\", \"inclusion\", \"individual\", \"information\", \"infuriate\", \"intersectional\", \"invasion\", \"it,2018\", \"jamal\", \"johncke\", \"johnson,2601.0,nelson,1053836222903180000.0\", \"join\", \"kathy\", \"kavanaugh\", \"kavanaugh\", \"khashoggi\", \"killing\", \"know\", \"know\", \"lack\", \"larry\", \"laugh,87.0,nelson,1053905079479270000.0\", \"laxalt,3.0,heller,1054159858113470000.0\", \"leaders\", \"leadership\", \"leatherman\", \"legacy\", \"liar!,2018\", \"life\", \"light\", \"like\", \"limbaugh\", \"listen\", \"local\", \"local\", \"locs,3908.0,nelson,1053862826933130000.0\", \"loose\", \"loranc,3908.0,nelson,1054122131758420000.0\", \"louis\", \"maddie\", \"maga,672.0,scott,1054193765001420000.0\", \"make\", \"manufacturer\", \"martin\", \"martin,3.0,hawley,1054402239639490000.0\", \"mattos,20.0,rosen,1054402262544440000.0\", \"mccaskill\", \"mccaskill\", \"mccaskill\", \"mcconnell\", \"mcconnell\", \"mcscakill\", \"medium\", \"member\", \"miami\", \"midterm\", \"midtermelections&quot;\\\",2018\", \"mile\", \"militia\", \"minus\", \"minus,.0,hawley,1054366545999250000.0\", \"missionary\", \"missouri\", \"missouri\", \"missourian\", \"missourian\", \"mitch\", \"mobileinfantry\", \"modern\", \"mom,40.0,mccaskill,1052623638858540000.0\", \"money\", \"morning\", \"morning\", \"morning\", \"morning\", \"mosen\", \"much!\", \"murk,174.0,mccaskill,1053064441657510000.0\", \"myers\", \"nation\", \"neeff,3908.0,nelson,1053880528544430000.0\", \"nelson,70.0,nelson,1054063376932830000.0\", \"nevada\", \"nevada\", \"nevada\", \"nevada\", \"nevada\", \"nevada\", \"newspaper\", \"nicholas\", \"nope,2018\", \"november\", \"november\", \"november\", \"november\", \"numbers\", \"nutjob\", \"nv,6.0,heller,1054816184275690000.0\", \"offer\", \"often\", \"organization\", \"out??????and\", \"outright\", \"owner\", \"o\\u2019keefe\", \"partial\", \"party\", \"party\", \"party\", \"pay\", \"pendakur,33.0,nelson,1054073356033630000.0\", \"pension\", \"people\", \"photo\", \"place\", \"place\", \"please\", \"please\", \"please\", \"political\", \"politico\", \"poll\", \"poll\", \"potus\", \"president\", \"price\", \"price\", \"price\", \"price,.0,mccaskill,1052570975626240000.0\", \"price,.0,mccaskill,1052575921352470000.0\", \"prof\", \"profit\", \"progressive\", \"prometheus\", \"promise\", \"protect\", \"protect\", \"protection\", \"question\", \"quot;&quot\", \"quot;.@clairecmc\", \"quot;@nelsonforsenate\", \"quot;claire\", \"quot;disarm\", \"quot;godbless\", \"quot;gop\", \"quot;i\", \"quot;i&#39;m\", \"quot;if\", \"quot;join\", \"quot;spare\", \"rachel\", \"rally\", \"ramos,618.0,nelson,1054113483715940000.0\", \"ray,3908.0,nelson,1053867194013180000.0\", \"ready\", \"record\", \"redxx,.0,rosen,1054424845172270000.0\", \"regardless\", \"reign\", \"reign\", \"remember\", \"ren'ee,27.0,mccaskill,1052939899047960000.0\", \"represent\", \"representation\", \"resident\", \"responsibility\", \"responsible\", \"retirement\", \"right\", \"right\", \"right\", \"right\", \"risenvote\", \"rising\", \"royal\", \"salter,3908.0,nelson,1053993139906670000.0\", \"scheve\", \"schram,618.0,nelson,1054044296503090000.0\", \"schumer\", \"scott\", \"sebastian,3908.0,nelson,1053909809496490000.0\", \"security\", \"security\", \"security\", \"senat\", \"senate\", \"senate\", \"senate\", \"senator\", \"sensible\", \"services\", \"share\", \"share\", \"shining\", \"shooter\", \"shooting\", \"show\", \"sides&#10;china\", \"slayer,3908.0,nelson,1053862344185370000.0\", \"slip\", \"smf2pcskze\", \"smile\", \"smiles,4.0,mccaskill,1053071118750440000.0\", \"soap.,2018\", \"social\", \"social\", \"social\", \"sorry\", \"speak\", \"spezbeau,1.0,nelson,1054074062471940000.0\", \"spinning\", \"springfield\", \"state\", \"stay?,2018\", \"steps\", \"steve\", \"steve,.0,mccaskill,1052648882763690000.0\", \"still\", \"strong\", \"support\", \"support\", \"take\", \"taking\", \"tampa\", \"tariff\", \"tariff\", \"tellep,3908.0,nelson,1053964503224930000.0\", \"terror\", \"terror\", \"themovement\", \"theory\", \"they&#39;re\", \"thing\", \"think\", \"think\", \"thoughts,.0,mccaskill,1053034882715180000.0\", \"thousand\", \"today\", \"today\", \"today\", \"today\", \"tomorrow\", \"transfer\", \"travel\", \"trump\", \"trump\", \"trump,3908.0,nelson,1053883998772950000.0\", \"truth\", \"try\", \"try\", \"try\", \"tuesday\", \"turn\", \"turnout\", \"twitter\", \"twitter\", \"twitter\", \"twitter\", \"twitter\", \"twitter\", \"twitter\", \"twitter\", \"twitter\", \"twitter\", \"txsen\", \"understand\", \"unite4victory,3908.0,nelson,1053964437365840000.0\", \"upcoming\", \"uphold\", \"upset\", \"vegan\", \"vestrich,3908.0,nelson,1053931356655380000.0\", \"veteran\", \"veteran\", \"vetsvote/@votevets,3908.0,nelson,1054015621028030000.0\", \"victim,1816.0,rosen,1054423852980360000.0\", \"video\", \"video\", \"volunteer\", \"vote\", \"vote\", \"voteblue\", \"voteblue2018,80.0,nelson,1054103360947810000.0\", \"votebluetosaveamerica\", \"votehimout\", \"voter\", \"voter\", \"voter\", \"voter\", \"voterickscott\", \"voting\", \"want\", \"want\", \"washington\", \"washoe\", \"wave!,2018\", \"wealthy\", \"wearethepatriots,2.0,rosen,1054421078775340000.0\", \"white\", \"whitewash\", \"willing\", \"within\", \"without\", \"won&#39;t\", \"wonder\", \"worth\", \"worth\", \"worth\", \"would\", \"would\", \"wrong\", \"you&#39;re\", \"yucca\", \"~,618.0,nelson,1054044339092030000.0\", \"\\u03bc\\u03bf\\u03bb\\u1f7c\\u03bd\", \"\\ufe0f,240.0,scott,1054214944839950000.0\", \"\\ufe0f????,3908.0,nelson,1053917752052740000.0\", \"\\ufe0f????\\ufe0f\\u200d\", \"\\ufe0f??happy\", \"\\ufe0fbluewave??????????,295.0,rosen,1054459364407300000.0\"]}, \"R\": 30, \"lambda.step\": 0.01, \"plot.opts\": {\"xlab\": \"PC1\", \"ylab\": \"PC2\"}, \"topic.order\": [1, 2, 3, 4, 5, 6, 7, 8, 9, 10, 11, 12, 13, 14, 15]};\n",
       "\n",
       "function LDAvis_load_lib(url, callback){\n",
       "  var s = document.createElement('script');\n",
       "  s.src = url;\n",
       "  s.async = true;\n",
       "  s.onreadystatechange = s.onload = callback;\n",
       "  s.onerror = function(){console.warn(\"failed to load library \" + url);};\n",
       "  document.getElementsByTagName(\"head\")[0].appendChild(s);\n",
       "}\n",
       "\n",
       "if(typeof(LDAvis) !== \"undefined\"){\n",
       "   // already loaded: just create the visualization\n",
       "   !function(LDAvis){\n",
       "       new LDAvis(\"#\" + \"ldavis_el132731124942445126437072168\", ldavis_el132731124942445126437072168_data);\n",
       "   }(LDAvis);\n",
       "}else if(typeof define === \"function\" && define.amd){\n",
       "   // require.js is available: use it to load d3/LDAvis\n",
       "   require.config({paths: {d3: \"https://cdnjs.cloudflare.com/ajax/libs/d3/3.5.5/d3.min\"}});\n",
       "   require([\"d3\"], function(d3){\n",
       "      window.d3 = d3;\n",
       "      LDAvis_load_lib(\"https://cdn.rawgit.com/bmabey/pyLDAvis/files/ldavis.v1.0.0.js\", function(){\n",
       "        new LDAvis(\"#\" + \"ldavis_el132731124942445126437072168\", ldavis_el132731124942445126437072168_data);\n",
       "      });\n",
       "    });\n",
       "}else{\n",
       "    // require.js not available: dynamically load d3 & LDAvis\n",
       "    LDAvis_load_lib(\"https://cdnjs.cloudflare.com/ajax/libs/d3/3.5.5/d3.min.js\", function(){\n",
       "         LDAvis_load_lib(\"https://cdn.rawgit.com/bmabey/pyLDAvis/files/ldavis.v1.0.0.js\", function(){\n",
       "                 new LDAvis(\"#\" + \"ldavis_el132731124942445126437072168\", ldavis_el132731124942445126437072168_data);\n",
       "            })\n",
       "         });\n",
       "}\n",
       "</script>"
      ],
      "text/plain": [
       "<IPython.core.display.HTML object>"
      ]
     },
     "execution_count": 16,
     "metadata": {},
     "output_type": "execute_result"
    }
   ],
   "source": [
    "\n",
    "import pyLDAvis.gensim\n",
    "lda_display = pyLDAvis.gensim.prepare(lda, corpus, dictionary, sort_topics=False)\n",
    "pyLDAvis.display(lda_display)\n",
    "    "
   ]
  },
  {
   "cell_type": "code",
   "execution_count": null,
   "metadata": {},
   "outputs": [],
   "source": []
  }
 ],
 "metadata": {
  "kernelspec": {
   "display_name": "Python 3",
   "language": "python",
   "name": "python3"
  },
  "language_info": {
   "codemirror_mode": {
    "name": "ipython",
    "version": 3
   },
   "file_extension": ".py",
   "mimetype": "text/x-python",
   "name": "python",
   "nbconvert_exporter": "python",
   "pygments_lexer": "ipython3",
   "version": "3.6.6"
  }
 },
 "nbformat": 4,
 "nbformat_minor": 2
}
